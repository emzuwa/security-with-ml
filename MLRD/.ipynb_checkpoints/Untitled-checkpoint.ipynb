{
 "cells": [
  {
   "cell_type": "code",
   "execution_count": 1,
   "id": "extensive-orientation",
   "metadata": {},
   "outputs": [
    {
     "name": "stderr",
     "output_type": "stream",
     "text": [
      "C:\\Users\\Mustapha\\anaconda3\\envs\\tf\\lib\\site-packages\\xgboost\\compat.py:31: FutureWarning: pandas.Int64Index is deprecated and will be removed from pandas in a future version. Use pandas.Index with the appropriate dtype instead.\n",
      "  from pandas import MultiIndex, Int64Index\n"
     ]
    }
   ],
   "source": [
    "import pandas as pd\n",
    "import xgboost\n",
    "import warnings\n",
    "warnings.filterwarnings('ignore')"
   ]
  },
  {
   "cell_type": "code",
   "execution_count": 2,
   "id": "incorporated-climb",
   "metadata": {},
   "outputs": [
    {
     "data": {
      "text/html": [
       "<div>\n",
       "<style scoped>\n",
       "    .dataframe tbody tr th:only-of-type {\n",
       "        vertical-align: middle;\n",
       "    }\n",
       "\n",
       "    .dataframe tbody tr th {\n",
       "        vertical-align: top;\n",
       "    }\n",
       "\n",
       "    .dataframe thead th {\n",
       "        text-align: right;\n",
       "    }\n",
       "</style>\n",
       "<table border=\"1\" class=\"dataframe\">\n",
       "  <thead>\n",
       "    <tr style=\"text-align: right;\">\n",
       "      <th></th>\n",
       "      <th>FileName</th>\n",
       "      <th>md5Hash</th>\n",
       "      <th>Machine</th>\n",
       "      <th>DebugSize</th>\n",
       "      <th>DebugRVA</th>\n",
       "      <th>MajorImageVersion</th>\n",
       "      <th>MajorOSVersion</th>\n",
       "      <th>ExportRVA</th>\n",
       "      <th>ExportSize</th>\n",
       "      <th>IatVRA</th>\n",
       "      <th>MajorLinkerVersion</th>\n",
       "      <th>MinorLinkerVersion</th>\n",
       "      <th>NumberOfSections</th>\n",
       "      <th>SizeOfStackReserve</th>\n",
       "      <th>DllCharacteristics</th>\n",
       "      <th>ResourceSize</th>\n",
       "      <th>BitcoinAddresses</th>\n",
       "      <th>Benign</th>\n",
       "    </tr>\n",
       "  </thead>\n",
       "  <tbody>\n",
       "    <tr>\n",
       "      <th>0</th>\n",
       "      <td>0124e21d-018c-4ce0-92a3-b9e205a76bc0.dll</td>\n",
       "      <td>79755c51e413ed3c6be4635fd729a6e1</td>\n",
       "      <td>332</td>\n",
       "      <td>0</td>\n",
       "      <td>0</td>\n",
       "      <td>0</td>\n",
       "      <td>4</td>\n",
       "      <td>0</td>\n",
       "      <td>0</td>\n",
       "      <td>8192</td>\n",
       "      <td>8</td>\n",
       "      <td>0</td>\n",
       "      <td>3</td>\n",
       "      <td>1048576</td>\n",
       "      <td>34112</td>\n",
       "      <td>672</td>\n",
       "      <td>0</td>\n",
       "      <td>1</td>\n",
       "    </tr>\n",
       "    <tr>\n",
       "      <th>1</th>\n",
       "      <td>05c8318f98a5d301d80000009c316005.vertdll.dll</td>\n",
       "      <td>95e19f3657d34a432eada93221b0ea16</td>\n",
       "      <td>34404</td>\n",
       "      <td>84</td>\n",
       "      <td>121728</td>\n",
       "      <td>10</td>\n",
       "      <td>10</td>\n",
       "      <td>126576</td>\n",
       "      <td>4930</td>\n",
       "      <td>0</td>\n",
       "      <td>14</td>\n",
       "      <td>10</td>\n",
       "      <td>8</td>\n",
       "      <td>262144</td>\n",
       "      <td>16864</td>\n",
       "      <td>1024</td>\n",
       "      <td>0</td>\n",
       "      <td>1</td>\n",
       "    </tr>\n",
       "    <tr>\n",
       "      <th>2</th>\n",
       "      <td>06054fba-5619-4a86-a861-ffb0464bef5d.dll</td>\n",
       "      <td>85c32641d77a54e19ba8ea4ab305c791</td>\n",
       "      <td>332</td>\n",
       "      <td>0</td>\n",
       "      <td>0</td>\n",
       "      <td>0</td>\n",
       "      <td>4</td>\n",
       "      <td>0</td>\n",
       "      <td>0</td>\n",
       "      <td>8192</td>\n",
       "      <td>8</td>\n",
       "      <td>0</td>\n",
       "      <td>3</td>\n",
       "      <td>1048576</td>\n",
       "      <td>34112</td>\n",
       "      <td>672</td>\n",
       "      <td>0</td>\n",
       "      <td>1</td>\n",
       "    </tr>\n",
       "    <tr>\n",
       "      <th>3</th>\n",
       "      <td>075822ac99a5d301660400009c316005.adhapi.dll</td>\n",
       "      <td>62e3b959d982ef534b66f819fe15f085</td>\n",
       "      <td>34404</td>\n",
       "      <td>84</td>\n",
       "      <td>19904</td>\n",
       "      <td>10</td>\n",
       "      <td>10</td>\n",
       "      <td>21312</td>\n",
       "      <td>252</td>\n",
       "      <td>18160</td>\n",
       "      <td>14</td>\n",
       "      <td>10</td>\n",
       "      <td>6</td>\n",
       "      <td>262144</td>\n",
       "      <td>16736</td>\n",
       "      <td>1040</td>\n",
       "      <td>0</td>\n",
       "      <td>1</td>\n",
       "    </tr>\n",
       "    <tr>\n",
       "      <th>4</th>\n",
       "      <td>090607dd9ba5d301ca0900009c316005.SensorsNative...</td>\n",
       "      <td>ae38c5f7d313ad0ff3bfb8826476767f</td>\n",
       "      <td>34404</td>\n",
       "      <td>84</td>\n",
       "      <td>97728</td>\n",
       "      <td>10</td>\n",
       "      <td>10</td>\n",
       "      <td>105792</td>\n",
       "      <td>1852</td>\n",
       "      <td>70592</td>\n",
       "      <td>14</td>\n",
       "      <td>10</td>\n",
       "      <td>7</td>\n",
       "      <td>262144</td>\n",
       "      <td>16736</td>\n",
       "      <td>1096</td>\n",
       "      <td>0</td>\n",
       "      <td>1</td>\n",
       "    </tr>\n",
       "  </tbody>\n",
       "</table>\n",
       "</div>"
      ],
      "text/plain": [
       "                                            FileName  \\\n",
       "0           0124e21d-018c-4ce0-92a3-b9e205a76bc0.dll   \n",
       "1       05c8318f98a5d301d80000009c316005.vertdll.dll   \n",
       "2           06054fba-5619-4a86-a861-ffb0464bef5d.dll   \n",
       "3        075822ac99a5d301660400009c316005.adhapi.dll   \n",
       "4  090607dd9ba5d301ca0900009c316005.SensorsNative...   \n",
       "\n",
       "                            md5Hash  Machine  DebugSize  DebugRVA  \\\n",
       "0  79755c51e413ed3c6be4635fd729a6e1      332          0         0   \n",
       "1  95e19f3657d34a432eada93221b0ea16    34404         84    121728   \n",
       "2  85c32641d77a54e19ba8ea4ab305c791      332          0         0   \n",
       "3  62e3b959d982ef534b66f819fe15f085    34404         84     19904   \n",
       "4  ae38c5f7d313ad0ff3bfb8826476767f    34404         84     97728   \n",
       "\n",
       "   MajorImageVersion  MajorOSVersion  ExportRVA  ExportSize  IatVRA  \\\n",
       "0                  0               4          0           0    8192   \n",
       "1                 10              10     126576        4930       0   \n",
       "2                  0               4          0           0    8192   \n",
       "3                 10              10      21312         252   18160   \n",
       "4                 10              10     105792        1852   70592   \n",
       "\n",
       "   MajorLinkerVersion  MinorLinkerVersion  NumberOfSections  \\\n",
       "0                   8                   0                 3   \n",
       "1                  14                  10                 8   \n",
       "2                   8                   0                 3   \n",
       "3                  14                  10                 6   \n",
       "4                  14                  10                 7   \n",
       "\n",
       "   SizeOfStackReserve  DllCharacteristics  ResourceSize  BitcoinAddresses  \\\n",
       "0             1048576               34112           672                 0   \n",
       "1              262144               16864          1024                 0   \n",
       "2             1048576               34112           672                 0   \n",
       "3              262144               16736          1040                 0   \n",
       "4              262144               16736          1096                 0   \n",
       "\n",
       "   Benign  \n",
       "0       1  \n",
       "1       1  \n",
       "2       1  \n",
       "3       1  \n",
       "4       1  "
      ]
     },
     "execution_count": 2,
     "metadata": {},
     "output_type": "execute_result"
    }
   ],
   "source": [
    "data = pd.read_csv('data_benign.csv')\n",
    "data.head()"
   ]
  },
  {
   "cell_type": "code",
   "execution_count": 4,
   "id": "happy-equilibrium",
   "metadata": {},
   "outputs": [
    {
     "data": {
      "text/plain": [
       "(43189, 18)"
      ]
     },
     "execution_count": 4,
     "metadata": {},
     "output_type": "execute_result"
    }
   ],
   "source": [
    "data.shape"
   ]
  },
  {
   "cell_type": "code",
   "execution_count": 8,
   "id": "southwest-school",
   "metadata": {},
   "outputs": [
    {
     "data": {
      "text/plain": [
       "array([1], dtype=int64)"
      ]
     },
     "execution_count": 8,
     "metadata": {},
     "output_type": "execute_result"
    }
   ],
   "source": [
    "data.Benign.unique()"
   ]
  },
  {
   "cell_type": "code",
   "execution_count": null,
   "id": "reserved-distributor",
   "metadata": {},
   "outputs": [],
   "source": []
  },
  {
   "cell_type": "code",
   "execution_count": null,
   "id": "faced-arthur",
   "metadata": {},
   "outputs": [],
   "source": []
  },
  {
   "cell_type": "code",
   "execution_count": 7,
   "id": "controversial-evening",
   "metadata": {},
   "outputs": [
    {
     "data": {
      "text/html": [
       "<div>\n",
       "<style scoped>\n",
       "    .dataframe tbody tr th:only-of-type {\n",
       "        vertical-align: middle;\n",
       "    }\n",
       "\n",
       "    .dataframe tbody tr th {\n",
       "        vertical-align: top;\n",
       "    }\n",
       "\n",
       "    .dataframe thead th {\n",
       "        text-align: right;\n",
       "    }\n",
       "</style>\n",
       "<table border=\"1\" class=\"dataframe\">\n",
       "  <thead>\n",
       "    <tr style=\"text-align: right;\">\n",
       "      <th></th>\n",
       "      <th>FileName</th>\n",
       "      <th>md5Hash</th>\n",
       "      <th>Machine</th>\n",
       "      <th>DebugSize</th>\n",
       "      <th>DebugRVA</th>\n",
       "      <th>MajorImageVersion</th>\n",
       "      <th>MajorOSVersion</th>\n",
       "      <th>ExportRVA</th>\n",
       "      <th>ExportSize</th>\n",
       "      <th>IatVRA</th>\n",
       "      <th>MajorLinkerVersion</th>\n",
       "      <th>MinorLinkerVersion</th>\n",
       "      <th>NumberOfSections</th>\n",
       "      <th>SizeOfStackReserve</th>\n",
       "      <th>DllCharacteristics</th>\n",
       "      <th>ResourceSize</th>\n",
       "      <th>BitcoinAddresses</th>\n",
       "      <th>Benign</th>\n",
       "    </tr>\n",
       "  </thead>\n",
       "  <tbody>\n",
       "    <tr>\n",
       "      <th>0</th>\n",
       "      <td>0124e21d-018c-4ce0-92a3-b9e205a76bc0.dll</td>\n",
       "      <td>79755c51e413ed3c6be4635fd729a6e1</td>\n",
       "      <td>332</td>\n",
       "      <td>0</td>\n",
       "      <td>0</td>\n",
       "      <td>0</td>\n",
       "      <td>4</td>\n",
       "      <td>0</td>\n",
       "      <td>0</td>\n",
       "      <td>8192</td>\n",
       "      <td>8</td>\n",
       "      <td>0</td>\n",
       "      <td>3</td>\n",
       "      <td>1048576</td>\n",
       "      <td>34112</td>\n",
       "      <td>672</td>\n",
       "      <td>0</td>\n",
       "      <td>1</td>\n",
       "    </tr>\n",
       "    <tr>\n",
       "      <th>1</th>\n",
       "      <td>05c8318f98a5d301d80000009c316005.vertdll.dll</td>\n",
       "      <td>95e19f3657d34a432eada93221b0ea16</td>\n",
       "      <td>34404</td>\n",
       "      <td>84</td>\n",
       "      <td>121728</td>\n",
       "      <td>10</td>\n",
       "      <td>10</td>\n",
       "      <td>126576</td>\n",
       "      <td>4930</td>\n",
       "      <td>0</td>\n",
       "      <td>14</td>\n",
       "      <td>10</td>\n",
       "      <td>8</td>\n",
       "      <td>262144</td>\n",
       "      <td>16864</td>\n",
       "      <td>1024</td>\n",
       "      <td>0</td>\n",
       "      <td>1</td>\n",
       "    </tr>\n",
       "    <tr>\n",
       "      <th>2</th>\n",
       "      <td>06054fba-5619-4a86-a861-ffb0464bef5d.dll</td>\n",
       "      <td>85c32641d77a54e19ba8ea4ab305c791</td>\n",
       "      <td>332</td>\n",
       "      <td>0</td>\n",
       "      <td>0</td>\n",
       "      <td>0</td>\n",
       "      <td>4</td>\n",
       "      <td>0</td>\n",
       "      <td>0</td>\n",
       "      <td>8192</td>\n",
       "      <td>8</td>\n",
       "      <td>0</td>\n",
       "      <td>3</td>\n",
       "      <td>1048576</td>\n",
       "      <td>34112</td>\n",
       "      <td>672</td>\n",
       "      <td>0</td>\n",
       "      <td>1</td>\n",
       "    </tr>\n",
       "    <tr>\n",
       "      <th>3</th>\n",
       "      <td>075822ac99a5d301660400009c316005.adhapi.dll</td>\n",
       "      <td>62e3b959d982ef534b66f819fe15f085</td>\n",
       "      <td>34404</td>\n",
       "      <td>84</td>\n",
       "      <td>19904</td>\n",
       "      <td>10</td>\n",
       "      <td>10</td>\n",
       "      <td>21312</td>\n",
       "      <td>252</td>\n",
       "      <td>18160</td>\n",
       "      <td>14</td>\n",
       "      <td>10</td>\n",
       "      <td>6</td>\n",
       "      <td>262144</td>\n",
       "      <td>16736</td>\n",
       "      <td>1040</td>\n",
       "      <td>0</td>\n",
       "      <td>1</td>\n",
       "    </tr>\n",
       "    <tr>\n",
       "      <th>4</th>\n",
       "      <td>090607dd9ba5d301ca0900009c316005.SensorsNative...</td>\n",
       "      <td>ae38c5f7d313ad0ff3bfb8826476767f</td>\n",
       "      <td>34404</td>\n",
       "      <td>84</td>\n",
       "      <td>97728</td>\n",
       "      <td>10</td>\n",
       "      <td>10</td>\n",
       "      <td>105792</td>\n",
       "      <td>1852</td>\n",
       "      <td>70592</td>\n",
       "      <td>14</td>\n",
       "      <td>10</td>\n",
       "      <td>7</td>\n",
       "      <td>262144</td>\n",
       "      <td>16736</td>\n",
       "      <td>1096</td>\n",
       "      <td>0</td>\n",
       "      <td>1</td>\n",
       "    </tr>\n",
       "    <tr>\n",
       "      <th>...</th>\n",
       "      <td>...</td>\n",
       "      <td>...</td>\n",
       "      <td>...</td>\n",
       "      <td>...</td>\n",
       "      <td>...</td>\n",
       "      <td>...</td>\n",
       "      <td>...</td>\n",
       "      <td>...</td>\n",
       "      <td>...</td>\n",
       "      <td>...</td>\n",
       "      <td>...</td>\n",
       "      <td>...</td>\n",
       "      <td>...</td>\n",
       "      <td>...</td>\n",
       "      <td>...</td>\n",
       "      <td>...</td>\n",
       "      <td>...</td>\n",
       "      <td>...</td>\n",
       "    </tr>\n",
       "    <tr>\n",
       "      <th>62480</th>\n",
       "      <td>VirusShare_a43ceb5e5fffc793e0205d15a0606cb0</td>\n",
       "      <td>a43ceb5e5fffc793e0205d15a0606cb0</td>\n",
       "      <td>332</td>\n",
       "      <td>0</td>\n",
       "      <td>0</td>\n",
       "      <td>1</td>\n",
       "      <td>4</td>\n",
       "      <td>0</td>\n",
       "      <td>0</td>\n",
       "      <td>4096</td>\n",
       "      <td>6</td>\n",
       "      <td>0</td>\n",
       "      <td>3</td>\n",
       "      <td>1048576</td>\n",
       "      <td>0</td>\n",
       "      <td>23504</td>\n",
       "      <td>0</td>\n",
       "      <td>0</td>\n",
       "    </tr>\n",
       "    <tr>\n",
       "      <th>62481</th>\n",
       "      <td>VirusShare_0190dafc8304111a00fccf57340ea6a4</td>\n",
       "      <td>0190dafc8304111a00fccf57340ea6a4</td>\n",
       "      <td>332</td>\n",
       "      <td>0</td>\n",
       "      <td>0</td>\n",
       "      <td>7</td>\n",
       "      <td>10</td>\n",
       "      <td>0</td>\n",
       "      <td>0</td>\n",
       "      <td>0</td>\n",
       "      <td>7</td>\n",
       "      <td>0</td>\n",
       "      <td>7</td>\n",
       "      <td>1048576</td>\n",
       "      <td>0</td>\n",
       "      <td>15704</td>\n",
       "      <td>0</td>\n",
       "      <td>0</td>\n",
       "    </tr>\n",
       "    <tr>\n",
       "      <th>62482</th>\n",
       "      <td>VirusShare_0f3ca55979aaf59158d6b01140696e44</td>\n",
       "      <td>0f3ca55979aaf59158d6b01140696e44</td>\n",
       "      <td>332</td>\n",
       "      <td>0</td>\n",
       "      <td>0</td>\n",
       "      <td>0</td>\n",
       "      <td>4</td>\n",
       "      <td>0</td>\n",
       "      <td>0</td>\n",
       "      <td>404908</td>\n",
       "      <td>2</td>\n",
       "      <td>50</td>\n",
       "      <td>11</td>\n",
       "      <td>1048576</td>\n",
       "      <td>0</td>\n",
       "      <td>2364</td>\n",
       "      <td>0</td>\n",
       "      <td>0</td>\n",
       "    </tr>\n",
       "    <tr>\n",
       "      <th>62483</th>\n",
       "      <td>VirusShare_fca5ce35f1690db6babca5aa5d559535</td>\n",
       "      <td>fca5ce35f1690db6babca5aa5d559535</td>\n",
       "      <td>332</td>\n",
       "      <td>0</td>\n",
       "      <td>0</td>\n",
       "      <td>0</td>\n",
       "      <td>4</td>\n",
       "      <td>14448</td>\n",
       "      <td>70</td>\n",
       "      <td>4096</td>\n",
       "      <td>8</td>\n",
       "      <td>0</td>\n",
       "      <td>4</td>\n",
       "      <td>1048576</td>\n",
       "      <td>0</td>\n",
       "      <td>130296</td>\n",
       "      <td>0</td>\n",
       "      <td>0</td>\n",
       "    </tr>\n",
       "    <tr>\n",
       "      <th>62484</th>\n",
       "      <td>VirusShare_d7955a7e6d1e16800feafd4204cbac2b</td>\n",
       "      <td>d7955a7e6d1e16800feafd4204cbac2b</td>\n",
       "      <td>332</td>\n",
       "      <td>0</td>\n",
       "      <td>0</td>\n",
       "      <td>0</td>\n",
       "      <td>5</td>\n",
       "      <td>0</td>\n",
       "      <td>0</td>\n",
       "      <td>4096</td>\n",
       "      <td>9</td>\n",
       "      <td>0</td>\n",
       "      <td>6</td>\n",
       "      <td>1048576</td>\n",
       "      <td>0</td>\n",
       "      <td>6912</td>\n",
       "      <td>0</td>\n",
       "      <td>0</td>\n",
       "    </tr>\n",
       "  </tbody>\n",
       "</table>\n",
       "<p>62485 rows × 18 columns</p>\n",
       "</div>"
      ],
      "text/plain": [
       "                                                FileName  \\\n",
       "0               0124e21d-018c-4ce0-92a3-b9e205a76bc0.dll   \n",
       "1           05c8318f98a5d301d80000009c316005.vertdll.dll   \n",
       "2               06054fba-5619-4a86-a861-ffb0464bef5d.dll   \n",
       "3            075822ac99a5d301660400009c316005.adhapi.dll   \n",
       "4      090607dd9ba5d301ca0900009c316005.SensorsNative...   \n",
       "...                                                  ...   \n",
       "62480        VirusShare_a43ceb5e5fffc793e0205d15a0606cb0   \n",
       "62481        VirusShare_0190dafc8304111a00fccf57340ea6a4   \n",
       "62482        VirusShare_0f3ca55979aaf59158d6b01140696e44   \n",
       "62483        VirusShare_fca5ce35f1690db6babca5aa5d559535   \n",
       "62484        VirusShare_d7955a7e6d1e16800feafd4204cbac2b   \n",
       "\n",
       "                                md5Hash  Machine  DebugSize  DebugRVA  \\\n",
       "0      79755c51e413ed3c6be4635fd729a6e1      332          0         0   \n",
       "1      95e19f3657d34a432eada93221b0ea16    34404         84    121728   \n",
       "2      85c32641d77a54e19ba8ea4ab305c791      332          0         0   \n",
       "3      62e3b959d982ef534b66f819fe15f085    34404         84     19904   \n",
       "4      ae38c5f7d313ad0ff3bfb8826476767f    34404         84     97728   \n",
       "...                                 ...      ...        ...       ...   \n",
       "62480  a43ceb5e5fffc793e0205d15a0606cb0      332          0         0   \n",
       "62481  0190dafc8304111a00fccf57340ea6a4      332          0         0   \n",
       "62482  0f3ca55979aaf59158d6b01140696e44      332          0         0   \n",
       "62483  fca5ce35f1690db6babca5aa5d559535      332          0         0   \n",
       "62484  d7955a7e6d1e16800feafd4204cbac2b      332          0         0   \n",
       "\n",
       "       MajorImageVersion  MajorOSVersion  ExportRVA  ExportSize  IatVRA  \\\n",
       "0                      0               4          0           0    8192   \n",
       "1                     10              10     126576        4930       0   \n",
       "2                      0               4          0           0    8192   \n",
       "3                     10              10      21312         252   18160   \n",
       "4                     10              10     105792        1852   70592   \n",
       "...                  ...             ...        ...         ...     ...   \n",
       "62480                  1               4          0           0    4096   \n",
       "62481                  7              10          0           0       0   \n",
       "62482                  0               4          0           0  404908   \n",
       "62483                  0               4      14448          70    4096   \n",
       "62484                  0               5          0           0    4096   \n",
       "\n",
       "       MajorLinkerVersion  MinorLinkerVersion  NumberOfSections  \\\n",
       "0                       8                   0                 3   \n",
       "1                      14                  10                 8   \n",
       "2                       8                   0                 3   \n",
       "3                      14                  10                 6   \n",
       "4                      14                  10                 7   \n",
       "...                   ...                 ...               ...   \n",
       "62480                   6                   0                 3   \n",
       "62481                   7                   0                 7   \n",
       "62482                   2                  50                11   \n",
       "62483                   8                   0                 4   \n",
       "62484                   9                   0                 6   \n",
       "\n",
       "       SizeOfStackReserve  DllCharacteristics  ResourceSize  BitcoinAddresses  \\\n",
       "0                 1048576               34112           672                 0   \n",
       "1                  262144               16864          1024                 0   \n",
       "2                 1048576               34112           672                 0   \n",
       "3                  262144               16736          1040                 0   \n",
       "4                  262144               16736          1096                 0   \n",
       "...                   ...                 ...           ...               ...   \n",
       "62480             1048576                   0         23504                 0   \n",
       "62481             1048576                   0         15704                 0   \n",
       "62482             1048576                   0          2364                 0   \n",
       "62483             1048576                   0        130296                 0   \n",
       "62484             1048576                   0          6912                 0   \n",
       "\n",
       "       Benign  \n",
       "0           1  \n",
       "1           1  \n",
       "2           1  \n",
       "3           1  \n",
       "4           1  \n",
       "...       ...  \n",
       "62480       0  \n",
       "62481       0  \n",
       "62482       0  \n",
       "62483       0  \n",
       "62484       0  \n",
       "\n",
       "[62485 rows x 18 columns]"
      ]
     },
     "execution_count": 7,
     "metadata": {},
     "output_type": "execute_result"
    }
   ],
   "source": [
    "data2 = pd.read_csv('data_file.csv')\n",
    "data2"
   ]
  },
  {
   "cell_type": "code",
   "execution_count": 9,
   "id": "backed-consciousness",
   "metadata": {},
   "outputs": [
    {
     "data": {
      "text/plain": [
       "Index(['FileName', 'md5Hash', 'Machine', 'DebugSize', 'DebugRVA',\n",
       "       'MajorImageVersion', 'MajorOSVersion', 'ExportRVA', 'ExportSize',\n",
       "       'IatVRA', 'MajorLinkerVersion', 'MinorLinkerVersion',\n",
       "       'NumberOfSections', 'SizeOfStackReserve', 'DllCharacteristics',\n",
       "       'ResourceSize', 'BitcoinAddresses', 'Benign'],\n",
       "      dtype='object')"
      ]
     },
     "execution_count": 9,
     "metadata": {},
     "output_type": "execute_result"
    }
   ],
   "source": [
    "data2.columns"
   ]
  },
  {
   "cell_type": "code",
   "execution_count": 5,
   "id": "responsible-stone",
   "metadata": {},
   "outputs": [
    {
     "data": {
      "text/plain": [
       "(43189, 18)"
      ]
     },
     "execution_count": 5,
     "metadata": {},
     "output_type": "execute_result"
    }
   ],
   "source": [
    "data.shape"
   ]
  },
  {
   "cell_type": "code",
   "execution_count": 9,
   "id": "scheduled-european",
   "metadata": {},
   "outputs": [
    {
     "data": {
      "text/plain": [
       "array([1, 0], dtype=int64)"
      ]
     },
     "execution_count": 9,
     "metadata": {},
     "output_type": "execute_result"
    }
   ],
   "source": [
    "data2.Benign.unique()"
   ]
  },
  {
   "cell_type": "code",
   "execution_count": 10,
   "id": "substantial-marine",
   "metadata": {},
   "outputs": [
    {
     "data": {
      "text/plain": [
       "0    35367\n",
       "1    27118\n",
       "Name: Benign, dtype: int64"
      ]
     },
     "execution_count": 10,
     "metadata": {},
     "output_type": "execute_result"
    }
   ],
   "source": [
    "data2.Benign.value_counts()"
   ]
  },
  {
   "cell_type": "code",
   "execution_count": 11,
   "id": "continent-conditions",
   "metadata": {},
   "outputs": [
    {
     "data": {
      "text/plain": [
       "0    0.566008\n",
       "1    0.433992\n",
       "Name: Benign, dtype: float64"
      ]
     },
     "execution_count": 11,
     "metadata": {},
     "output_type": "execute_result"
    }
   ],
   "source": [
    "data2.Benign.value_counts(normalize = True)"
   ]
  },
  {
   "cell_type": "code",
   "execution_count": 3,
   "id": "indirect-korean",
   "metadata": {},
   "outputs": [
    {
     "name": "stdout",
     "output_type": "stream",
     "text": [
      "\n",
      "[+] Training MLRD using Random Forest Algorithm...\n",
      "\n",
      "\t[*] Training samples:  49988\n",
      "\t[*] Testing samples:  12497\n",
      "\n",
      "\t[*] Training Score [Accuracy]:  0.9988397215331679\n",
      "\n",
      "\t[*] Test Score [Accuracy]:  0.9964791549971993\n",
      "\n",
      "\t[*] Cross Validation Score:  99.42 %\n",
      "\t[*] F1 Score:  99.54 %\n"
     ]
    }
   ],
   "source": [
    "import pickle\n",
    "from sklearn import model_selection\n",
    "import sklearn.ensemble as ske\n",
    "import sklearn.metrics\n",
    "from sklearn.metrics import f1_score\n",
    "import joblib\n",
    "from xgboost import XGBClassifier\n",
    "\n",
    "# Main code function that trains the random forest algorithm on dataset.\n",
    "def main():\n",
    "    print('\\n[+] Training MLRD using Random Forest Algorithm...')\n",
    "\n",
    "    # Creates pandas dataframe and reads in csv file.\n",
    "    df = pd.read_csv('data_file.csv', sep=',')\n",
    "\n",
    "    # Drops FileName, md5Hash and Label from data.\n",
    "    X = df.drop(['FileName', 'md5Hash', 'Benign'], axis=1).values\n",
    "\n",
    "    # Assigns y to label\n",
    "    y = df['Benign'].values\n",
    "\n",
    "    # Splitting data into training and test data\n",
    "    X_train, X_test, y_train, y_test = model_selection.train_test_split(X, y, test_size=0.2, random_state=42)\n",
    "\n",
    "    # Print the number of training and testing samples.\n",
    "    print(\"\\n\\t[*] Training samples: \", len(X_train))\n",
    "    print(\"\\t[*] Testing samples: \", len(X_test))\n",
    "\n",
    "    # Train Random forest algorithm on training dataset.\n",
    "    model = XGBClassifier(use_label_encoder=False, eval_metric='mlogloss')\n",
    "    model.fit(X_train, y_train)\n",
    "\n",
    "#     clf = \n",
    "#     clf.fit(X_train, y_train)\n",
    "\n",
    "    # Perform cross validation and print out accuracy.\n",
    "    score = model_selection.cross_val_score(model, X_test, y_test, cv=10)\n",
    "    print(\"\\n\\t[*] Training Score [Accuracy]: \",model.score(X_train, y_train))\n",
    "    print(\"\\n\\t[*] Test Score [Accuracy]: \",model.score(X_test, y_test))\n",
    "    print(\"\\n\\t[*] Cross Validation Score: \", round(score.mean()*100, 2), '%')\n",
    "\n",
    "    # Calculate f1 score.\n",
    "    y_train_pred = model_selection.cross_val_predict(model, X_train, y_train, cv=3)\n",
    "    f = f1_score(y_train, y_train_pred)\n",
    "    print(\"\\t[*] F1 Score: \", round(f*100, 2), '%')\n",
    "\n",
    "if __name__ == '__main__':\n",
    "    main()\n"
   ]
  },
  {
   "cell_type": "code",
   "execution_count": null,
   "id": "automated-danger",
   "metadata": {},
   "outputs": [],
   "source": [
    "# main()"
   ]
  },
  {
   "cell_type": "code",
   "execution_count": 15,
   "id": "earlier-france",
   "metadata": {},
   "outputs": [
    {
     "name": "stdout",
     "output_type": "stream",
     "text": [
      "\n",
      "\t[*] Training Score [Accuracy]:  0.9988397215331679\n",
      "\n",
      "\t[*] Test Score [Accuracy]:  0.9964791549971993\n",
      "\n",
      "\t[*] Cross Validation Score:  99.42 %\n"
     ]
    }
   ],
   "source": [
    "df = pd.read_csv('data_file.csv', sep=',')\n",
    "# Features\n",
    "X = df.drop(['FileName', 'md5Hash', 'Benign'], axis=1).values\n",
    "# Label\n",
    "y = df['Benign'].values\n",
    " # Splitting data into training and test data\n",
    "X_train, X_test, y_train, y_test = model_selection.train_test_split(X, y, test_size=0.2, random_state=42)\n",
    "\n",
    "model = XGBClassifier(use_label_encoder=False, eval_metric='mlogloss')\n",
    "model.fit(X_train, y_train)\n",
    "\n",
    "score = model_selection.cross_val_score(model, X_test, y_test, cv=10)\n",
    "print(\"\\n\\t[*] Training Score [Accuracy]: \",model.score(X_train, y_train))\n",
    "print(\"\\n\\t[*] Test Score [Accuracy]: \",model.score(X_test, y_test))\n",
    "print(\"\\n\\t[*] Cross Validation Score: \", round(score.mean()*100, 2), '%')\n"
   ]
  },
  {
   "cell_type": "code",
   "execution_count": 36,
   "id": "unnecessary-valve",
   "metadata": {},
   "outputs": [
    {
     "data": {
      "text/plain": [
       "array([    332,       0,       0,       0,       4,       0,       0,\n",
       "          8192,       8,       0,       3, 1048576,   34112,     672,\n",
       "             0], dtype=int64)"
      ]
     },
     "execution_count": 36,
     "metadata": {},
     "output_type": "execute_result"
    }
   ],
   "source": [
    "X[0]"
   ]
  },
  {
   "cell_type": "code",
   "execution_count": 5,
   "id": "built-costume",
   "metadata": {},
   "outputs": [],
   "source": [
    "import joblib"
   ]
  },
  {
   "cell_type": "code",
   "execution_count": 6,
   "id": "superb-anchor",
   "metadata": {},
   "outputs": [
    {
     "data": {
      "text/plain": [
       "['xgboost_model.pkl']"
      ]
     },
     "execution_count": 6,
     "metadata": {},
     "output_type": "execute_result"
    }
   ],
   "source": [
    "# filename = 'xgboost_model.pkl'\n",
    "# joblib.dump(model, filename)"
   ]
  },
  {
   "cell_type": "code",
   "execution_count": null,
   "id": "resistant-columbus",
   "metadata": {},
   "outputs": [],
   "source": []
  },
  {
   "cell_type": "code",
   "execution_count": null,
   "id": "determined-giant",
   "metadata": {},
   "outputs": [],
   "source": []
  },
  {
   "cell_type": "code",
   "execution_count": null,
   "id": "bridal-green",
   "metadata": {},
   "outputs": [],
   "source": []
  },
  {
   "cell_type": "code",
   "execution_count": 10,
   "id": "crazy-criticism",
   "metadata": {},
   "outputs": [],
   "source": [
    "test = [[332,0,0,0,4,0,0,8192,8,0,3,1048576,34112,672,0]]"
   ]
  },
  {
   "cell_type": "code",
   "execution_count": 42,
   "id": "contained-remark",
   "metadata": {},
   "outputs": [
    {
     "data": {
      "text/plain": [
       "array([0, 1])"
      ]
     },
     "execution_count": 42,
     "metadata": {},
     "output_type": "execute_result"
    }
   ],
   "source": [
    "model.predict(X_test[:2])"
   ]
  },
  {
   "cell_type": "code",
   "execution_count": 49,
   "id": "moderate-grounds",
   "metadata": {},
   "outputs": [
    {
     "data": {
      "text/plain": [
       "array([    332,      28,   88660,       0,       4,       0,       0,\n",
       "          8192,      11,       0,       3, 1048576,   34112,    1432,\n",
       "             0], dtype=int64)"
      ]
     },
     "execution_count": 49,
     "metadata": {},
     "output_type": "execute_result"
    }
   ],
   "source": [
    "X_train[2]"
   ]
  },
  {
   "cell_type": "code",
   "execution_count": 64,
   "id": "organic-latitude",
   "metadata": {},
   "outputs": [
    {
     "ename": "TypeError",
     "evalue": "array() takes from 1 to 2 positional arguments but 3 were given",
     "output_type": "error",
     "traceback": [
      "\u001b[1;31m---------------------------------------------------------------------------\u001b[0m",
      "\u001b[1;31mTypeError\u001b[0m                                 Traceback (most recent call last)",
      "\u001b[1;32m<ipython-input-64-93f0b7db698c>\u001b[0m in \u001b[0;36m<module>\u001b[1;34m\u001b[0m\n\u001b[0;32m      1\u001b[0m \u001b[1;32mimport\u001b[0m \u001b[0mnumpy\u001b[0m \u001b[1;32mas\u001b[0m \u001b[0mnp\u001b[0m\u001b[1;33m\u001b[0m\u001b[1;33m\u001b[0m\u001b[0m\n\u001b[1;32m----> 2\u001b[1;33m \u001b[0mnp\u001b[0m\u001b[1;33m.\u001b[0m\u001b[0marray\u001b[0m\u001b[1;33m(\u001b[0m\u001b[1;33m[\u001b[0m\u001b[1;33m-\u001b[0m\u001b[1;36m9.035250067710876\u001b[0m\u001b[1;33m]\u001b[0m\u001b[1;33m,\u001b[0m \u001b[1;33m[\u001b[0m\u001b[1;36m7.453250169754028\u001b[0m\u001b[1;33m]\u001b[0m\u001b[1;33m,\u001b[0m \u001b[1;33m[\u001b[0m\u001b[1;36m33.34074878692627\u001b[0m\u001b[1;33m]\u001b[0m\u001b[1;33m)\u001b[0m\u001b[1;33m\u001b[0m\u001b[1;33m\u001b[0m\u001b[0m\n\u001b[0m",
      "\u001b[1;31mTypeError\u001b[0m: array() takes from 1 to 2 positional arguments but 3 were given"
     ]
    }
   ],
   "source": [
    "import numpy as np\n",
    "np.array([-9.035250067710876], [7.453250169754028], [33.34074878692627])"
   ]
  },
  {
   "cell_type": "code",
   "execution_count": 12,
   "id": "worse-blink",
   "metadata": {},
   "outputs": [],
   "source": [
    "import numpy as np"
   ]
  },
  {
   "cell_type": "code",
   "execution_count": 20,
   "id": "willing-trading",
   "metadata": {},
   "outputs": [],
   "source": [
    "a = [[332,28,4768,6,6,96144,166,4096,9,0,4,262144,448,4048,0]]\n",
    "a = np.array(a)"
   ]
  },
  {
   "cell_type": "code",
   "execution_count": 21,
   "id": "confident-nothing",
   "metadata": {},
   "outputs": [
    {
     "data": {
      "text/plain": [
       "array([    332,      28,  291712,       0,       4,       0,       0,\n",
       "          8192,      48,       0,       3, 1048576,   34112,    1220,\n",
       "             0], dtype=int64)"
      ]
     },
     "execution_count": 21,
     "metadata": {},
     "output_type": "execute_result"
    }
   ],
   "source": [
    "X_train[1]"
   ]
  },
  {
   "cell_type": "code",
   "execution_count": 22,
   "id": "hispanic-graduate",
   "metadata": {},
   "outputs": [
    {
     "data": {
      "text/plain": [
       "array([1])"
      ]
     },
     "execution_count": 22,
     "metadata": {},
     "output_type": "execute_result"
    }
   ],
   "source": [
    "model.predict(a) "
   ]
  },
  {
   "cell_type": "code",
   "execution_count": 80,
   "id": "parallel-blanket",
   "metadata": {},
   "outputs": [
    {
     "data": {
      "text/plain": [
       "array([[    332,      56,  147600,       0,       4,  148496,     186,\n",
       "         147456,       5,      12,       5, 1048576,       0,     808,\n",
       "              0],\n",
       "       [    332,      28,  291712,       0,       4,       0,       0,\n",
       "           8192,      48,       0,       3, 1048576,   34112,    1220,\n",
       "              0]], dtype=int64)"
      ]
     },
     "execution_count": 80,
     "metadata": {},
     "output_type": "execute_result"
    }
   ],
   "source": [
    "X_train[:2]"
   ]
  },
  {
   "cell_type": "code",
   "execution_count": 81,
   "id": "detailed-editor",
   "metadata": {},
   "outputs": [
    {
     "data": {
      "text/plain": [
       "array([0])"
      ]
     },
     "execution_count": 81,
     "metadata": {},
     "output_type": "execute_result"
    }
   ],
   "source": [
    "b = [[  332,      56,  147600,       0,       4,  148496,     186,\n",
    "         147456,       5,      12,       5, 1048576,       0,     808,\n",
    "              0]]\n",
    "b = np.array(b)\n",
    "model.predict(b)"
   ]
  },
  {
   "cell_type": "code",
   "execution_count": 83,
   "id": "static-disability",
   "metadata": {},
   "outputs": [
    {
     "data": {
      "text/plain": [
       "array([0, 1, 1, ..., 1, 1, 0])"
      ]
     },
     "execution_count": 83,
     "metadata": {},
     "output_type": "execute_result"
    }
   ],
   "source": [
    "model.predict(X_train)"
   ]
  },
  {
   "cell_type": "code",
   "execution_count": null,
   "id": "framed-world",
   "metadata": {},
   "outputs": [],
   "source": []
  },
  {
   "cell_type": "code",
   "execution_count": 50,
   "id": "advisory-monday",
   "metadata": {},
   "outputs": [
    {
     "data": {
      "text/plain": [
       "(62485, 18)"
      ]
     },
     "execution_count": 50,
     "metadata": {},
     "output_type": "execute_result"
    }
   ],
   "source": [
    "data2.shape"
   ]
  },
  {
   "cell_type": "code",
   "execution_count": 51,
   "id": "technological-pendant",
   "metadata": {},
   "outputs": [
    {
     "data": {
      "text/plain": [
       "(62485, 15)"
      ]
     },
     "execution_count": 51,
     "metadata": {},
     "output_type": "execute_result"
    }
   ],
   "source": [
    "X.shape"
   ]
  },
  {
   "cell_type": "code",
   "execution_count": 52,
   "id": "polish-software",
   "metadata": {},
   "outputs": [
    {
     "data": {
      "text/plain": [
       "(62485,)"
      ]
     },
     "execution_count": 52,
     "metadata": {},
     "output_type": "execute_result"
    }
   ],
   "source": [
    "y.shape"
   ]
  },
  {
   "cell_type": "code",
   "execution_count": 53,
   "id": "stone-tucson",
   "metadata": {},
   "outputs": [
    {
     "data": {
      "text/html": [
       "<div>\n",
       "<style scoped>\n",
       "    .dataframe tbody tr th:only-of-type {\n",
       "        vertical-align: middle;\n",
       "    }\n",
       "\n",
       "    .dataframe tbody tr th {\n",
       "        vertical-align: top;\n",
       "    }\n",
       "\n",
       "    .dataframe thead th {\n",
       "        text-align: right;\n",
       "    }\n",
       "</style>\n",
       "<table border=\"1\" class=\"dataframe\">\n",
       "  <thead>\n",
       "    <tr style=\"text-align: right;\">\n",
       "      <th></th>\n",
       "      <th>FileName</th>\n",
       "      <th>md5Hash</th>\n",
       "      <th>Machine</th>\n",
       "      <th>DebugSize</th>\n",
       "      <th>DebugRVA</th>\n",
       "      <th>MajorImageVersion</th>\n",
       "      <th>MajorOSVersion</th>\n",
       "      <th>ExportRVA</th>\n",
       "      <th>ExportSize</th>\n",
       "      <th>IatVRA</th>\n",
       "      <th>MajorLinkerVersion</th>\n",
       "      <th>MinorLinkerVersion</th>\n",
       "      <th>NumberOfSections</th>\n",
       "      <th>SizeOfStackReserve</th>\n",
       "      <th>DllCharacteristics</th>\n",
       "      <th>ResourceSize</th>\n",
       "      <th>BitcoinAddresses</th>\n",
       "      <th>Benign</th>\n",
       "    </tr>\n",
       "  </thead>\n",
       "  <tbody>\n",
       "    <tr>\n",
       "      <th>0</th>\n",
       "      <td>0124e21d-018c-4ce0-92a3-b9e205a76bc0.dll</td>\n",
       "      <td>79755c51e413ed3c6be4635fd729a6e1</td>\n",
       "      <td>332</td>\n",
       "      <td>0</td>\n",
       "      <td>0</td>\n",
       "      <td>0</td>\n",
       "      <td>4</td>\n",
       "      <td>0</td>\n",
       "      <td>0</td>\n",
       "      <td>8192</td>\n",
       "      <td>8</td>\n",
       "      <td>0</td>\n",
       "      <td>3</td>\n",
       "      <td>1048576</td>\n",
       "      <td>34112</td>\n",
       "      <td>672</td>\n",
       "      <td>0</td>\n",
       "      <td>1</td>\n",
       "    </tr>\n",
       "    <tr>\n",
       "      <th>1</th>\n",
       "      <td>05c8318f98a5d301d80000009c316005.vertdll.dll</td>\n",
       "      <td>95e19f3657d34a432eada93221b0ea16</td>\n",
       "      <td>34404</td>\n",
       "      <td>84</td>\n",
       "      <td>121728</td>\n",
       "      <td>10</td>\n",
       "      <td>10</td>\n",
       "      <td>126576</td>\n",
       "      <td>4930</td>\n",
       "      <td>0</td>\n",
       "      <td>14</td>\n",
       "      <td>10</td>\n",
       "      <td>8</td>\n",
       "      <td>262144</td>\n",
       "      <td>16864</td>\n",
       "      <td>1024</td>\n",
       "      <td>0</td>\n",
       "      <td>1</td>\n",
       "    </tr>\n",
       "    <tr>\n",
       "      <th>2</th>\n",
       "      <td>06054fba-5619-4a86-a861-ffb0464bef5d.dll</td>\n",
       "      <td>85c32641d77a54e19ba8ea4ab305c791</td>\n",
       "      <td>332</td>\n",
       "      <td>0</td>\n",
       "      <td>0</td>\n",
       "      <td>0</td>\n",
       "      <td>4</td>\n",
       "      <td>0</td>\n",
       "      <td>0</td>\n",
       "      <td>8192</td>\n",
       "      <td>8</td>\n",
       "      <td>0</td>\n",
       "      <td>3</td>\n",
       "      <td>1048576</td>\n",
       "      <td>34112</td>\n",
       "      <td>672</td>\n",
       "      <td>0</td>\n",
       "      <td>1</td>\n",
       "    </tr>\n",
       "    <tr>\n",
       "      <th>3</th>\n",
       "      <td>075822ac99a5d301660400009c316005.adhapi.dll</td>\n",
       "      <td>62e3b959d982ef534b66f819fe15f085</td>\n",
       "      <td>34404</td>\n",
       "      <td>84</td>\n",
       "      <td>19904</td>\n",
       "      <td>10</td>\n",
       "      <td>10</td>\n",
       "      <td>21312</td>\n",
       "      <td>252</td>\n",
       "      <td>18160</td>\n",
       "      <td>14</td>\n",
       "      <td>10</td>\n",
       "      <td>6</td>\n",
       "      <td>262144</td>\n",
       "      <td>16736</td>\n",
       "      <td>1040</td>\n",
       "      <td>0</td>\n",
       "      <td>1</td>\n",
       "    </tr>\n",
       "    <tr>\n",
       "      <th>4</th>\n",
       "      <td>090607dd9ba5d301ca0900009c316005.SensorsNative...</td>\n",
       "      <td>ae38c5f7d313ad0ff3bfb8826476767f</td>\n",
       "      <td>34404</td>\n",
       "      <td>84</td>\n",
       "      <td>97728</td>\n",
       "      <td>10</td>\n",
       "      <td>10</td>\n",
       "      <td>105792</td>\n",
       "      <td>1852</td>\n",
       "      <td>70592</td>\n",
       "      <td>14</td>\n",
       "      <td>10</td>\n",
       "      <td>7</td>\n",
       "      <td>262144</td>\n",
       "      <td>16736</td>\n",
       "      <td>1096</td>\n",
       "      <td>0</td>\n",
       "      <td>1</td>\n",
       "    </tr>\n",
       "    <tr>\n",
       "      <th>...</th>\n",
       "      <td>...</td>\n",
       "      <td>...</td>\n",
       "      <td>...</td>\n",
       "      <td>...</td>\n",
       "      <td>...</td>\n",
       "      <td>...</td>\n",
       "      <td>...</td>\n",
       "      <td>...</td>\n",
       "      <td>...</td>\n",
       "      <td>...</td>\n",
       "      <td>...</td>\n",
       "      <td>...</td>\n",
       "      <td>...</td>\n",
       "      <td>...</td>\n",
       "      <td>...</td>\n",
       "      <td>...</td>\n",
       "      <td>...</td>\n",
       "      <td>...</td>\n",
       "    </tr>\n",
       "    <tr>\n",
       "      <th>62480</th>\n",
       "      <td>VirusShare_a43ceb5e5fffc793e0205d15a0606cb0</td>\n",
       "      <td>a43ceb5e5fffc793e0205d15a0606cb0</td>\n",
       "      <td>332</td>\n",
       "      <td>0</td>\n",
       "      <td>0</td>\n",
       "      <td>1</td>\n",
       "      <td>4</td>\n",
       "      <td>0</td>\n",
       "      <td>0</td>\n",
       "      <td>4096</td>\n",
       "      <td>6</td>\n",
       "      <td>0</td>\n",
       "      <td>3</td>\n",
       "      <td>1048576</td>\n",
       "      <td>0</td>\n",
       "      <td>23504</td>\n",
       "      <td>0</td>\n",
       "      <td>0</td>\n",
       "    </tr>\n",
       "    <tr>\n",
       "      <th>62481</th>\n",
       "      <td>VirusShare_0190dafc8304111a00fccf57340ea6a4</td>\n",
       "      <td>0190dafc8304111a00fccf57340ea6a4</td>\n",
       "      <td>332</td>\n",
       "      <td>0</td>\n",
       "      <td>0</td>\n",
       "      <td>7</td>\n",
       "      <td>10</td>\n",
       "      <td>0</td>\n",
       "      <td>0</td>\n",
       "      <td>0</td>\n",
       "      <td>7</td>\n",
       "      <td>0</td>\n",
       "      <td>7</td>\n",
       "      <td>1048576</td>\n",
       "      <td>0</td>\n",
       "      <td>15704</td>\n",
       "      <td>0</td>\n",
       "      <td>0</td>\n",
       "    </tr>\n",
       "    <tr>\n",
       "      <th>62482</th>\n",
       "      <td>VirusShare_0f3ca55979aaf59158d6b01140696e44</td>\n",
       "      <td>0f3ca55979aaf59158d6b01140696e44</td>\n",
       "      <td>332</td>\n",
       "      <td>0</td>\n",
       "      <td>0</td>\n",
       "      <td>0</td>\n",
       "      <td>4</td>\n",
       "      <td>0</td>\n",
       "      <td>0</td>\n",
       "      <td>404908</td>\n",
       "      <td>2</td>\n",
       "      <td>50</td>\n",
       "      <td>11</td>\n",
       "      <td>1048576</td>\n",
       "      <td>0</td>\n",
       "      <td>2364</td>\n",
       "      <td>0</td>\n",
       "      <td>0</td>\n",
       "    </tr>\n",
       "    <tr>\n",
       "      <th>62483</th>\n",
       "      <td>VirusShare_fca5ce35f1690db6babca5aa5d559535</td>\n",
       "      <td>fca5ce35f1690db6babca5aa5d559535</td>\n",
       "      <td>332</td>\n",
       "      <td>0</td>\n",
       "      <td>0</td>\n",
       "      <td>0</td>\n",
       "      <td>4</td>\n",
       "      <td>14448</td>\n",
       "      <td>70</td>\n",
       "      <td>4096</td>\n",
       "      <td>8</td>\n",
       "      <td>0</td>\n",
       "      <td>4</td>\n",
       "      <td>1048576</td>\n",
       "      <td>0</td>\n",
       "      <td>130296</td>\n",
       "      <td>0</td>\n",
       "      <td>0</td>\n",
       "    </tr>\n",
       "    <tr>\n",
       "      <th>62484</th>\n",
       "      <td>VirusShare_d7955a7e6d1e16800feafd4204cbac2b</td>\n",
       "      <td>d7955a7e6d1e16800feafd4204cbac2b</td>\n",
       "      <td>332</td>\n",
       "      <td>0</td>\n",
       "      <td>0</td>\n",
       "      <td>0</td>\n",
       "      <td>5</td>\n",
       "      <td>0</td>\n",
       "      <td>0</td>\n",
       "      <td>4096</td>\n",
       "      <td>9</td>\n",
       "      <td>0</td>\n",
       "      <td>6</td>\n",
       "      <td>1048576</td>\n",
       "      <td>0</td>\n",
       "      <td>6912</td>\n",
       "      <td>0</td>\n",
       "      <td>0</td>\n",
       "    </tr>\n",
       "  </tbody>\n",
       "</table>\n",
       "<p>62485 rows × 18 columns</p>\n",
       "</div>"
      ],
      "text/plain": [
       "                                                FileName  \\\n",
       "0               0124e21d-018c-4ce0-92a3-b9e205a76bc0.dll   \n",
       "1           05c8318f98a5d301d80000009c316005.vertdll.dll   \n",
       "2               06054fba-5619-4a86-a861-ffb0464bef5d.dll   \n",
       "3            075822ac99a5d301660400009c316005.adhapi.dll   \n",
       "4      090607dd9ba5d301ca0900009c316005.SensorsNative...   \n",
       "...                                                  ...   \n",
       "62480        VirusShare_a43ceb5e5fffc793e0205d15a0606cb0   \n",
       "62481        VirusShare_0190dafc8304111a00fccf57340ea6a4   \n",
       "62482        VirusShare_0f3ca55979aaf59158d6b01140696e44   \n",
       "62483        VirusShare_fca5ce35f1690db6babca5aa5d559535   \n",
       "62484        VirusShare_d7955a7e6d1e16800feafd4204cbac2b   \n",
       "\n",
       "                                md5Hash  Machine  DebugSize  DebugRVA  \\\n",
       "0      79755c51e413ed3c6be4635fd729a6e1      332          0         0   \n",
       "1      95e19f3657d34a432eada93221b0ea16    34404         84    121728   \n",
       "2      85c32641d77a54e19ba8ea4ab305c791      332          0         0   \n",
       "3      62e3b959d982ef534b66f819fe15f085    34404         84     19904   \n",
       "4      ae38c5f7d313ad0ff3bfb8826476767f    34404         84     97728   \n",
       "...                                 ...      ...        ...       ...   \n",
       "62480  a43ceb5e5fffc793e0205d15a0606cb0      332          0         0   \n",
       "62481  0190dafc8304111a00fccf57340ea6a4      332          0         0   \n",
       "62482  0f3ca55979aaf59158d6b01140696e44      332          0         0   \n",
       "62483  fca5ce35f1690db6babca5aa5d559535      332          0         0   \n",
       "62484  d7955a7e6d1e16800feafd4204cbac2b      332          0         0   \n",
       "\n",
       "       MajorImageVersion  MajorOSVersion  ExportRVA  ExportSize  IatVRA  \\\n",
       "0                      0               4          0           0    8192   \n",
       "1                     10              10     126576        4930       0   \n",
       "2                      0               4          0           0    8192   \n",
       "3                     10              10      21312         252   18160   \n",
       "4                     10              10     105792        1852   70592   \n",
       "...                  ...             ...        ...         ...     ...   \n",
       "62480                  1               4          0           0    4096   \n",
       "62481                  7              10          0           0       0   \n",
       "62482                  0               4          0           0  404908   \n",
       "62483                  0               4      14448          70    4096   \n",
       "62484                  0               5          0           0    4096   \n",
       "\n",
       "       MajorLinkerVersion  MinorLinkerVersion  NumberOfSections  \\\n",
       "0                       8                   0                 3   \n",
       "1                      14                  10                 8   \n",
       "2                       8                   0                 3   \n",
       "3                      14                  10                 6   \n",
       "4                      14                  10                 7   \n",
       "...                   ...                 ...               ...   \n",
       "62480                   6                   0                 3   \n",
       "62481                   7                   0                 7   \n",
       "62482                   2                  50                11   \n",
       "62483                   8                   0                 4   \n",
       "62484                   9                   0                 6   \n",
       "\n",
       "       SizeOfStackReserve  DllCharacteristics  ResourceSize  BitcoinAddresses  \\\n",
       "0                 1048576               34112           672                 0   \n",
       "1                  262144               16864          1024                 0   \n",
       "2                 1048576               34112           672                 0   \n",
       "3                  262144               16736          1040                 0   \n",
       "4                  262144               16736          1096                 0   \n",
       "...                   ...                 ...           ...               ...   \n",
       "62480             1048576                   0         23504                 0   \n",
       "62481             1048576                   0         15704                 0   \n",
       "62482             1048576                   0          2364                 0   \n",
       "62483             1048576                   0        130296                 0   \n",
       "62484             1048576                   0          6912                 0   \n",
       "\n",
       "       Benign  \n",
       "0           1  \n",
       "1           1  \n",
       "2           1  \n",
       "3           1  \n",
       "4           1  \n",
       "...       ...  \n",
       "62480       0  \n",
       "62481       0  \n",
       "62482       0  \n",
       "62483       0  \n",
       "62484       0  \n",
       "\n",
       "[62485 rows x 18 columns]"
      ]
     },
     "execution_count": 53,
     "metadata": {},
     "output_type": "execute_result"
    }
   ],
   "source": [
    "data2"
   ]
  },
  {
   "cell_type": "code",
   "execution_count": null,
   "id": "australian-digest",
   "metadata": {},
   "outputs": [],
   "source": [
    "{\n",
    "   \"Machine\" : 332,\n",
    "    \"DebugSize\" : 28,\n",
    "    \"DebugRVA\" : 4768,\n",
    "    \"MajorImageVersion\" : 6,\n",
    "    \"MajorOSVersion\" : 6,\n",
    "    \"ExportRVA\" : 96144,\n",
    "    \"ExportSize\": 166,\n",
    "    \"IatVRA\" : 4096,\n",
    "    \"MajorLinkerVersion\" : 9,\n",
    "    \"MinorLinkerVersion\" : 0,\n",
    "    \"NumberOfSections\" : 4,\n",
    "    \"SizeOfStackReserve\" : 262144,\n",
    "    \"DllCharacteristics\" : 448,\n",
    "    \"ResourceSize\" : 4048,\n",
    "    \"BitcoinAddresses\" : 0\n",
    "}\n",
    "\n"
   ]
  }
 ],
 "metadata": {
  "kernelspec": {
   "display_name": "Python 3",
   "language": "python",
   "name": "python3"
  },
  "language_info": {
   "codemirror_mode": {
    "name": "ipython",
    "version": 3
   },
   "file_extension": ".py",
   "mimetype": "text/x-python",
   "name": "python",
   "nbconvert_exporter": "python",
   "pygments_lexer": "ipython3",
   "version": "3.8.8"
  }
 },
 "nbformat": 4,
 "nbformat_minor": 5
}
