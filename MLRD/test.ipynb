{
 "cells": [
  {
   "cell_type": "code",
   "execution_count": 1,
   "metadata": {},
   "outputs": [
    {
     "name": "stderr",
     "output_type": "stream",
     "text": [
      "<ipython-input-1-dfc1676b28a7>:2: FutureWarning: pandas.Int64Index is deprecated and will be removed from pandas in a future version. Use pandas.Index with the appropriate dtype instead.\n",
      "  from pandas import MultiIndex, Int64Index\n"
     ]
    }
   ],
   "source": [
    "import requests\n",
    "from pandas import MultiIndex, Int64Index\n",
    "\n",
    "\n"
   ]
  },
  {
   "cell_type": "code",
   "execution_count": 2,
   "metadata": {},
   "outputs": [],
   "source": [
    "data = {'Machine': 332,\n",
    " 'DebugSize': 0,\n",
    " 'DebugRVA': 0,\n",
    " 'MajorImageVersion': 0,\n",
    " 'MajorOSVersion': 5,\n",
    " 'ExportRVA': 0,\n",
    " 'ExportSize': 0,\n",
    " 'IatVRA': 0,\n",
    " 'MajorLinkerVersion': 9,\n",
    " 'MinorLinkerVersion': 0,\n",
    " 'NumberOfSections': 4,\n",
    " 'SizeOfStackReserve': 1048576,\n",
    " 'DllCharacteristics': 32768,\n",
    " 'ResourceSize': 19280,\n",
    " 'BitcoinAddresses': 0}\n",
    "url = \"http://127.0.0.1:8000/predict/\""
   ]
  },
  {
   "cell_type": "code",
   "execution_count": 3,
   "metadata": {},
   "outputs": [],
   "source": [
    "test = requests.post(url, data)"
   ]
  },
  {
   "cell_type": "code",
   "execution_count": 4,
   "metadata": {},
   "outputs": [
    {
     "name": "stdout",
     "output_type": "stream",
     "text": [
      "{\"prediction\":[0]}\n"
     ]
    }
   ],
   "source": [
    "print(test.text)"
   ]
  },
  {
   "cell_type": "code",
   "execution_count": null,
   "metadata": {},
   "outputs": [],
   "source": []
  }
 ],
 "metadata": {
  "kernelspec": {
   "display_name": "Python 3.8.8 ('tf')",
   "language": "python",
   "name": "python3"
  },
  "language_info": {
   "codemirror_mode": {
    "name": "ipython",
    "version": 3
   },
   "file_extension": ".py",
   "mimetype": "text/x-python",
   "name": "python",
   "nbconvert_exporter": "python",
   "pygments_lexer": "ipython3",
   "version": "3.8.8"
  },
  "orig_nbformat": 4,
  "vscode": {
   "interpreter": {
    "hash": "a5a1bad4c78cc0ed2f15f08bebdd19dd90d7da30ab07e25b8b3e81d72e0e043a"
   }
  }
 },
 "nbformat": 4,
 "nbformat_minor": 2
}
