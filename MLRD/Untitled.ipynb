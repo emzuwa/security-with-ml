{
 "cells": [
  {
   "cell_type": "code",
   "execution_count": 2,
   "id": "extensive-orientation",
   "metadata": {},
   "outputs": [],
   "source": [
    "import pandas as pd\n",
    "import numpy as np\n",
    "import xgboost\n",
    "import warnings\n",
    "warnings.filterwarnings('ignore')"
   ]
  },
  {
   "cell_type": "code",
   "execution_count": 100,
   "id": "incorporated-climb",
   "metadata": {},
   "outputs": [
    {
     "data": {
      "text/html": [
       "<div>\n",
       "<style scoped>\n",
       "    .dataframe tbody tr th:only-of-type {\n",
       "        vertical-align: middle;\n",
       "    }\n",
       "\n",
       "    .dataframe tbody tr th {\n",
       "        vertical-align: top;\n",
       "    }\n",
       "\n",
       "    .dataframe thead th {\n",
       "        text-align: right;\n",
       "    }\n",
       "</style>\n",
       "<table border=\"1\" class=\"dataframe\">\n",
       "  <thead>\n",
       "    <tr style=\"text-align: right;\">\n",
       "      <th></th>\n",
       "      <th>FileName</th>\n",
       "      <th>md5Hash</th>\n",
       "      <th>Machine</th>\n",
       "      <th>DebugSize</th>\n",
       "      <th>DebugRVA</th>\n",
       "      <th>MajorImageVersion</th>\n",
       "      <th>MajorOSVersion</th>\n",
       "      <th>ExportRVA</th>\n",
       "      <th>ExportSize</th>\n",
       "      <th>IatVRA</th>\n",
       "      <th>MajorLinkerVersion</th>\n",
       "      <th>MinorLinkerVersion</th>\n",
       "      <th>NumberOfSections</th>\n",
       "      <th>SizeOfStackReserve</th>\n",
       "      <th>DllCharacteristics</th>\n",
       "      <th>ResourceSize</th>\n",
       "      <th>BitcoinAddresses</th>\n",
       "      <th>Benign</th>\n",
       "    </tr>\n",
       "  </thead>\n",
       "  <tbody>\n",
       "    <tr>\n",
       "      <th>0</th>\n",
       "      <td>0124e21d-018c-4ce0-92a3-b9e205a76bc0.dll</td>\n",
       "      <td>79755c51e413ed3c6be4635fd729a6e1</td>\n",
       "      <td>332</td>\n",
       "      <td>0</td>\n",
       "      <td>0</td>\n",
       "      <td>0</td>\n",
       "      <td>4</td>\n",
       "      <td>0</td>\n",
       "      <td>0</td>\n",
       "      <td>8192</td>\n",
       "      <td>8</td>\n",
       "      <td>0</td>\n",
       "      <td>3</td>\n",
       "      <td>1048576</td>\n",
       "      <td>34112</td>\n",
       "      <td>672</td>\n",
       "      <td>0</td>\n",
       "      <td>1</td>\n",
       "    </tr>\n",
       "    <tr>\n",
       "      <th>1</th>\n",
       "      <td>05c8318f98a5d301d80000009c316005.vertdll.dll</td>\n",
       "      <td>95e19f3657d34a432eada93221b0ea16</td>\n",
       "      <td>34404</td>\n",
       "      <td>84</td>\n",
       "      <td>121728</td>\n",
       "      <td>10</td>\n",
       "      <td>10</td>\n",
       "      <td>126576</td>\n",
       "      <td>4930</td>\n",
       "      <td>0</td>\n",
       "      <td>14</td>\n",
       "      <td>10</td>\n",
       "      <td>8</td>\n",
       "      <td>262144</td>\n",
       "      <td>16864</td>\n",
       "      <td>1024</td>\n",
       "      <td>0</td>\n",
       "      <td>1</td>\n",
       "    </tr>\n",
       "    <tr>\n",
       "      <th>2</th>\n",
       "      <td>06054fba-5619-4a86-a861-ffb0464bef5d.dll</td>\n",
       "      <td>85c32641d77a54e19ba8ea4ab305c791</td>\n",
       "      <td>332</td>\n",
       "      <td>0</td>\n",
       "      <td>0</td>\n",
       "      <td>0</td>\n",
       "      <td>4</td>\n",
       "      <td>0</td>\n",
       "      <td>0</td>\n",
       "      <td>8192</td>\n",
       "      <td>8</td>\n",
       "      <td>0</td>\n",
       "      <td>3</td>\n",
       "      <td>1048576</td>\n",
       "      <td>34112</td>\n",
       "      <td>672</td>\n",
       "      <td>0</td>\n",
       "      <td>1</td>\n",
       "    </tr>\n",
       "    <tr>\n",
       "      <th>3</th>\n",
       "      <td>075822ac99a5d301660400009c316005.adhapi.dll</td>\n",
       "      <td>62e3b959d982ef534b66f819fe15f085</td>\n",
       "      <td>34404</td>\n",
       "      <td>84</td>\n",
       "      <td>19904</td>\n",
       "      <td>10</td>\n",
       "      <td>10</td>\n",
       "      <td>21312</td>\n",
       "      <td>252</td>\n",
       "      <td>18160</td>\n",
       "      <td>14</td>\n",
       "      <td>10</td>\n",
       "      <td>6</td>\n",
       "      <td>262144</td>\n",
       "      <td>16736</td>\n",
       "      <td>1040</td>\n",
       "      <td>0</td>\n",
       "      <td>1</td>\n",
       "    </tr>\n",
       "    <tr>\n",
       "      <th>4</th>\n",
       "      <td>090607dd9ba5d301ca0900009c316005.SensorsNative...</td>\n",
       "      <td>ae38c5f7d313ad0ff3bfb8826476767f</td>\n",
       "      <td>34404</td>\n",
       "      <td>84</td>\n",
       "      <td>97728</td>\n",
       "      <td>10</td>\n",
       "      <td>10</td>\n",
       "      <td>105792</td>\n",
       "      <td>1852</td>\n",
       "      <td>70592</td>\n",
       "      <td>14</td>\n",
       "      <td>10</td>\n",
       "      <td>7</td>\n",
       "      <td>262144</td>\n",
       "      <td>16736</td>\n",
       "      <td>1096</td>\n",
       "      <td>0</td>\n",
       "      <td>1</td>\n",
       "    </tr>\n",
       "    <tr>\n",
       "      <th>...</th>\n",
       "      <td>...</td>\n",
       "      <td>...</td>\n",
       "      <td>...</td>\n",
       "      <td>...</td>\n",
       "      <td>...</td>\n",
       "      <td>...</td>\n",
       "      <td>...</td>\n",
       "      <td>...</td>\n",
       "      <td>...</td>\n",
       "      <td>...</td>\n",
       "      <td>...</td>\n",
       "      <td>...</td>\n",
       "      <td>...</td>\n",
       "      <td>...</td>\n",
       "      <td>...</td>\n",
       "      <td>...</td>\n",
       "      <td>...</td>\n",
       "      <td>...</td>\n",
       "    </tr>\n",
       "    <tr>\n",
       "      <th>62480</th>\n",
       "      <td>VirusShare_a43ceb5e5fffc793e0205d15a0606cb0</td>\n",
       "      <td>a43ceb5e5fffc793e0205d15a0606cb0</td>\n",
       "      <td>332</td>\n",
       "      <td>0</td>\n",
       "      <td>0</td>\n",
       "      <td>1</td>\n",
       "      <td>4</td>\n",
       "      <td>0</td>\n",
       "      <td>0</td>\n",
       "      <td>4096</td>\n",
       "      <td>6</td>\n",
       "      <td>0</td>\n",
       "      <td>3</td>\n",
       "      <td>1048576</td>\n",
       "      <td>0</td>\n",
       "      <td>23504</td>\n",
       "      <td>0</td>\n",
       "      <td>0</td>\n",
       "    </tr>\n",
       "    <tr>\n",
       "      <th>62481</th>\n",
       "      <td>VirusShare_0190dafc8304111a00fccf57340ea6a4</td>\n",
       "      <td>0190dafc8304111a00fccf57340ea6a4</td>\n",
       "      <td>332</td>\n",
       "      <td>0</td>\n",
       "      <td>0</td>\n",
       "      <td>7</td>\n",
       "      <td>10</td>\n",
       "      <td>0</td>\n",
       "      <td>0</td>\n",
       "      <td>0</td>\n",
       "      <td>7</td>\n",
       "      <td>0</td>\n",
       "      <td>7</td>\n",
       "      <td>1048576</td>\n",
       "      <td>0</td>\n",
       "      <td>15704</td>\n",
       "      <td>0</td>\n",
       "      <td>0</td>\n",
       "    </tr>\n",
       "    <tr>\n",
       "      <th>62482</th>\n",
       "      <td>VirusShare_0f3ca55979aaf59158d6b01140696e44</td>\n",
       "      <td>0f3ca55979aaf59158d6b01140696e44</td>\n",
       "      <td>332</td>\n",
       "      <td>0</td>\n",
       "      <td>0</td>\n",
       "      <td>0</td>\n",
       "      <td>4</td>\n",
       "      <td>0</td>\n",
       "      <td>0</td>\n",
       "      <td>404908</td>\n",
       "      <td>2</td>\n",
       "      <td>50</td>\n",
       "      <td>11</td>\n",
       "      <td>1048576</td>\n",
       "      <td>0</td>\n",
       "      <td>2364</td>\n",
       "      <td>0</td>\n",
       "      <td>0</td>\n",
       "    </tr>\n",
       "    <tr>\n",
       "      <th>62483</th>\n",
       "      <td>VirusShare_fca5ce35f1690db6babca5aa5d559535</td>\n",
       "      <td>fca5ce35f1690db6babca5aa5d559535</td>\n",
       "      <td>332</td>\n",
       "      <td>0</td>\n",
       "      <td>0</td>\n",
       "      <td>0</td>\n",
       "      <td>4</td>\n",
       "      <td>14448</td>\n",
       "      <td>70</td>\n",
       "      <td>4096</td>\n",
       "      <td>8</td>\n",
       "      <td>0</td>\n",
       "      <td>4</td>\n",
       "      <td>1048576</td>\n",
       "      <td>0</td>\n",
       "      <td>130296</td>\n",
       "      <td>0</td>\n",
       "      <td>0</td>\n",
       "    </tr>\n",
       "    <tr>\n",
       "      <th>62484</th>\n",
       "      <td>VirusShare_d7955a7e6d1e16800feafd4204cbac2b</td>\n",
       "      <td>d7955a7e6d1e16800feafd4204cbac2b</td>\n",
       "      <td>332</td>\n",
       "      <td>0</td>\n",
       "      <td>0</td>\n",
       "      <td>0</td>\n",
       "      <td>5</td>\n",
       "      <td>0</td>\n",
       "      <td>0</td>\n",
       "      <td>4096</td>\n",
       "      <td>9</td>\n",
       "      <td>0</td>\n",
       "      <td>6</td>\n",
       "      <td>1048576</td>\n",
       "      <td>0</td>\n",
       "      <td>6912</td>\n",
       "      <td>0</td>\n",
       "      <td>0</td>\n",
       "    </tr>\n",
       "  </tbody>\n",
       "</table>\n",
       "<p>62485 rows × 18 columns</p>\n",
       "</div>"
      ],
      "text/plain": [
       "                                                FileName  \\\n",
       "0               0124e21d-018c-4ce0-92a3-b9e205a76bc0.dll   \n",
       "1           05c8318f98a5d301d80000009c316005.vertdll.dll   \n",
       "2               06054fba-5619-4a86-a861-ffb0464bef5d.dll   \n",
       "3            075822ac99a5d301660400009c316005.adhapi.dll   \n",
       "4      090607dd9ba5d301ca0900009c316005.SensorsNative...   \n",
       "...                                                  ...   \n",
       "62480        VirusShare_a43ceb5e5fffc793e0205d15a0606cb0   \n",
       "62481        VirusShare_0190dafc8304111a00fccf57340ea6a4   \n",
       "62482        VirusShare_0f3ca55979aaf59158d6b01140696e44   \n",
       "62483        VirusShare_fca5ce35f1690db6babca5aa5d559535   \n",
       "62484        VirusShare_d7955a7e6d1e16800feafd4204cbac2b   \n",
       "\n",
       "                                md5Hash  Machine  DebugSize  DebugRVA  \\\n",
       "0      79755c51e413ed3c6be4635fd729a6e1      332          0         0   \n",
       "1      95e19f3657d34a432eada93221b0ea16    34404         84    121728   \n",
       "2      85c32641d77a54e19ba8ea4ab305c791      332          0         0   \n",
       "3      62e3b959d982ef534b66f819fe15f085    34404         84     19904   \n",
       "4      ae38c5f7d313ad0ff3bfb8826476767f    34404         84     97728   \n",
       "...                                 ...      ...        ...       ...   \n",
       "62480  a43ceb5e5fffc793e0205d15a0606cb0      332          0         0   \n",
       "62481  0190dafc8304111a00fccf57340ea6a4      332          0         0   \n",
       "62482  0f3ca55979aaf59158d6b01140696e44      332          0         0   \n",
       "62483  fca5ce35f1690db6babca5aa5d559535      332          0         0   \n",
       "62484  d7955a7e6d1e16800feafd4204cbac2b      332          0         0   \n",
       "\n",
       "       MajorImageVersion  MajorOSVersion  ExportRVA  ExportSize  IatVRA  \\\n",
       "0                      0               4          0           0    8192   \n",
       "1                     10              10     126576        4930       0   \n",
       "2                      0               4          0           0    8192   \n",
       "3                     10              10      21312         252   18160   \n",
       "4                     10              10     105792        1852   70592   \n",
       "...                  ...             ...        ...         ...     ...   \n",
       "62480                  1               4          0           0    4096   \n",
       "62481                  7              10          0           0       0   \n",
       "62482                  0               4          0           0  404908   \n",
       "62483                  0               4      14448          70    4096   \n",
       "62484                  0               5          0           0    4096   \n",
       "\n",
       "       MajorLinkerVersion  MinorLinkerVersion  NumberOfSections  \\\n",
       "0                       8                   0                 3   \n",
       "1                      14                  10                 8   \n",
       "2                       8                   0                 3   \n",
       "3                      14                  10                 6   \n",
       "4                      14                  10                 7   \n",
       "...                   ...                 ...               ...   \n",
       "62480                   6                   0                 3   \n",
       "62481                   7                   0                 7   \n",
       "62482                   2                  50                11   \n",
       "62483                   8                   0                 4   \n",
       "62484                   9                   0                 6   \n",
       "\n",
       "       SizeOfStackReserve  DllCharacteristics  ResourceSize  BitcoinAddresses  \\\n",
       "0                 1048576               34112           672                 0   \n",
       "1                  262144               16864          1024                 0   \n",
       "2                 1048576               34112           672                 0   \n",
       "3                  262144               16736          1040                 0   \n",
       "4                  262144               16736          1096                 0   \n",
       "...                   ...                 ...           ...               ...   \n",
       "62480             1048576                   0         23504                 0   \n",
       "62481             1048576                   0         15704                 0   \n",
       "62482             1048576                   0          2364                 0   \n",
       "62483             1048576                   0        130296                 0   \n",
       "62484             1048576                   0          6912                 0   \n",
       "\n",
       "       Benign  \n",
       "0           1  \n",
       "1           1  \n",
       "2           1  \n",
       "3           1  \n",
       "4           1  \n",
       "...       ...  \n",
       "62480       0  \n",
       "62481       0  \n",
       "62482       0  \n",
       "62483       0  \n",
       "62484       0  \n",
       "\n",
       "[62485 rows x 18 columns]"
      ]
     },
     "execution_count": 100,
     "metadata": {},
     "output_type": "execute_result"
    }
   ],
   "source": [
    "data = pd.read_csv('data_file.csv')\n",
    "data"
   ]
  },
  {
   "cell_type": "code",
   "execution_count": 4,
   "id": "backed-consciousness",
   "metadata": {},
   "outputs": [
    {
     "name": "stdout",
     "output_type": "stream",
     "text": [
      "<class 'pandas.core.frame.DataFrame'>\n",
      "RangeIndex: 62485 entries, 0 to 62484\n",
      "Data columns (total 18 columns):\n",
      " #   Column              Non-Null Count  Dtype \n",
      "---  ------              --------------  ----- \n",
      " 0   FileName            62485 non-null  object\n",
      " 1   md5Hash             62485 non-null  object\n",
      " 2   Machine             62485 non-null  int64 \n",
      " 3   DebugSize           62485 non-null  int64 \n",
      " 4   DebugRVA            62485 non-null  int64 \n",
      " 5   MajorImageVersion   62485 non-null  int64 \n",
      " 6   MajorOSVersion      62485 non-null  int64 \n",
      " 7   ExportRVA           62485 non-null  int64 \n",
      " 8   ExportSize          62485 non-null  int64 \n",
      " 9   IatVRA              62485 non-null  int64 \n",
      " 10  MajorLinkerVersion  62485 non-null  int64 \n",
      " 11  MinorLinkerVersion  62485 non-null  int64 \n",
      " 12  NumberOfSections    62485 non-null  int64 \n",
      " 13  SizeOfStackReserve  62485 non-null  int64 \n",
      " 14  DllCharacteristics  62485 non-null  int64 \n",
      " 15  ResourceSize        62485 non-null  int64 \n",
      " 16  BitcoinAddresses    62485 non-null  int64 \n",
      " 17  Benign              62485 non-null  int64 \n",
      "dtypes: int64(16), object(2)\n",
      "memory usage: 8.6+ MB\n"
     ]
    }
   ],
   "source": [
    "data.info()"
   ]
  },
  {
   "cell_type": "code",
   "execution_count": 189,
   "id": "responsible-stone",
   "metadata": {},
   "outputs": [
    {
     "data": {
      "text/plain": [
       "(62485, 18)"
      ]
     },
     "execution_count": 189,
     "metadata": {},
     "output_type": "execute_result"
    }
   ],
   "source": [
    "data.shape"
   ]
  },
  {
   "cell_type": "code",
   "execution_count": 190,
   "id": "scheduled-european",
   "metadata": {},
   "outputs": [
    {
     "data": {
      "text/plain": [
       "array([1, 0], dtype=int64)"
      ]
     },
     "execution_count": 190,
     "metadata": {},
     "output_type": "execute_result"
    }
   ],
   "source": [
    "data2.Benign.unique()"
   ]
  },
  {
   "cell_type": "code",
   "execution_count": 191,
   "id": "substantial-marine",
   "metadata": {},
   "outputs": [
    {
     "data": {
      "text/plain": [
       "0    35367\n",
       "1    27118\n",
       "Name: Benign, dtype: int64"
      ]
     },
     "execution_count": 191,
     "metadata": {},
     "output_type": "execute_result"
    }
   ],
   "source": [
    "data2.Benign.value_counts()"
   ]
  },
  {
   "cell_type": "code",
   "execution_count": 11,
   "id": "continent-conditions",
   "metadata": {},
   "outputs": [
    {
     "data": {
      "text/plain": [
       "0    0.566008\n",
       "1    0.433992\n",
       "Name: Benign, dtype: float64"
      ]
     },
     "execution_count": 11,
     "metadata": {},
     "output_type": "execute_result"
    }
   ],
   "source": [
    "data2.Benign.value_counts(normalize = True)"
   ]
  },
  {
   "cell_type": "code",
   "execution_count": 192,
   "id": "indirect-korean",
   "metadata": {},
   "outputs": [],
   "source": [
    "# import pickle\n",
    "# from sklearn import model_selection\n",
    "# import sklearn.ensemble as ske\n",
    "# import sklearn.metrics\n",
    "# from sklearn.metrics import f1_score\n",
    "# import joblib\n",
    "# from xgboost import XGBClassifier\n",
    "\n",
    "# # Main code function that trains the random forest algorithm on dataset.\n",
    "# def main():\n",
    "#     print('\\n[+] Training MLRD using Random Forest Algorithm...')\n",
    "\n",
    "#     # Creates pandas dataframe and reads in csv file.\n",
    "#     data = pd.read_csv('data_file.csv', sep=',')\n",
    "\n",
    "#     # Drops FileName, md5Hash and Label from data.\n",
    "#     X = data.drop(['FileName', 'md5Hash', 'Benign'], axis=1).values\n",
    "\n",
    "#     # Assigns y to label\n",
    "#     y = data['Benign'].values\n",
    "\n",
    "#     # Splitting data into training and test data\n",
    "#     X_train, X_test, y_train, y_test = model_selection.train_test_split(X, y, test_size=0.2, random_state=42)\n",
    "\n",
    "#     # Print the number of training and testing samples.\n",
    "#     print(\"\\n\\t[*] Training samples: \", len(X_train))\n",
    "#     print(\"\\t[*] Testing samples: \", len(X_test))\n",
    "\n",
    "#     # Train Random forest algorithm on training dataset.\n",
    "#     model = XGBClassifier(use_label_encoder=False, eval_metric='mlogloss')\n",
    "#     model.fit(X_train, y_train)\n",
    "\n",
    "# #     clf = \n",
    "# #     clf.fit(X_train, y_train)\n",
    "\n",
    "#     # Perform cross validation and print out accuracy.\n",
    "#     score = model_selection.cross_val_score(model, X_test, y_test, cv=10)\n",
    "#     print(\"\\n\\t[*] Training Score [Accuracy]: \",model.score(X_train, y_train))\n",
    "#     print(\"\\n\\t[*] Test Score [Accuracy]: \",model.score(X_test, y_test))\n",
    "#     print(\"\\n\\t[*] Cross Validation Score: \", round(score.mean()*100, 2), '%')\n",
    "\n",
    "#     # Calculate f1 score.\n",
    "#     y_train_pred = model_selection.cross_val_predict(model, X_train, y_train, cv=3)\n",
    "#     f = f1_score(y_train, y_train_pred)\n",
    "#     print(\"\\t[*] F1 Score: \", round(f*100, 2), '%')\n",
    "\n",
    "# if __name__ == '__main__':\n",
    "#     main()\n"
   ]
  },
  {
   "cell_type": "code",
   "execution_count": null,
   "id": "automated-danger",
   "metadata": {},
   "outputs": [],
   "source": []
  },
  {
   "cell_type": "code",
   "execution_count": 9,
   "id": "c4199dbf",
   "metadata": {},
   "outputs": [],
   "source": [
    "# XGBOOST MODEL\n",
    "import pickle\n",
    "from sklearn import model_selection\n",
    "import sklearn.ensemble as ske\n",
    "import sklearn.metrics\n",
    "from sklearn.metrics import f1_score\n",
    "import joblib\n",
    "from xgboost import XGBClassifier"
   ]
  },
  {
   "cell_type": "code",
   "execution_count": 271,
   "id": "earlier-france",
   "metadata": {},
   "outputs": [],
   "source": [
    "\n",
    "\n",
    "data = pd.read_csv('data_file.csv', sep=',')\n",
    "# Features\n",
    "X = data.drop(['FileName', 'md5Hash', 'Benign','Machine'], axis=1).values\n",
    "# Label\n",
    "y = data['Benign'].values\n",
    " # Splitting data into training and test data\n",
    "x_train_xgb, x_test_xgb, y_train_xgb, y_test_xgb = model_selection.train_test_split(X, y,test_size = 0.2,random_state=42)\n",
    "\n",
    "xgb_model = XGBClassifier(use_label_encoder=False, eval_metric='mlogloss')\n",
    "xgb_model.fit(x_train_xgb, y_train_xgb)\n",
    "\n",
    "score = model_selection.cross_val_score(xgb_model, x_test, y_test, cv=10)\n",
    "# print(\"\\n\\t[*] Training Score [Accuracy]: \",xgb_model.score(x_train, y_train))\n",
    "# print(\"\\n\\t[*] Test Score [Accuracy]: \",xgb_model.score(x_test, y_test))\n",
    "# print(\"\\n\\t[*] Cross Validation Score: \", round(score.mean()*100, 2), '%')\n"
   ]
  },
  {
   "cell_type": "code",
   "execution_count": null,
   "id": "50812e60",
   "metadata": {},
   "outputs": [],
   "source": [
    "# xgb_model.fit(x_train, y_train)"
   ]
  },
  {
   "cell_type": "code",
   "execution_count": 272,
   "id": "84177ca0",
   "metadata": {},
   "outputs": [
    {
     "data": {
      "text/plain": [
       "0.9988197167320156"
      ]
     },
     "execution_count": 272,
     "metadata": {},
     "output_type": "execute_result"
    }
   ],
   "source": [
    "xgb_model.score(x_train, y_train)"
   ]
  },
  {
   "cell_type": "code",
   "execution_count": 273,
   "id": "84b90ab6",
   "metadata": {},
   "outputs": [
    {
     "data": {
      "text/plain": [
       "array([0, 1, 1, ..., 1, 0, 1])"
      ]
     },
     "execution_count": 273,
     "metadata": {},
     "output_type": "execute_result"
    }
   ],
   "source": [
    "xgb_model.predict(x_test)"
   ]
  },
  {
   "cell_type": "code",
   "execution_count": 250,
   "id": "1a00ffba",
   "metadata": {},
   "outputs": [
    {
     "data": {
      "text/plain": [
       "((49988, 14), (12497, 14))"
      ]
     },
     "execution_count": 250,
     "metadata": {},
     "output_type": "execute_result"
    }
   ],
   "source": [
    "x_train.shape, x_test.shape"
   ]
  },
  {
   "cell_type": "code",
   "execution_count": 257,
   "id": "111d5488",
   "metadata": {},
   "outputs": [],
   "source": [
    "b = x_test[0]\n",
    "# b\n",
    "pred4 = xgb_model.predict([b])"
   ]
  },
  {
   "cell_type": "code",
   "execution_count": null,
   "id": "89817d6e",
   "metadata": {},
   "outputs": [],
   "source": []
  },
  {
   "cell_type": "code",
   "execution_count": null,
   "id": "fa52eb5c",
   "metadata": {},
   "outputs": [],
   "source": []
  },
  {
   "cell_type": "code",
   "execution_count": null,
   "id": "067a64b0",
   "metadata": {},
   "outputs": [],
   "source": [
    "#LSTM"
   ]
  },
  {
   "cell_type": "code",
   "execution_count": 291,
   "id": "dbc591aa",
   "metadata": {},
   "outputs": [],
   "source": [
    "from keras.models import Sequential\n",
    "from keras.layers import *\n",
    "from keras.callbacks import ModelCheckpoint\n",
    "from keras.losses import MeanSquaredError\n",
    "from keras.metrics import RootMeanSquaredError\n",
    "from keras.optimizers import Adam\n",
    "from keras.layers import Dropout\n",
    "from keras.models import load_model\n",
    "    \n",
    "    \n"
   ]
  },
  {
   "cell_type": "code",
   "execution_count": null,
   "id": "a377df5c",
   "metadata": {},
   "outputs": [],
   "source": []
  },
  {
   "cell_type": "code",
   "execution_count": 274,
   "id": "26e27281",
   "metadata": {},
   "outputs": [],
   "source": [
    "from sklearn.model_selection import train_test_split\n",
    "x_train_lstm,x_test_lstm,y_train_lstm,y_test_lstm= train_test_split(X, y, test_size = 0.20)"
   ]
  },
  {
   "cell_type": "code",
   "execution_count": 275,
   "id": "e4f989ba",
   "metadata": {},
   "outputs": [],
   "source": [
    "# Features\n",
    "X = data.drop(['FileName', 'md5Hash', 'Benign','Machine'], axis=1).values\n",
    "# Label\n",
    "y = data['Benign'].values\n",
    " # Splitting data into training and test data\n",
    "x_train_lstm,x_test_lstm,y_train_lstm,y_test_lstm= train_test_split(X, y, test_size = 0.20)\n"
   ]
  },
  {
   "cell_type": "code",
   "execution_count": 234,
   "id": "b04d8215",
   "metadata": {},
   "outputs": [],
   "source": [
    "# from sklearn.preprocessing import MinMaxScaler\n",
    "# mms = MinMaxScaler()\n",
    "# mms.fit(x_train)\n",
    "# x_train = mms.transform(x_train)\n",
    "# x_test = mms.transform(x_test)"
   ]
  },
  {
   "cell_type": "code",
   "execution_count": 176,
   "id": "74510438",
   "metadata": {},
   "outputs": [],
   "source": [
    "# model = Sequential()\n",
    "# model.add(Dense(100, input_dim = 13, activation='relu')\n",
    "# model.add(Dense(100, activation='relu')\n",
    "# model.add(Dense(1, activation='linear'))"
   ]
  },
  {
   "cell_type": "code",
   "execution_count": 276,
   "id": "f98023c0",
   "metadata": {},
   "outputs": [
    {
     "data": {
      "text/plain": [
       "(62485, 18)"
      ]
     },
     "execution_count": 276,
     "metadata": {},
     "output_type": "execute_result"
    }
   ],
   "source": [
    "data.shape"
   ]
  },
  {
   "cell_type": "code",
   "execution_count": 277,
   "id": "3a6a0b6d",
   "metadata": {},
   "outputs": [
    {
     "data": {
      "text/plain": [
       "(49988, 14)"
      ]
     },
     "execution_count": 277,
     "metadata": {},
     "output_type": "execute_result"
    }
   ],
   "source": [
    "x_train.shape"
   ]
  },
  {
   "cell_type": "code",
   "execution_count": 278,
   "id": "8bfa80a0",
   "metadata": {},
   "outputs": [],
   "source": [
    "# reshape the input data for an LSTM network\n",
    "x_train_lstm = x_train_lstm.reshape(x_train_lstm.shape[0], 1, x_train_lstm.shape[1])\n",
    "x_test_lstm = x_test_lstm.reshape(x_test_lstm.shape[0], 1, x_test_lstm.shape[1])"
   ]
  },
  {
   "cell_type": "code",
   "execution_count": 280,
   "id": "14a26736",
   "metadata": {},
   "outputs": [
    {
     "data": {
      "text/plain": [
       "(49988, 1, 14)"
      ]
     },
     "execution_count": 280,
     "metadata": {},
     "output_type": "execute_result"
    }
   ],
   "source": [
    "x_train_lstm.shape"
   ]
  },
  {
   "cell_type": "code",
   "execution_count": 288,
   "id": "de3ca36f",
   "metadata": {},
   "outputs": [
    {
     "name": "stdout",
     "output_type": "stream",
     "text": [
      "Epoch 1/5\n",
      "1563/1563 [==============================] - 15s 9ms/step - loss: 8.6305 - accuracy: 0.4340 - val_loss: 8.6344 - val_accuracy: 0.4338\n",
      "Epoch 2/5\n",
      "1563/1563 [==============================] - 14s 9ms/step - loss: 8.6305 - accuracy: 0.4340 - val_loss: 8.6344 - val_accuracy: 0.4338\n",
      "Epoch 3/5\n",
      "1563/1563 [==============================] - 17s 11ms/step - loss: 8.6305 - accuracy: 0.4340 - val_loss: 8.6344 - val_accuracy: 0.4338\n",
      "Epoch 4/5\n",
      "1563/1563 [==============================] - 17s 11ms/step - loss: 8.6305 - accuracy: 0.4340 - val_loss: 8.6344 - val_accuracy: 0.4338\n",
      "Epoch 5/5\n",
      "1563/1563 [==============================] - 17s 11ms/step - loss: 8.6305 - accuracy: 0.4340 - val_loss: 8.6344 - val_accuracy: 0.4338\n"
     ]
    },
    {
     "data": {
      "text/plain": [
       "<tensorflow.python.keras.callbacks.History at 0x25a8b3fe430>"
      ]
     },
     "execution_count": 288,
     "metadata": {},
     "output_type": "execute_result"
    }
   ],
   "source": [
    "# define the model\n",
    "model2 = Sequential()\n",
    "model2.add(LSTM(50, input_shape=(1, 14), return_sequences = True))\n",
    "model2.add(Dropout(0.2))\n",
    "model2.add(LSTM(50,return_sequences = False))\n",
    "model2.add(Dense(1, activation='softmax'))\n",
    "# model.compile(loss='binary-crossentropy', optimizer='adam')\n",
    "\n",
    "# # fit the model to the training data\n",
    "# model.fit(x_train, y_train, epochs=10, batch_size=32, validation_data=(X_test, y_test))\n",
    "\n",
    "\n",
    "model2.compile(loss='binary_crossentropy', optimizer='adam', metrics=['accuracy'])\n",
    "model2.fit(x_train_lstm, y_train_lstm, epochs=5, batch_size=32, validation_data=(x_test_lstm,\n",
    "                                                                                 y_test_lstm))\n",
    "\n",
    "# model.compile(loss='categorical_crossentropy',\n",
    "#               optimizer='adam',\n",
    "#               metrics=['accuracy'])\n"
   ]
  },
  {
   "cell_type": "code",
   "execution_count": 290,
   "id": "d6bc7821",
   "metadata": {},
   "outputs": [
    {
     "name": "stdout",
     "output_type": "stream",
     "text": [
      "1563/1563 [==============================] - 6s 4ms/step - loss: 8.6305 - accuracy: 0.4340\n"
     ]
    },
    {
     "data": {
      "text/plain": [
       "[8.630472183227539, 0.4340441823005676]"
      ]
     },
     "execution_count": 290,
     "metadata": {},
     "output_type": "execute_result"
    }
   ],
   "source": [
    "model2.evaluate(x_train_lstm, y_train_lstm)\n",
    "# j"
   ]
  },
  {
   "cell_type": "code",
   "execution_count": 292,
   "id": "9a2c1f97",
   "metadata": {},
   "outputs": [],
   "source": [
    "model2.save('my_lstm_model.h5')  # creates a HDF5 file 'my_model.h5'\n",
    "#     del model  # deletes the existing model\n",
    "    \n",
    "#     # returns a compiled model\n",
    "#     # identical to the previous one\n",
    "#     model = load_model('my_model.h5')\n"
   ]
  },
  {
   "cell_type": "code",
   "execution_count": null,
   "id": "897c0e15",
   "metadata": {},
   "outputs": [],
   "source": []
  },
  {
   "cell_type": "code",
   "execution_count": 121,
   "id": "c858ec96",
   "metadata": {},
   "outputs": [],
   "source": [
    "# b = [[56,  147600,       0,       4,  148496,     186,\n",
    "#          147456,       5,      12,       5, 1048576,       0,     808,\n",
    "#               0]]\n",
    "# model.predict(b)\n",
    "# b  = [  332,      56,  147600,       0,       4,  148496,     186,\n",
    "#         147456,       5,      12,       5, 1048576,       0,     808,\n",
    "#               0]\n",
    "# # b = np.array(b)\n",
    "# # model.predict(b)\n",
    "\n",
    "# b = b.reshape(b.shape[0], 1, b.shape[1])"
   ]
  },
  {
   "cell_type": "code",
   "execution_count": 245,
   "id": "234fd86c",
   "metadata": {},
   "outputs": [],
   "source": [
    "b = x_test[0]\n",
    "c = b.reshape(b.shape[0], 1, b.shape[1])\n",
    "pred5 = model2.predict(c)\n",
    "\n",
    "\n",
    "# ## Stop here"
   ]
  },
  {
   "cell_type": "code",
   "execution_count": 237,
   "id": "8109c012",
   "metadata": {},
   "outputs": [
    {
     "data": {
      "text/plain": [
       "array([      0,       0,       0,       4,       0,       0,   40960,\n",
       "             9,       0,       5, 1048576,       0,   43928,       0],\n",
       "      dtype=int64)"
      ]
     },
     "execution_count": 237,
     "metadata": {},
     "output_type": "execute_result"
    }
   ],
   "source": []
  },
  {
   "cell_type": "code",
   "execution_count": null,
   "id": "3d906ee8",
   "metadata": {},
   "outputs": [],
   "source": []
  },
  {
   "cell_type": "code",
   "execution_count": null,
   "id": "0cc5e496",
   "metadata": {},
   "outputs": [],
   "source": []
  },
  {
   "cell_type": "code",
   "execution_count": null,
   "id": "e95a281b",
   "metadata": {},
   "outputs": [],
   "source": []
  },
  {
   "cell_type": "code",
   "execution_count": 334,
   "id": "72463284",
   "metadata": {},
   "outputs": [],
   "source": [
    "import numpy as np\n",
    "from sklearn.datasets import load_boston\n",
    "from hmmlearn import hmm"
   ]
  },
  {
   "cell_type": "code",
   "execution_count": 357,
   "id": "064f0850",
   "metadata": {},
   "outputs": [],
   "source": [
    "data = pd.read_csv('data_file.csv', sep=',')\n"
   ]
  },
  {
   "cell_type": "code",
   "execution_count": 358,
   "id": "fdad65c0",
   "metadata": {},
   "outputs": [],
   "source": [
    "#Dropping some collumns including the target featvariableure\n",
    "X = data.drop(['FileName','md5Hash','Machine', 'Benign'], axis=1)\n",
    "#Isolating the target variable (1 is Malicious 0 is Benign)\n",
    "y = data['Benign']"
   ]
  },
  {
   "cell_type": "code",
   "execution_count": 359,
   "id": "3fe7d437",
   "metadata": {},
   "outputs": [],
   "source": [
    "#Train Test Splitting and putting the data into numpy arrays. And creating collumn stacks.\n",
    "x_train_hmm, x_test_hmm, y_train_hmm, y_test_hmm = train_test_split(X, y, test_size=0.2)\n",
    "npX_train_hmm=np.array(X)\n",
    "npy_train_hmm=np.array(y)\n",
    "train_features=np.column_stack((npX_train_hmm,npy_train_hmm))\n",
    "\n",
    "npX_test_hmm=np.array(x_test_hmm)\n",
    "npy_test_hmm=np.array(y_test_hmm)\n",
    "test_features=np.column_stack((npX_test_hmm,npy_test_hmm))\n"
   ]
  },
  {
   "cell_type": "code",
   "execution_count": 360,
   "id": "18389a7c",
   "metadata": {},
   "outputs": [
    {
     "data": {
      "text/plain": [
       "((49988, 14), (12497, 14))"
      ]
     },
     "execution_count": 360,
     "metadata": {},
     "output_type": "execute_result"
    }
   ],
   "source": [
    "x_train_hmm.shape, x_test_hmm.shape"
   ]
  },
  {
   "cell_type": "code",
   "execution_count": 361,
   "id": "30ba7e42",
   "metadata": {},
   "outputs": [
    {
     "data": {
      "text/plain": [
       "GaussianHMM(n_components=2, n_iter=50, random_state=42)"
      ]
     },
     "execution_count": 361,
     "metadata": {},
     "output_type": "execute_result"
    }
   ],
   "source": [
    "#Creating the HMM model and fitting the data\n",
    "from hmmlearn.hmm import GaussianHMM\n",
    "hmm = GaussianHMM(n_components = 2, covariance_type = \"diag\", n_iter = 50, random_state = 42)\n",
    "hmm.fit(train_features)"
   ]
  },
  {
   "cell_type": "code",
   "execution_count": 362,
   "id": "f883462d",
   "metadata": {},
   "outputs": [],
   "source": [
    "#Predicting HMM\n",
    "Z = hmm.predict(test_features)"
   ]
  },
  {
   "cell_type": "code",
   "execution_count": 339,
   "id": "6a40aede",
   "metadata": {},
   "outputs": [
    {
     "data": {
      "text/plain": [
       "(12497,)"
      ]
     },
     "execution_count": 339,
     "metadata": {},
     "output_type": "execute_result"
    }
   ],
   "source": [
    "Z.shape"
   ]
  },
  {
   "cell_type": "code",
   "execution_count": null,
   "id": "95a4f93b",
   "metadata": {},
   "outputs": [],
   "source": []
  },
  {
   "cell_type": "code",
   "execution_count": null,
   "id": "6f789751",
   "metadata": {},
   "outputs": [],
   "source": []
  },
  {
   "cell_type": "code",
   "execution_count": null,
   "id": "b0b3adde",
   "metadata": {},
   "outputs": [],
   "source": []
  },
  {
   "cell_type": "code",
   "execution_count": 369,
   "id": "3405df17",
   "metadata": {},
   "outputs": [
    {
     "data": {
      "text/plain": [
       "array([0, 0, 0, 0, 0, 0, 0, 0, 0, 0, 0, 0, 0, 0], dtype=int64)"
      ]
     },
     "execution_count": 369,
     "metadata": {},
     "output_type": "execute_result"
    }
   ],
   "source": [
    "b = x_test_hmm[:1]\n",
    "test_b = np.array(b)\n",
    "test_b = np.column_stack(test_b)\n",
    "pred6 = hmm.predict(test_b)\n",
    "pred6\n",
    "\n",
    "\n",
    "# Example stops here"
   ]
  },
  {
   "cell_type": "code",
   "execution_count": 381,
   "id": "e9c8a6af",
   "metadata": {},
   "outputs": [
    {
     "data": {
      "text/plain": [
       "(1,)"
      ]
     },
     "execution_count": 381,
     "metadata": {},
     "output_type": "execute_result"
    }
   ],
   "source": [
    "pred4.shape"
   ]
  },
  {
   "cell_type": "code",
   "execution_count": 380,
   "id": "d7133145",
   "metadata": {},
   "outputs": [
    {
     "data": {
      "text/plain": [
       "(1, 1)"
      ]
     },
     "execution_count": 380,
     "metadata": {},
     "output_type": "execute_result"
    }
   ],
   "source": [
    "\n",
    "pred5.shape"
   ]
  },
  {
   "cell_type": "code",
   "execution_count": 383,
   "id": "82dd1645",
   "metadata": {},
   "outputs": [
    {
     "data": {
      "text/plain": [
       "(14,)"
      ]
     },
     "execution_count": 383,
     "metadata": {},
     "output_type": "execute_result"
    }
   ],
   "source": [
    "pred6.shape"
   ]
  },
  {
   "cell_type": "code",
   "execution_count": null,
   "id": "fc38665f",
   "metadata": {},
   "outputs": [],
   "source": []
  },
  {
   "cell_type": "code",
   "execution_count": 384,
   "id": "97989b9e",
   "metadata": {},
   "outputs": [
    {
     "data": {
      "text/html": [
       "<div>\n",
       "<style scoped>\n",
       "    .dataframe tbody tr th:only-of-type {\n",
       "        vertical-align: middle;\n",
       "    }\n",
       "\n",
       "    .dataframe tbody tr th {\n",
       "        vertical-align: top;\n",
       "    }\n",
       "\n",
       "    .dataframe thead th {\n",
       "        text-align: right;\n",
       "    }\n",
       "</style>\n",
       "<table border=\"1\" class=\"dataframe\">\n",
       "  <thead>\n",
       "    <tr style=\"text-align: right;\">\n",
       "      <th></th>\n",
       "      <th>DebugSize</th>\n",
       "      <th>DebugRVA</th>\n",
       "      <th>MajorImageVersion</th>\n",
       "      <th>MajorOSVersion</th>\n",
       "      <th>ExportRVA</th>\n",
       "      <th>ExportSize</th>\n",
       "      <th>IatVRA</th>\n",
       "      <th>MajorLinkerVersion</th>\n",
       "      <th>MinorLinkerVersion</th>\n",
       "      <th>NumberOfSections</th>\n",
       "      <th>SizeOfStackReserve</th>\n",
       "      <th>DllCharacteristics</th>\n",
       "      <th>ResourceSize</th>\n",
       "      <th>BitcoinAddresses</th>\n",
       "    </tr>\n",
       "  </thead>\n",
       "  <tbody>\n",
       "    <tr>\n",
       "      <th>55572</th>\n",
       "      <td>28</td>\n",
       "      <td>155648</td>\n",
       "      <td>0</td>\n",
       "      <td>4</td>\n",
       "      <td>166128</td>\n",
       "      <td>392</td>\n",
       "      <td>78352</td>\n",
       "      <td>8</td>\n",
       "      <td>0</td>\n",
       "      <td>7</td>\n",
       "      <td>1048576</td>\n",
       "      <td>64</td>\n",
       "      <td>2808</td>\n",
       "      <td>0</td>\n",
       "    </tr>\n",
       "  </tbody>\n",
       "</table>\n",
       "</div>"
      ],
      "text/plain": [
       "       DebugSize  DebugRVA  MajorImageVersion  MajorOSVersion  ExportRVA  \\\n",
       "55572         28    155648                  0               4     166128   \n",
       "\n",
       "       ExportSize  IatVRA  MajorLinkerVersion  MinorLinkerVersion  \\\n",
       "55572         392   78352                   8                   0   \n",
       "\n",
       "       NumberOfSections  SizeOfStackReserve  DllCharacteristics  ResourceSize  \\\n",
       "55572                 7             1048576                  64          2808   \n",
       "\n",
       "       BitcoinAddresses  \n",
       "55572                 0  "
      ]
     },
     "execution_count": 384,
     "metadata": {},
     "output_type": "execute_result"
    }
   ],
   "source": [
    "b = x_test_hmm[:1]\n",
    "b"
   ]
  },
  {
   "cell_type": "code",
   "execution_count": 385,
   "id": "9658b99f",
   "metadata": {},
   "outputs": [
    {
     "data": {
      "text/plain": [
       "array([0, 0, 0, 0, 0, 0, 0, 0, 0, 0, 0, 0, 0, 0], dtype=int64)"
      ]
     },
     "execution_count": 385,
     "metadata": {},
     "output_type": "execute_result"
    }
   ],
   "source": [
    "test_b = np.array(b)\n",
    "test_b = np.column_stack(test_b)\n",
    "pred6 = hmm.predict(test_b)\n",
    "pred6\n"
   ]
  },
  {
   "cell_type": "code",
   "execution_count": null,
   "id": "ebf3b6b6",
   "metadata": {},
   "outputs": [],
   "source": []
  },
  {
   "cell_type": "code",
   "execution_count": null,
   "id": "a27bff23",
   "metadata": {},
   "outputs": [],
   "source": []
  },
  {
   "cell_type": "code",
   "execution_count": null,
   "id": "5f97b5cf",
   "metadata": {},
   "outputs": [],
   "source": []
  },
  {
   "cell_type": "code",
   "execution_count": null,
   "id": "e132caf6",
   "metadata": {},
   "outputs": [],
   "source": []
  },
  {
   "cell_type": "code",
   "execution_count": 372,
   "id": "6e42cacf",
   "metadata": {},
   "outputs": [],
   "source": []
  },
  {
   "cell_type": "code",
   "execution_count": 373,
   "id": "5e9506c3",
   "metadata": {},
   "outputs": [
    {
     "data": {
      "text/plain": [
       "array([[     0,      0,      0, ...,    672,      0,      1],\n",
       "       [    84, 121728,     10, ...,   1024,      0,      1],\n",
       "       [     0,      0,      0, ...,    672,      0,      1],\n",
       "       ...,\n",
       "       [     0,      0,      0, ...,   2364,      0,      0],\n",
       "       [     0,      0,      0, ..., 130296,      0,      0],\n",
       "       [     0,      0,      0, ...,   6912,      0,      0]], dtype=int64)"
      ]
     },
     "execution_count": 373,
     "metadata": {},
     "output_type": "execute_result"
    }
   ],
   "source": [
    "train_features"
   ]
  },
  {
   "cell_type": "code",
   "execution_count": 144,
   "id": "c0924057",
   "metadata": {},
   "outputs": [
    {
     "data": {
      "text/plain": [
       "array([[     0,      0,      0, ...,    672,      0,      1],\n",
       "       [    84, 121728,     10, ...,   1024,      0,      1],\n",
       "       [     0,      0,      0, ...,    672,      0,      1],\n",
       "       ...,\n",
       "       [     0,      0,      0, ...,   2364,      0,      0],\n",
       "       [     0,      0,      0, ..., 130296,      0,      0],\n",
       "       [     0,      0,      0, ...,   6912,      0,      0]], dtype=int64)"
      ]
     },
     "execution_count": 144,
     "metadata": {},
     "output_type": "execute_result"
    }
   ],
   "source": [
    "test_features"
   ]
  },
  {
   "cell_type": "code",
   "execution_count": 145,
   "id": "f3dd02fe",
   "metadata": {},
   "outputs": [
    {
     "data": {
      "text/html": [
       "<div>\n",
       "<style scoped>\n",
       "    .dataframe tbody tr th:only-of-type {\n",
       "        vertical-align: middle;\n",
       "    }\n",
       "\n",
       "    .dataframe tbody tr th {\n",
       "        vertical-align: top;\n",
       "    }\n",
       "\n",
       "    .dataframe thead th {\n",
       "        text-align: right;\n",
       "    }\n",
       "</style>\n",
       "<table border=\"1\" class=\"dataframe\">\n",
       "  <thead>\n",
       "    <tr style=\"text-align: right;\">\n",
       "      <th></th>\n",
       "      <th>DebugSize</th>\n",
       "      <th>DebugRVA</th>\n",
       "      <th>MajorImageVersion</th>\n",
       "      <th>MajorOSVersion</th>\n",
       "      <th>ExportRVA</th>\n",
       "      <th>ExportSize</th>\n",
       "      <th>IatVRA</th>\n",
       "      <th>MajorLinkerVersion</th>\n",
       "      <th>MinorLinkerVersion</th>\n",
       "      <th>NumberOfSections</th>\n",
       "      <th>SizeOfStackReserve</th>\n",
       "      <th>DllCharacteristics</th>\n",
       "      <th>ResourceSize</th>\n",
       "      <th>BitcoinAddresses</th>\n",
       "    </tr>\n",
       "  </thead>\n",
       "  <tbody>\n",
       "    <tr>\n",
       "      <th>0</th>\n",
       "      <td>0</td>\n",
       "      <td>0</td>\n",
       "      <td>0</td>\n",
       "      <td>4</td>\n",
       "      <td>0</td>\n",
       "      <td>0</td>\n",
       "      <td>8192</td>\n",
       "      <td>8</td>\n",
       "      <td>0</td>\n",
       "      <td>3</td>\n",
       "      <td>1048576</td>\n",
       "      <td>34112</td>\n",
       "      <td>672</td>\n",
       "      <td>0</td>\n",
       "    </tr>\n",
       "    <tr>\n",
       "      <th>1</th>\n",
       "      <td>84</td>\n",
       "      <td>121728</td>\n",
       "      <td>10</td>\n",
       "      <td>10</td>\n",
       "      <td>126576</td>\n",
       "      <td>4930</td>\n",
       "      <td>0</td>\n",
       "      <td>14</td>\n",
       "      <td>10</td>\n",
       "      <td>8</td>\n",
       "      <td>262144</td>\n",
       "      <td>16864</td>\n",
       "      <td>1024</td>\n",
       "      <td>0</td>\n",
       "    </tr>\n",
       "    <tr>\n",
       "      <th>2</th>\n",
       "      <td>0</td>\n",
       "      <td>0</td>\n",
       "      <td>0</td>\n",
       "      <td>4</td>\n",
       "      <td>0</td>\n",
       "      <td>0</td>\n",
       "      <td>8192</td>\n",
       "      <td>8</td>\n",
       "      <td>0</td>\n",
       "      <td>3</td>\n",
       "      <td>1048576</td>\n",
       "      <td>34112</td>\n",
       "      <td>672</td>\n",
       "      <td>0</td>\n",
       "    </tr>\n",
       "    <tr>\n",
       "      <th>3</th>\n",
       "      <td>84</td>\n",
       "      <td>19904</td>\n",
       "      <td>10</td>\n",
       "      <td>10</td>\n",
       "      <td>21312</td>\n",
       "      <td>252</td>\n",
       "      <td>18160</td>\n",
       "      <td>14</td>\n",
       "      <td>10</td>\n",
       "      <td>6</td>\n",
       "      <td>262144</td>\n",
       "      <td>16736</td>\n",
       "      <td>1040</td>\n",
       "      <td>0</td>\n",
       "    </tr>\n",
       "    <tr>\n",
       "      <th>4</th>\n",
       "      <td>84</td>\n",
       "      <td>97728</td>\n",
       "      <td>10</td>\n",
       "      <td>10</td>\n",
       "      <td>105792</td>\n",
       "      <td>1852</td>\n",
       "      <td>70592</td>\n",
       "      <td>14</td>\n",
       "      <td>10</td>\n",
       "      <td>7</td>\n",
       "      <td>262144</td>\n",
       "      <td>16736</td>\n",
       "      <td>1096</td>\n",
       "      <td>0</td>\n",
       "    </tr>\n",
       "    <tr>\n",
       "      <th>...</th>\n",
       "      <td>...</td>\n",
       "      <td>...</td>\n",
       "      <td>...</td>\n",
       "      <td>...</td>\n",
       "      <td>...</td>\n",
       "      <td>...</td>\n",
       "      <td>...</td>\n",
       "      <td>...</td>\n",
       "      <td>...</td>\n",
       "      <td>...</td>\n",
       "      <td>...</td>\n",
       "      <td>...</td>\n",
       "      <td>...</td>\n",
       "      <td>...</td>\n",
       "    </tr>\n",
       "    <tr>\n",
       "      <th>62480</th>\n",
       "      <td>0</td>\n",
       "      <td>0</td>\n",
       "      <td>1</td>\n",
       "      <td>4</td>\n",
       "      <td>0</td>\n",
       "      <td>0</td>\n",
       "      <td>4096</td>\n",
       "      <td>6</td>\n",
       "      <td>0</td>\n",
       "      <td>3</td>\n",
       "      <td>1048576</td>\n",
       "      <td>0</td>\n",
       "      <td>23504</td>\n",
       "      <td>0</td>\n",
       "    </tr>\n",
       "    <tr>\n",
       "      <th>62481</th>\n",
       "      <td>0</td>\n",
       "      <td>0</td>\n",
       "      <td>7</td>\n",
       "      <td>10</td>\n",
       "      <td>0</td>\n",
       "      <td>0</td>\n",
       "      <td>0</td>\n",
       "      <td>7</td>\n",
       "      <td>0</td>\n",
       "      <td>7</td>\n",
       "      <td>1048576</td>\n",
       "      <td>0</td>\n",
       "      <td>15704</td>\n",
       "      <td>0</td>\n",
       "    </tr>\n",
       "    <tr>\n",
       "      <th>62482</th>\n",
       "      <td>0</td>\n",
       "      <td>0</td>\n",
       "      <td>0</td>\n",
       "      <td>4</td>\n",
       "      <td>0</td>\n",
       "      <td>0</td>\n",
       "      <td>404908</td>\n",
       "      <td>2</td>\n",
       "      <td>50</td>\n",
       "      <td>11</td>\n",
       "      <td>1048576</td>\n",
       "      <td>0</td>\n",
       "      <td>2364</td>\n",
       "      <td>0</td>\n",
       "    </tr>\n",
       "    <tr>\n",
       "      <th>62483</th>\n",
       "      <td>0</td>\n",
       "      <td>0</td>\n",
       "      <td>0</td>\n",
       "      <td>4</td>\n",
       "      <td>14448</td>\n",
       "      <td>70</td>\n",
       "      <td>4096</td>\n",
       "      <td>8</td>\n",
       "      <td>0</td>\n",
       "      <td>4</td>\n",
       "      <td>1048576</td>\n",
       "      <td>0</td>\n",
       "      <td>130296</td>\n",
       "      <td>0</td>\n",
       "    </tr>\n",
       "    <tr>\n",
       "      <th>62484</th>\n",
       "      <td>0</td>\n",
       "      <td>0</td>\n",
       "      <td>0</td>\n",
       "      <td>5</td>\n",
       "      <td>0</td>\n",
       "      <td>0</td>\n",
       "      <td>4096</td>\n",
       "      <td>9</td>\n",
       "      <td>0</td>\n",
       "      <td>6</td>\n",
       "      <td>1048576</td>\n",
       "      <td>0</td>\n",
       "      <td>6912</td>\n",
       "      <td>0</td>\n",
       "    </tr>\n",
       "  </tbody>\n",
       "</table>\n",
       "<p>62485 rows × 14 columns</p>\n",
       "</div>"
      ],
      "text/plain": [
       "       DebugSize  DebugRVA  MajorImageVersion  MajorOSVersion  ExportRVA  \\\n",
       "0              0         0                  0               4          0   \n",
       "1             84    121728                 10              10     126576   \n",
       "2              0         0                  0               4          0   \n",
       "3             84     19904                 10              10      21312   \n",
       "4             84     97728                 10              10     105792   \n",
       "...          ...       ...                ...             ...        ...   \n",
       "62480          0         0                  1               4          0   \n",
       "62481          0         0                  7              10          0   \n",
       "62482          0         0                  0               4          0   \n",
       "62483          0         0                  0               4      14448   \n",
       "62484          0         0                  0               5          0   \n",
       "\n",
       "       ExportSize  IatVRA  MajorLinkerVersion  MinorLinkerVersion  \\\n",
       "0               0    8192                   8                   0   \n",
       "1            4930       0                  14                  10   \n",
       "2               0    8192                   8                   0   \n",
       "3             252   18160                  14                  10   \n",
       "4            1852   70592                  14                  10   \n",
       "...           ...     ...                 ...                 ...   \n",
       "62480           0    4096                   6                   0   \n",
       "62481           0       0                   7                   0   \n",
       "62482           0  404908                   2                  50   \n",
       "62483          70    4096                   8                   0   \n",
       "62484           0    4096                   9                   0   \n",
       "\n",
       "       NumberOfSections  SizeOfStackReserve  DllCharacteristics  ResourceSize  \\\n",
       "0                     3             1048576               34112           672   \n",
       "1                     8              262144               16864          1024   \n",
       "2                     3             1048576               34112           672   \n",
       "3                     6              262144               16736          1040   \n",
       "4                     7              262144               16736          1096   \n",
       "...                 ...                 ...                 ...           ...   \n",
       "62480                 3             1048576                   0         23504   \n",
       "62481                 7             1048576                   0         15704   \n",
       "62482                11             1048576                   0          2364   \n",
       "62483                 4             1048576                   0        130296   \n",
       "62484                 6             1048576                   0          6912   \n",
       "\n",
       "       BitcoinAddresses  \n",
       "0                     0  \n",
       "1                     0  \n",
       "2                     0  \n",
       "3                     0  \n",
       "4                     0  \n",
       "...                 ...  \n",
       "62480                 0  \n",
       "62481                 0  \n",
       "62482                 0  \n",
       "62483                 0  \n",
       "62484                 0  \n",
       "\n",
       "[62485 rows x 14 columns]"
      ]
     },
     "execution_count": 145,
     "metadata": {},
     "output_type": "execute_result"
    }
   ],
   "source": [
    "X"
   ]
  },
  {
   "cell_type": "code",
   "execution_count": 146,
   "id": "57c634f6",
   "metadata": {},
   "outputs": [
    {
     "data": {
      "text/plain": [
       "array([0, 0, 0, ..., 0, 0, 0], dtype=int64)"
      ]
     },
     "execution_count": 146,
     "metadata": {},
     "output_type": "execute_result"
    }
   ],
   "source": [
    "Z"
   ]
  },
  {
   "cell_type": "code",
   "execution_count": 147,
   "id": "3badcfcc",
   "metadata": {},
   "outputs": [
    {
     "data": {
      "text/plain": [
       "(62485, 14)"
      ]
     },
     "execution_count": 147,
     "metadata": {},
     "output_type": "execute_result"
    }
   ],
   "source": [
    "X.shape"
   ]
  },
  {
   "cell_type": "code",
   "execution_count": null,
   "id": "c12bff5b",
   "metadata": {},
   "outputs": [],
   "source": [
    "# Define a function to ensemble the predictions\n",
    "def ensemble_predictions(pred1, pred2, pred3):\n",
    "  return (pred1 + pred2 + pred3) / 3\n",
    "\n",
    "# Make predictions using each model\n",
    "pred1 = model1.predict(X_test)\n",
    "pred2 = model2.predict(X_test)\n",
    "pred3 = model3.predict(X_test)\n",
    "\n",
    "# Ensemble the predictions\n",
    "predictions = ensemble_predictions(pred1, pred2, pred3)"
   ]
  },
  {
   "cell_type": "code",
   "execution_count": 374,
   "id": "a32813f1",
   "metadata": {},
   "outputs": [],
   "source": [
    "# Define a function to ensemble the predictions\n",
    "def ensemble_predictions(pred1, pred2, pred3):\n",
    "  return (pred1 + pred2 + pred3) / 3"
   ]
  },
  {
   "cell_type": "code",
   "execution_count": 344,
   "id": "c377bdf7",
   "metadata": {},
   "outputs": [],
   "source": [
    "# Make predictions using each model\n",
    "pred1 = xgb_model.predict(x_test_xgb)\n",
    "\n",
    "# pred3 = model3.predict(X_test)\n"
   ]
  },
  {
   "cell_type": "code",
   "execution_count": 345,
   "id": "9ec62648",
   "metadata": {},
   "outputs": [],
   "source": [
    "pred2 = model2.predict(x_test_lstm)"
   ]
  },
  {
   "cell_type": "code",
   "execution_count": 346,
   "id": "932f05f5",
   "metadata": {},
   "outputs": [],
   "source": [
    "pred3 = hmm.predict(test_features)"
   ]
  },
  {
   "cell_type": "code",
   "execution_count": 347,
   "id": "95eefa76",
   "metadata": {},
   "outputs": [],
   "source": [
    "# Ensemble the predictions\n",
    "predictions = ensemble_predictions(pred1, pred2, pred3)"
   ]
  },
  {
   "cell_type": "code",
   "execution_count": 348,
   "id": "eacd301b",
   "metadata": {},
   "outputs": [
    {
     "data": {
      "text/plain": [
       "array([[0.33333333, 0.66666667, 0.66666667, ..., 0.66666667, 0.33333333,\n",
       "        0.66666667],\n",
       "       [0.33333333, 0.66666667, 0.66666667, ..., 0.66666667, 0.33333333,\n",
       "        0.66666667],\n",
       "       [0.33333333, 0.66666667, 0.66666667, ..., 0.66666667, 0.33333333,\n",
       "        0.66666667],\n",
       "       ...,\n",
       "       [0.33333333, 0.66666667, 0.66666667, ..., 0.66666667, 0.33333333,\n",
       "        0.66666667],\n",
       "       [0.33333333, 0.66666667, 0.66666667, ..., 0.66666667, 0.33333333,\n",
       "        0.66666667],\n",
       "       [0.33333333, 0.66666667, 0.66666667, ..., 0.66666667, 0.33333333,\n",
       "        0.66666667]])"
      ]
     },
     "execution_count": 348,
     "metadata": {},
     "output_type": "execute_result"
    }
   ],
   "source": [
    "predictions"
   ]
  },
  {
   "cell_type": "code",
   "execution_count": 349,
   "id": "70adb595",
   "metadata": {},
   "outputs": [
    {
     "data": {
      "text/plain": [
       "array([[0.33333333, 0.66666667, 0.66666667, ..., 0.66666667, 0.33333333,\n",
       "        0.66666667],\n",
       "       [0.33333333, 0.66666667, 0.66666667, ..., 0.66666667, 0.33333333,\n",
       "        0.66666667],\n",
       "       [0.33333333, 0.66666667, 0.66666667, ..., 0.66666667, 0.33333333,\n",
       "        0.66666667],\n",
       "       ...,\n",
       "       [0.33333333, 0.66666667, 0.66666667, ..., 0.66666667, 0.33333333,\n",
       "        0.66666667],\n",
       "       [0.33333333, 0.66666667, 0.66666667, ..., 0.66666667, 0.33333333,\n",
       "        0.66666667],\n",
       "       [0.33333333, 0.66666667, 0.66666667, ..., 0.66666667, 0.33333333,\n",
       "        0.66666667]])"
      ]
     },
     "execution_count": 349,
     "metadata": {},
     "output_type": "execute_result"
    }
   ],
   "source": [
    "ensemble_predictions(pred1, pred2, pred3)"
   ]
  },
  {
   "cell_type": "code",
   "execution_count": null,
   "id": "e6acc2e9",
   "metadata": {},
   "outputs": [],
   "source": []
  },
  {
   "cell_type": "code",
   "execution_count": 375,
   "id": "831448d0",
   "metadata": {},
   "outputs": [
    {
     "data": {
      "text/plain": [
       "array([0])"
      ]
     },
     "execution_count": 375,
     "metadata": {},
     "output_type": "execute_result"
    }
   ],
   "source": [
    "# xgboost model prediction\n",
    "pred4"
   ]
  },
  {
   "cell_type": "code",
   "execution_count": 376,
   "id": "8c2ff1ad",
   "metadata": {},
   "outputs": [
    {
     "data": {
      "text/plain": [
       "array([[1.]], dtype=float32)"
      ]
     },
     "execution_count": 376,
     "metadata": {},
     "output_type": "execute_result"
    }
   ],
   "source": [
    "# LSTM prediction\n",
    "pred5"
   ]
  },
  {
   "cell_type": "code",
   "execution_count": 377,
   "id": "5635e483",
   "metadata": {},
   "outputs": [
    {
     "data": {
      "text/plain": [
       "array([0, 0, 0, 0, 0, 0, 0, 0, 0, 0, 0, 0, 0, 0], dtype=int64)"
      ]
     },
     "execution_count": 377,
     "metadata": {},
     "output_type": "execute_result"
    }
   ],
   "source": [
    "# HMM prediction\n",
    "pred6"
   ]
  },
  {
   "cell_type": "code",
   "execution_count": 378,
   "id": "5fca54dc",
   "metadata": {},
   "outputs": [
    {
     "data": {
      "text/plain": [
       "array([[0.33333333, 0.33333333, 0.33333333, 0.33333333, 0.33333333,\n",
       "        0.33333333, 0.33333333, 0.33333333, 0.33333333, 0.33333333,\n",
       "        0.33333333, 0.33333333, 0.33333333, 0.33333333]])"
      ]
     },
     "execution_count": 378,
     "metadata": {},
     "output_type": "execute_result"
    }
   ],
   "source": [
    "ensemble_predictions(pred4, pred5, pred6)"
   ]
  },
  {
   "cell_type": "code",
   "execution_count": null,
   "id": "6785c940",
   "metadata": {},
   "outputs": [],
   "source": []
  },
  {
   "cell_type": "code",
   "execution_count": null,
   "id": "5b7d6d51",
   "metadata": {},
   "outputs": [],
   "source": [
    "# Z = hmm.predict(test_features)"
   ]
  },
  {
   "cell_type": "code",
   "execution_count": 123,
   "id": "683fb9e7",
   "metadata": {},
   "outputs": [
    {
     "data": {
      "text/plain": [
       "array([0, 0, 0], dtype=int64)"
      ]
     },
     "execution_count": 123,
     "metadata": {},
     "output_type": "execute_result"
    }
   ],
   "source": [
    "d = [[0, 808,\n",
    "              0]]\n",
    "e = np.array(d)\n",
    "e = np.column_stack(e)\n",
    "hmm.predict(e)"
   ]
  },
  {
   "cell_type": "code",
   "execution_count": 97,
   "id": "cdbc5398",
   "metadata": {},
   "outputs": [
    {
     "ename": "NameError",
     "evalue": "name 'HMM' is not defined",
     "output_type": "error",
     "traceback": [
      "\u001b[1;31m---------------------------------------------------------------------------\u001b[0m",
      "\u001b[1;31mNameError\u001b[0m                                 Traceback (most recent call last)",
      "\u001b[1;32m~\\AppData\\Local\\Temp/ipykernel_19692/964850758.py\u001b[0m in \u001b[0;36m<module>\u001b[1;34m\u001b[0m\n\u001b[1;32m----> 1\u001b[1;33m \u001b[0mmodel\u001b[0m \u001b[1;33m=\u001b[0m \u001b[0mHMM\u001b[0m\u001b[1;33m(\u001b[0m\u001b[0mtransition_probs\u001b[0m\u001b[1;33m,\u001b[0m \u001b[0memission_probs\u001b[0m\u001b[1;33m)\u001b[0m\u001b[1;33m\u001b[0m\u001b[1;33m\u001b[0m\u001b[0m\n\u001b[0m\u001b[0;32m      2\u001b[0m \u001b[0mmodel\u001b[0m\u001b[1;33m.\u001b[0m\u001b[0mfit\u001b[0m\u001b[1;33m(\u001b[0m\u001b[0mdata\u001b[0m\u001b[1;33m)\u001b[0m\u001b[1;33m\u001b[0m\u001b[1;33m\u001b[0m\u001b[0m\n",
      "\u001b[1;31mNameError\u001b[0m: name 'HMM' is not defined"
     ]
    }
   ],
   "source": [
    "model = HMM(transition_probs, emission_probs)\n",
    "model.fit(data)"
   ]
  },
  {
   "cell_type": "code",
   "execution_count": 388,
   "id": "6353c609",
   "metadata": {},
   "outputs": [
    {
     "data": {
      "text/plain": [
       "array([0])"
      ]
     },
     "execution_count": 388,
     "metadata": {},
     "output_type": "execute_result"
    }
   ],
   "source": [
    "# xgboost model prediction\n",
    "pred4"
   ]
  },
  {
   "cell_type": "code",
   "execution_count": 389,
   "id": "59ce8913",
   "metadata": {},
   "outputs": [
    {
     "data": {
      "text/plain": [
       "array([[1.]], dtype=float32)"
      ]
     },
     "execution_count": 389,
     "metadata": {},
     "output_type": "execute_result"
    }
   ],
   "source": [
    "# LSTM prediction\n",
    "pred5"
   ]
  },
  {
   "cell_type": "code",
   "execution_count": 390,
   "id": "4fc2cc86",
   "metadata": {},
   "outputs": [],
   "source": [
    "# ensemble xgboost and LSTM\n",
    "def ensemble_prediction(pred1, pred2):\n",
    "  return (pred1 + pred2) / 2"
   ]
  },
  {
   "cell_type": "code",
   "execution_count": 391,
   "id": "56fcf418",
   "metadata": {},
   "outputs": [
    {
     "data": {
      "text/plain": [
       "array([[0.5]])"
      ]
     },
     "execution_count": 391,
     "metadata": {},
     "output_type": "execute_result"
    }
   ],
   "source": [
    "ensemble_prediction(pred4, pred5)"
   ]
  },
  {
   "cell_type": "code",
   "execution_count": null,
   "id": "005e8f3a",
   "metadata": {},
   "outputs": [],
   "source": []
  },
  {
   "cell_type": "code",
   "execution_count": 194,
   "id": "dcd7d6f0",
   "metadata": {
    "scrolled": true
   },
   "outputs": [],
   "source": [
    "# cols = list(df)[0:15]\n",
    "# cols"
   ]
  },
  {
   "cell_type": "code",
   "execution_count": 68,
   "id": "3530696d",
   "metadata": {},
   "outputs": [],
   "source": [
    "# df = df[cols].astype(str)\n",
    "# for i in cols:\n",
    "#     for j in range(0, len(df)):\n",
    "#         df[i][j] = df[i][j].replace(',', '')\n",
    "\n",
    "# df = df.astype(float)\n",
    "\n",
    "# # Using multiple features (predictors)\n",
    "# df = df.to_numpy() \n",
    "\n",
    "# print('Shape of data set == {}.'.format(df.shape))\n",
    "# df\n"
   ]
  },
  {
   "cell_type": "code",
   "execution_count": 195,
   "id": "48a4cec1",
   "metadata": {},
   "outputs": [],
   "source": [
    "# X = data.drop(['FileName', 'md5Hash', 'Benign'], axis=1).values\n",
    "# # Label\n",
    "# y = data['Benign'].values\n",
    "#  # Splitting data into training and test data\n",
    "# X_train, X_test, y_train, y_test = model_selection.train_test_split(X, y, test_size=0.2, random_state=0)\n"
   ]
  },
  {
   "cell_type": "code",
   "execution_count": null,
   "id": "a5d6decd",
   "metadata": {},
   "outputs": [],
   "source": []
  },
  {
   "cell_type": "code",
   "execution_count": 25,
   "id": "777e53e3",
   "metadata": {},
   "outputs": [
    {
     "ename": "ValueError",
     "evalue": "operands could not be broadcast together with shapes (1,1,15) (5,16) ",
     "output_type": "error",
     "traceback": [
      "\u001b[1;31m---------------------------------------------------------------------------\u001b[0m",
      "\u001b[1;31mValueError\u001b[0m                                Traceback (most recent call last)",
      "\u001b[1;32m~\\AppData\\Local\\Temp/ipykernel_13680/3597710060.py\u001b[0m in \u001b[0;36m<module>\u001b[1;34m\u001b[0m\n\u001b[0;32m      3\u001b[0m               0]]\n\u001b[0;32m      4\u001b[0m \u001b[0mb\u001b[0m \u001b[1;33m=\u001b[0m \u001b[0mnp\u001b[0m\u001b[1;33m.\u001b[0m\u001b[0marray\u001b[0m\u001b[1;33m(\u001b[0m\u001b[0mb\u001b[0m\u001b[1;33m)\u001b[0m\u001b[1;33m\u001b[0m\u001b[1;33m\u001b[0m\u001b[0m\n\u001b[1;32m----> 5\u001b[1;33m \u001b[0mhmm_model\u001b[0m\u001b[1;33m.\u001b[0m\u001b[0mpredict\u001b[0m\u001b[1;33m(\u001b[0m\u001b[0mb\u001b[0m\u001b[1;33m)\u001b[0m\u001b[1;33m\u001b[0m\u001b[1;33m\u001b[0m\u001b[0m\n\u001b[0m",
      "\u001b[1;32m~\\anaconda3\\envs\\tensorflow\\lib\\site-packages\\hmmlearn\\base.py\u001b[0m in \u001b[0;36mpredict\u001b[1;34m(self, X, lengths)\u001b[0m\n\u001b[0;32m    394\u001b[0m             \u001b[0mLabels\u001b[0m \u001b[1;32mfor\u001b[0m \u001b[0meach\u001b[0m \u001b[0msample\u001b[0m \u001b[1;32mfrom\u001b[0m\u001b[0;31m \u001b[0m\u001b[0;31m`\u001b[0m\u001b[0;31m`\u001b[0m\u001b[0mX\u001b[0m\u001b[0;31m`\u001b[0m\u001b[0;31m`\u001b[0m\u001b[1;33m.\u001b[0m\u001b[1;33m\u001b[0m\u001b[1;33m\u001b[0m\u001b[0m\n\u001b[0;32m    395\u001b[0m         \"\"\"\n\u001b[1;32m--> 396\u001b[1;33m         \u001b[0m_\u001b[0m\u001b[1;33m,\u001b[0m \u001b[0mstate_sequence\u001b[0m \u001b[1;33m=\u001b[0m \u001b[0mself\u001b[0m\u001b[1;33m.\u001b[0m\u001b[0mdecode\u001b[0m\u001b[1;33m(\u001b[0m\u001b[0mX\u001b[0m\u001b[1;33m,\u001b[0m \u001b[0mlengths\u001b[0m\u001b[1;33m)\u001b[0m\u001b[1;33m\u001b[0m\u001b[1;33m\u001b[0m\u001b[0m\n\u001b[0m\u001b[0;32m    397\u001b[0m         \u001b[1;32mreturn\u001b[0m \u001b[0mstate_sequence\u001b[0m\u001b[1;33m\u001b[0m\u001b[1;33m\u001b[0m\u001b[0m\n\u001b[0;32m    398\u001b[0m \u001b[1;33m\u001b[0m\u001b[0m\n",
      "\u001b[1;32m~\\anaconda3\\envs\\tensorflow\\lib\\site-packages\\hmmlearn\\base.py\u001b[0m in \u001b[0;36mdecode\u001b[1;34m(self, X, lengths, algorithm)\u001b[0m\n\u001b[0;32m    371\u001b[0m         \u001b[1;32mfor\u001b[0m \u001b[0msub_X\u001b[0m \u001b[1;32min\u001b[0m \u001b[0m_utils\u001b[0m\u001b[1;33m.\u001b[0m\u001b[0msplit_X_lengths\u001b[0m\u001b[1;33m(\u001b[0m\u001b[0mX\u001b[0m\u001b[1;33m,\u001b[0m \u001b[0mlengths\u001b[0m\u001b[1;33m)\u001b[0m\u001b[1;33m:\u001b[0m\u001b[1;33m\u001b[0m\u001b[1;33m\u001b[0m\u001b[0m\n\u001b[0;32m    372\u001b[0m             \u001b[1;31m# XXX decoder works on a single sample at a time!\u001b[0m\u001b[1;33m\u001b[0m\u001b[1;33m\u001b[0m\u001b[1;33m\u001b[0m\u001b[0m\n\u001b[1;32m--> 373\u001b[1;33m             \u001b[0msub_log_prob\u001b[0m\u001b[1;33m,\u001b[0m \u001b[0msub_state_sequence\u001b[0m \u001b[1;33m=\u001b[0m \u001b[0mdecoder\u001b[0m\u001b[1;33m(\u001b[0m\u001b[0msub_X\u001b[0m\u001b[1;33m)\u001b[0m\u001b[1;33m\u001b[0m\u001b[1;33m\u001b[0m\u001b[0m\n\u001b[0m\u001b[0;32m    374\u001b[0m             \u001b[0mlog_prob\u001b[0m \u001b[1;33m+=\u001b[0m \u001b[0msub_log_prob\u001b[0m\u001b[1;33m\u001b[0m\u001b[1;33m\u001b[0m\u001b[0m\n\u001b[0;32m    375\u001b[0m             \u001b[0msub_state_sequences\u001b[0m\u001b[1;33m.\u001b[0m\u001b[0mappend\u001b[0m\u001b[1;33m(\u001b[0m\u001b[0msub_state_sequence\u001b[0m\u001b[1;33m)\u001b[0m\u001b[1;33m\u001b[0m\u001b[1;33m\u001b[0m\u001b[0m\n",
      "\u001b[1;32m~\\anaconda3\\envs\\tensorflow\\lib\\site-packages\\hmmlearn\\base.py\u001b[0m in \u001b[0;36m_decode_viterbi\u001b[1;34m(self, X)\u001b[0m\n\u001b[0;32m    316\u001b[0m \u001b[1;33m\u001b[0m\u001b[0m\n\u001b[0;32m    317\u001b[0m     \u001b[1;32mdef\u001b[0m \u001b[0m_decode_viterbi\u001b[0m\u001b[1;33m(\u001b[0m\u001b[0mself\u001b[0m\u001b[1;33m,\u001b[0m \u001b[0mX\u001b[0m\u001b[1;33m)\u001b[0m\u001b[1;33m:\u001b[0m\u001b[1;33m\u001b[0m\u001b[1;33m\u001b[0m\u001b[0m\n\u001b[1;32m--> 318\u001b[1;33m         \u001b[0mlog_frameprob\u001b[0m \u001b[1;33m=\u001b[0m \u001b[0mself\u001b[0m\u001b[1;33m.\u001b[0m\u001b[0m_compute_log_likelihood\u001b[0m\u001b[1;33m(\u001b[0m\u001b[0mX\u001b[0m\u001b[1;33m)\u001b[0m\u001b[1;33m\u001b[0m\u001b[1;33m\u001b[0m\u001b[0m\n\u001b[0m\u001b[0;32m    319\u001b[0m         \u001b[1;32mreturn\u001b[0m \u001b[0m_hmmc\u001b[0m\u001b[1;33m.\u001b[0m\u001b[0mviterbi\u001b[0m\u001b[1;33m(\u001b[0m\u001b[0mself\u001b[0m\u001b[1;33m.\u001b[0m\u001b[0mstartprob_\u001b[0m\u001b[1;33m,\u001b[0m \u001b[0mself\u001b[0m\u001b[1;33m.\u001b[0m\u001b[0mtransmat_\u001b[0m\u001b[1;33m,\u001b[0m \u001b[0mlog_frameprob\u001b[0m\u001b[1;33m)\u001b[0m\u001b[1;33m\u001b[0m\u001b[1;33m\u001b[0m\u001b[0m\n\u001b[0;32m    320\u001b[0m \u001b[1;33m\u001b[0m\u001b[0m\n",
      "\u001b[1;32m~\\anaconda3\\envs\\tensorflow\\lib\\site-packages\\hmmlearn\\hmm.py\u001b[0m in \u001b[0;36m_compute_log_likelihood\u001b[1;34m(self, X)\u001b[0m\n\u001b[0;32m    225\u001b[0m \u001b[1;33m\u001b[0m\u001b[0m\n\u001b[0;32m    226\u001b[0m     \u001b[1;32mdef\u001b[0m \u001b[0m_compute_log_likelihood\u001b[0m\u001b[1;33m(\u001b[0m\u001b[0mself\u001b[0m\u001b[1;33m,\u001b[0m \u001b[0mX\u001b[0m\u001b[1;33m)\u001b[0m\u001b[1;33m:\u001b[0m\u001b[1;33m\u001b[0m\u001b[1;33m\u001b[0m\u001b[0m\n\u001b[1;32m--> 227\u001b[1;33m         return log_multivariate_normal_density(\n\u001b[0m\u001b[0;32m    228\u001b[0m             X, self.means_, self._covars_, self.covariance_type)\n\u001b[0;32m    229\u001b[0m \u001b[1;33m\u001b[0m\u001b[0m\n",
      "\u001b[1;32m~\\anaconda3\\envs\\tensorflow\\lib\\site-packages\\hmmlearn\\stats.py\u001b[0m in \u001b[0;36mlog_multivariate_normal_density\u001b[1;34m(X, means, covars, covariance_type)\u001b[0m\n\u001b[0;32m     40\u001b[0m         \u001b[1;34m'diag'\u001b[0m\u001b[1;33m:\u001b[0m \u001b[0m_log_multivariate_normal_density_diag\u001b[0m\u001b[1;33m,\u001b[0m\u001b[1;33m\u001b[0m\u001b[1;33m\u001b[0m\u001b[0m\n\u001b[0;32m     41\u001b[0m         'full': _log_multivariate_normal_density_full}\n\u001b[1;32m---> 42\u001b[1;33m     return log_multivariate_normal_density_dict[covariance_type](\n\u001b[0m\u001b[0;32m     43\u001b[0m         \u001b[0mX\u001b[0m\u001b[1;33m,\u001b[0m \u001b[0mmeans\u001b[0m\u001b[1;33m,\u001b[0m \u001b[0mcovars\u001b[0m\u001b[1;33m\u001b[0m\u001b[1;33m\u001b[0m\u001b[0m\n\u001b[0;32m     44\u001b[0m     )\n",
      "\u001b[1;32m~\\anaconda3\\envs\\tensorflow\\lib\\site-packages\\hmmlearn\\stats.py\u001b[0m in \u001b[0;36m_log_multivariate_normal_density_diag\u001b[1;34m(X, means, covars)\u001b[0m\n\u001b[0;32m     54\u001b[0m         return -0.5 * (nf * np.log(2 * np.pi)\n\u001b[0;32m     55\u001b[0m                        \u001b[1;33m+\u001b[0m \u001b[0mnp\u001b[0m\u001b[1;33m.\u001b[0m\u001b[0mlog\u001b[0m\u001b[1;33m(\u001b[0m\u001b[0mcovars\u001b[0m\u001b[1;33m)\u001b[0m\u001b[1;33m.\u001b[0m\u001b[0msum\u001b[0m\u001b[1;33m(\u001b[0m\u001b[0maxis\u001b[0m\u001b[1;33m=\u001b[0m\u001b[1;33m-\u001b[0m\u001b[1;36m1\u001b[0m\u001b[1;33m)\u001b[0m\u001b[1;33m\u001b[0m\u001b[1;33m\u001b[0m\u001b[0m\n\u001b[1;32m---> 56\u001b[1;33m                        + ((X[:, None, :] - means) ** 2 / covars).sum(axis=-1))\n\u001b[0m\u001b[0;32m     57\u001b[0m \u001b[1;33m\u001b[0m\u001b[0m\n\u001b[0;32m     58\u001b[0m \u001b[1;33m\u001b[0m\u001b[0m\n",
      "\u001b[1;31mValueError\u001b[0m: operands could not be broadcast together with shapes (1,1,15) (5,16) "
     ]
    }
   ],
   "source": [
    "b = [[  332,      56,  147600,       0,       4,  148496,     186,\n",
    "         147456,       5,      12,       5, 1048576,       0,     808,\n",
    "              0]]\n",
    "b = np.array(b)\n",
    "hmm_model.predict(b)"
   ]
  },
  {
   "cell_type": "code",
   "execution_count": null,
   "id": "7155526e",
   "metadata": {},
   "outputs": [],
   "source": []
  },
  {
   "cell_type": "code",
   "execution_count": 36,
   "id": "unnecessary-valve",
   "metadata": {},
   "outputs": [
    {
     "data": {
      "text/plain": [
       "array([    332,       0,       0,       0,       4,       0,       0,\n",
       "          8192,       8,       0,       3, 1048576,   34112,     672,\n",
       "             0], dtype=int64)"
      ]
     },
     "execution_count": 36,
     "metadata": {},
     "output_type": "execute_result"
    }
   ],
   "source": [
    "X[0]"
   ]
  },
  {
   "cell_type": "code",
   "execution_count": 5,
   "id": "built-costume",
   "metadata": {},
   "outputs": [],
   "source": [
    "# import joblib"
   ]
  },
  {
   "cell_type": "code",
   "execution_count": 6,
   "id": "superb-anchor",
   "metadata": {},
   "outputs": [
    {
     "data": {
      "text/plain": [
       "['xgboost_model.pkl']"
      ]
     },
     "execution_count": 6,
     "metadata": {},
     "output_type": "execute_result"
    }
   ],
   "source": [
    "# filename = 'xgboost_model.pkl'\n",
    "# joblib.dump(model, filename)"
   ]
  },
  {
   "cell_type": "code",
   "execution_count": null,
   "id": "resistant-columbus",
   "metadata": {},
   "outputs": [],
   "source": []
  },
  {
   "cell_type": "code",
   "execution_count": null,
   "id": "determined-giant",
   "metadata": {},
   "outputs": [],
   "source": []
  },
  {
   "cell_type": "code",
   "execution_count": null,
   "id": "bridal-green",
   "metadata": {},
   "outputs": [],
   "source": []
  },
  {
   "cell_type": "code",
   "execution_count": 10,
   "id": "crazy-criticism",
   "metadata": {},
   "outputs": [],
   "source": [
    "test = [[332,0,0,0,4,0,0,8192,8,0,3,1048576,34112,672,0]]"
   ]
  },
  {
   "cell_type": "code",
   "execution_count": 42,
   "id": "contained-remark",
   "metadata": {},
   "outputs": [
    {
     "data": {
      "text/plain": [
       "array([0, 1])"
      ]
     },
     "execution_count": 42,
     "metadata": {},
     "output_type": "execute_result"
    }
   ],
   "source": [
    "model.predict(X_test[:2])"
   ]
  },
  {
   "cell_type": "code",
   "execution_count": 49,
   "id": "moderate-grounds",
   "metadata": {},
   "outputs": [
    {
     "data": {
      "text/plain": [
       "array([    332,      28,   88660,       0,       4,       0,       0,\n",
       "          8192,      11,       0,       3, 1048576,   34112,    1432,\n",
       "             0], dtype=int64)"
      ]
     },
     "execution_count": 49,
     "metadata": {},
     "output_type": "execute_result"
    }
   ],
   "source": [
    "X_train[2]"
   ]
  },
  {
   "cell_type": "code",
   "execution_count": 64,
   "id": "organic-latitude",
   "metadata": {},
   "outputs": [
    {
     "ename": "TypeError",
     "evalue": "array() takes from 1 to 2 positional arguments but 3 were given",
     "output_type": "error",
     "traceback": [
      "\u001b[1;31m---------------------------------------------------------------------------\u001b[0m",
      "\u001b[1;31mTypeError\u001b[0m                                 Traceback (most recent call last)",
      "\u001b[1;32m<ipython-input-64-93f0b7db698c>\u001b[0m in \u001b[0;36m<module>\u001b[1;34m\u001b[0m\n\u001b[0;32m      1\u001b[0m \u001b[1;32mimport\u001b[0m \u001b[0mnumpy\u001b[0m \u001b[1;32mas\u001b[0m \u001b[0mnp\u001b[0m\u001b[1;33m\u001b[0m\u001b[1;33m\u001b[0m\u001b[0m\n\u001b[1;32m----> 2\u001b[1;33m \u001b[0mnp\u001b[0m\u001b[1;33m.\u001b[0m\u001b[0marray\u001b[0m\u001b[1;33m(\u001b[0m\u001b[1;33m[\u001b[0m\u001b[1;33m-\u001b[0m\u001b[1;36m9.035250067710876\u001b[0m\u001b[1;33m]\u001b[0m\u001b[1;33m,\u001b[0m \u001b[1;33m[\u001b[0m\u001b[1;36m7.453250169754028\u001b[0m\u001b[1;33m]\u001b[0m\u001b[1;33m,\u001b[0m \u001b[1;33m[\u001b[0m\u001b[1;36m33.34074878692627\u001b[0m\u001b[1;33m]\u001b[0m\u001b[1;33m)\u001b[0m\u001b[1;33m\u001b[0m\u001b[1;33m\u001b[0m\u001b[0m\n\u001b[0m",
      "\u001b[1;31mTypeError\u001b[0m: array() takes from 1 to 2 positional arguments but 3 were given"
     ]
    }
   ],
   "source": [
    "import numpy as np\n",
    "np.array([-9.035250067710876], [7.453250169754028], [33.34074878692627])"
   ]
  },
  {
   "cell_type": "code",
   "execution_count": 12,
   "id": "worse-blink",
   "metadata": {},
   "outputs": [],
   "source": [
    "import numpy as np"
   ]
  },
  {
   "cell_type": "code",
   "execution_count": 20,
   "id": "willing-trading",
   "metadata": {},
   "outputs": [],
   "source": [
    "a = [[332,28,4768,6,6,96144,166,4096,9,0,4,262144,448,4048,0]]\n",
    "a = np.array(a)"
   ]
  },
  {
   "cell_type": "code",
   "execution_count": 21,
   "id": "confident-nothing",
   "metadata": {},
   "outputs": [
    {
     "data": {
      "text/plain": [
       "array([    332,      28,  291712,       0,       4,       0,       0,\n",
       "          8192,      48,       0,       3, 1048576,   34112,    1220,\n",
       "             0], dtype=int64)"
      ]
     },
     "execution_count": 21,
     "metadata": {},
     "output_type": "execute_result"
    }
   ],
   "source": [
    "X_train[1]"
   ]
  },
  {
   "cell_type": "code",
   "execution_count": 22,
   "id": "hispanic-graduate",
   "metadata": {},
   "outputs": [
    {
     "data": {
      "text/plain": [
       "array([1])"
      ]
     },
     "execution_count": 22,
     "metadata": {},
     "output_type": "execute_result"
    }
   ],
   "source": [
    "model.predict(a) "
   ]
  },
  {
   "cell_type": "code",
   "execution_count": 80,
   "id": "parallel-blanket",
   "metadata": {},
   "outputs": [
    {
     "data": {
      "text/plain": [
       "array([[    332,      56,  147600,       0,       4,  148496,     186,\n",
       "         147456,       5,      12,       5, 1048576,       0,     808,\n",
       "              0],\n",
       "       [    332,      28,  291712,       0,       4,       0,       0,\n",
       "           8192,      48,       0,       3, 1048576,   34112,    1220,\n",
       "              0]], dtype=int64)"
      ]
     },
     "execution_count": 80,
     "metadata": {},
     "output_type": "execute_result"
    }
   ],
   "source": [
    "X_train[:2]"
   ]
  },
  {
   "cell_type": "code",
   "execution_count": 81,
   "id": "detailed-editor",
   "metadata": {},
   "outputs": [
    {
     "data": {
      "text/plain": [
       "array([0])"
      ]
     },
     "execution_count": 81,
     "metadata": {},
     "output_type": "execute_result"
    }
   ],
   "source": [
    "b = [[  332,      56,  147600,       0,       4,  148496,     186,\n",
    "         147456,       5,      12,       5, 1048576,       0,     808,\n",
    "              0]]\n",
    "b = np.array(b)\n",
    "model.predict(b)"
   ]
  },
  {
   "cell_type": "code",
   "execution_count": 83,
   "id": "static-disability",
   "metadata": {},
   "outputs": [
    {
     "data": {
      "text/plain": [
       "array([0, 1, 1, ..., 1, 1, 0])"
      ]
     },
     "execution_count": 83,
     "metadata": {},
     "output_type": "execute_result"
    }
   ],
   "source": [
    "model.predict(X_train)"
   ]
  },
  {
   "cell_type": "code",
   "execution_count": null,
   "id": "chronic-switzerland",
   "metadata": {},
   "outputs": [],
   "source": []
  },
  {
   "cell_type": "code",
   "execution_count": null,
   "id": "second-knitting",
   "metadata": {},
   "outputs": [],
   "source": []
  },
  {
   "cell_type": "code",
   "execution_count": 80,
   "id": "female-decimal",
   "metadata": {},
   "outputs": [
    {
     "name": "stdout",
     "output_type": "stream",
     "text": [
      "\n",
      "[+] Extracting features from  test.txt\n",
      "[-] Error: Unable to extract features.\n",
      "\n"
     ]
    }
   ],
   "source": [
    "'''\n",
    "    File name: create_benign_dataset.py\n",
    "    Author: Callum Lock\n",
    "    Date created: 31/03/2018\n",
    "    Date last modified: 31/03/2018\n",
    "    Python Version: 3.6\n",
    "'''\n",
    "\n",
    "import os\n",
    "import hashlib\n",
    "import math\n",
    "import array\n",
    "import pefile\n",
    "import yara\n",
    "from termcolor import colored\n",
    "import colorama\n",
    "\n",
    "\n",
    "# Function get md5 calculates the md5 hash of a given file.\n",
    "def get_md5(file):\n",
    "    \n",
    "    # Note that sometimes you won't be able to fit the whole file in memory.\n",
    "    # In that case, you'll have to read chunks of 4096 bytes\n",
    "    # sequentially and feed them to the Md5 function:\n",
    "    # https://stackoverflow.com/questions/3431825/generating-an-md5-checksum-of-a-file\n",
    "    \n",
    "    md5 = hashlib.md5()\n",
    "    with open(file, \"rb\") as f:\n",
    "        for chunk in iter(lambda: f.read(4096), b\"\"):\n",
    "            md5.update(chunk)\n",
    "        return md5.hexdigest()\n",
    "\n",
    "# Function compile bitcoin compiles the yara rule for detecting\n",
    "# bitcoin addresses within ransomware files. The rule is then\n",
    "# saved in a directory to later be used.\n",
    "def compile_bitcoin():\n",
    "    if not os.path.isdir(\"rules_compiled/Bitcoin\"):\n",
    "        os.makedirs(\"rules_compiled/Bitcoin\")\n",
    "        print(\"success\")\n",
    "\n",
    "    for n in os.listdir(\"rules/Bitcoin\"):\n",
    "        rule = yara.compile(\"rules/Bitcoin/\" + n)\n",
    "        rule.save(\"rules_compiled/Bitcoin/\" + n)\n",
    "\n",
    "# Function check bitcoin loads the bitcoin yara rule\n",
    "# and checks a file for any signs of bitcoin addresses.\n",
    "# If a bitcoin address is found a binary 1 is returned.\n",
    "def check_bitcoin(filepath):\n",
    "    for n in os.listdir(\"rules/Bitcoin\"):\n",
    "        rule = yara.load(\"rules_compiled/Bitcoin/\" + n)\n",
    "        m = rule.match(filepath)\n",
    "        if m:\n",
    "            return 1\n",
    "        else:\n",
    "            return 0\n",
    "\n",
    "# Function extract features extracts all features from the input file.\n",
    "# Features are stored in a list and then returned to later be written to\n",
    "# a csv file. \n",
    "def extract_features(file):\n",
    "    # Creates an empty list for which features can later be appended into.\n",
    "    features = []\n",
    "\n",
    "    # Name of file\n",
    "    features.append(os.path.basename(file))\n",
    "\n",
    "    # MD5 hash\n",
    "    features.append(get_md5(file))\n",
    "\n",
    "    # Assigns pe to the input file. fast_load loads all directory information.\n",
    "    pe = pefile.PE(file, fast_load=True)\n",
    "\n",
    "    # CPU that the file is intended for.\n",
    "    features.append(pe.FILE_HEADER.Machine)\n",
    "\n",
    "    # DebugSize is the size of the debug directory table. Clean files typically have a debug directory\n",
    "    # and thus, will have a non-zero values.\n",
    "    features.append(pe.OPTIONAL_HEADER.DATA_DIRECTORY[6].Size)\n",
    "\n",
    "    # DebugRVA\n",
    "    features.append(pe.OPTIONAL_HEADER.DATA_DIRECTORY[6].VirtualAddress)\n",
    "\n",
    "    # MajorImageVersion is the version of the file. This is user defined and for clean programs is often\n",
    "    # populated. Malware often has a value of 0 for this.\n",
    "    features.append(pe.OPTIONAL_HEADER.MajorImageVersion)\n",
    "\n",
    "    # MajorOSVersion is the major operating system required to run exe.\n",
    "    features.append(pe.OPTIONAL_HEADER.MajorOperatingSystemVersion)\n",
    "\n",
    "    # ExportRVA.\n",
    "    features.append(pe.OPTIONAL_HEADER.DATA_DIRECTORY[0].VirtualAddress)\n",
    "\n",
    "    # ExportSize is the size of the export table. Usually non-zero for clean files.\n",
    "    features.append(pe.OPTIONAL_HEADER.DATA_DIRECTORY[0].Size)\n",
    "\n",
    "    # IatRVA is the relative virtual address of import address table. Most clean files have 4096 for this\n",
    "    # where as malware often has 0 or a very large number.\n",
    "    features.append(pe.OPTIONAL_HEADER.DATA_DIRECTORY[12].VirtualAddress)\n",
    "\n",
    "    # Version of linker that produced file.\n",
    "    features.append(pe.OPTIONAL_HEADER.MajorLinkerVersion)\n",
    "    features.append(pe.OPTIONAL_HEADER.MinorLinkerVersion)\n",
    "\n",
    "    # NumberOfSections is the number of sections in file.\n",
    "    features.append(pe.FILE_HEADER.NumberOfSections)\n",
    "\n",
    "    # SizeOfStackReserve denotes the amount of virtual memory to reserve for the initial thread's stack.\n",
    "    features.append(pe.OPTIONAL_HEADER.SizeOfStackReserve)\n",
    "\n",
    "    # DllCharacteristics is a set of flags indicating under which circumstances a DLL's initialization\n",
    "    # function will be called.\n",
    "    features.append(pe.OPTIONAL_HEADER.DllCharacteristics)\n",
    "\n",
    "    # MinResourcesSize is the size of resources section of PE header. Malware sometimes has 0 resources.\n",
    "    features.append(pe.OPTIONAL_HEADER.DATA_DIRECTORY[2].Size)\n",
    "\n",
    "    # Calls the bitcoin_check function to check if the file contains a bitcoin address.\n",
    "    bitcoin_check = check_bitcoin(file)\n",
    "    features.append(bitcoin_check)\n",
    "\n",
    "    # Returns the feature list.\n",
    "    return features\n",
    "\n",
    "\n",
    "if __name__ == '__main__':\n",
    "    output_file = \"data2_benign.csv\"\n",
    "    csv_delimeter = ','\n",
    "    csv_columns = [\n",
    "        \"FileName\",\n",
    "        \"md5Hash\",\n",
    "        \"Machine\",\n",
    "        \"DebugSize\",\n",
    "        \"DebugRVA\",\n",
    "        \"MajorImageVersion\",\n",
    "        \"MajorOSVersion\",\n",
    "        \"ExportRVA\",\n",
    "        \"ExportSize\",\n",
    "        \"IatVRA\",\n",
    "        \"MajorLinkerVersion\",\n",
    "        \"MinorLinkerVersion\",\n",
    "        \"NumberOfSections\",\n",
    "        \"SizeOfStackReserve\",\n",
    "        \"DllCharacteristics\",\n",
    "        \"ResourceSize\",\n",
    "        \"BitcoinAddresses\",\n",
    "        \"Benign\",\n",
    "    ]\n",
    "\n",
    "    # Compiles the yara rule for bitcoin address detection.\n",
    "    compile_bitcoin()\n",
    "\n",
    "    # Opens file so features can be written too.\n",
    "    feature_file = open(output_file, 'a')\n",
    "    \n",
    "    # Writes column headers to feature file.\n",
    "    feature_file.write(csv_delimeter.join(csv_columns) + \"\\n\")\n",
    "\n",
    "    colorama.init()\n",
    "\n",
    "    # Extracts features from benign files and writes to CSV.\n",
    "    for f in os.listdir('benign/'):\n",
    "        print(\"\\n[+] Extracting features from \", f)\n",
    "        try:\n",
    "            features = extract_features(os.path.join('benign/', f))\n",
    "            features.append(1)\n",
    "            feature_file.write(csv_delimeter.join(map(lambda x: str(x), features)) + \"\\n\")\n",
    "            print(colored(\"[*] Features extracted successfully.\\n\", 'green'))\n",
    "        except:\n",
    "            print(colored(\"[-] Error: Unable to extract features.\\n\", 'red'))\n",
    "\n",
    "    feature_file.close()\n"
   ]
  },
  {
   "cell_type": "code",
   "execution_count": 89,
   "id": "extra-transparency",
   "metadata": {},
   "outputs": [
    {
     "name": "stdout",
     "output_type": "stream",
     "text": [
      "\n",
      "[+] Extracting features from  activate\n",
      "[-] Error: Unable to extract features.\n",
      "\n",
      "\n",
      "[+] Extracting features from  activate.bat\n",
      "[-] Error: Unable to extract features.\n",
      "\n",
      "\n",
      "[+] Extracting features from  activate.fish\n",
      "[-] Error: Unable to extract features.\n",
      "\n",
      "\n",
      "[+] Extracting features from  activate.nu\n",
      "[-] Error: Unable to extract features.\n",
      "\n",
      "\n",
      "[+] Extracting features from  activate.ps1\n",
      "[-] Error: Unable to extract features.\n",
      "\n",
      "\n",
      "[+] Extracting features from  activate_this.py\n",
      "[-] Error: Unable to extract features.\n",
      "\n",
      "\n",
      "[+] Extracting features from  deactivate.bat\n",
      "[-] Error: Unable to extract features.\n",
      "\n",
      "\n",
      "[+] Extracting features from  deactivate.nu\n",
      "[-] Error: Unable to extract features.\n",
      "\n",
      "\n",
      "[+] Extracting features from  django-admin.exe\n",
      "[-] Error: Unable to extract features.\n",
      "\n",
      "\n",
      "[+] Extracting features from  normalizer.exe\n",
      "[-] Error: Unable to extract features.\n",
      "\n",
      "\n",
      "[+] Extracting features from  pip-3.9.exe\n",
      "[-] Error: Unable to extract features.\n",
      "\n",
      "\n",
      "[+] Extracting features from  pip.exe\n",
      "[-] Error: Unable to extract features.\n",
      "\n",
      "\n",
      "[+] Extracting features from  pip3.9.exe\n",
      "[-] Error: Unable to extract features.\n",
      "\n",
      "\n",
      "[+] Extracting features from  pip3.exe\n",
      "[-] Error: Unable to extract features.\n",
      "\n",
      "\n",
      "[+] Extracting features from  pydoc.bat\n",
      "[-] Error: Unable to extract features.\n",
      "\n",
      "\n",
      "[+] Extracting features from  pyrsa-decrypt.exe\n",
      "[-] Error: Unable to extract features.\n",
      "\n",
      "\n",
      "[+] Extracting features from  pyrsa-encrypt.exe\n",
      "[-] Error: Unable to extract features.\n",
      "\n",
      "\n",
      "[+] Extracting features from  pyrsa-keygen.exe\n",
      "[-] Error: Unable to extract features.\n",
      "\n",
      "\n",
      "[+] Extracting features from  pyrsa-priv2pub.exe\n",
      "[-] Error: Unable to extract features.\n",
      "\n",
      "\n",
      "[+] Extracting features from  pyrsa-sign.exe\n",
      "[-] Error: Unable to extract features.\n",
      "\n",
      "\n",
      "[+] Extracting features from  pyrsa-verify.exe\n",
      "[-] Error: Unable to extract features.\n",
      "\n",
      "\n",
      "[+] Extracting features from  python.exe\n",
      "[-] Error: Unable to extract features.\n",
      "\n",
      "\n",
      "[+] Extracting features from  pythonw.exe\n",
      "[-] Error: Unable to extract features.\n",
      "\n",
      "\n",
      "[+] Extracting features from  sqlformat.exe\n",
      "[-] Error: Unable to extract features.\n",
      "\n",
      "\n",
      "[+] Extracting features from  wheel-3.9.exe\n",
      "[-] Error: Unable to extract features.\n",
      "\n",
      "\n",
      "[+] Extracting features from  wheel.exe\n",
      "[-] Error: Unable to extract features.\n",
      "\n",
      "\n",
      "[+] Extracting features from  wheel3.9.exe\n",
      "[-] Error: Unable to extract features.\n",
      "\n",
      "\n",
      "[+] Extracting features from  wheel3.exe\n",
      "[-] Error: Unable to extract features.\n",
      "\n"
     ]
    }
   ],
   "source": [
    "\n",
    "\n",
    "if __name__ == '__main__':\n",
    "    output_file = \"data2_benign.csv\"\n",
    "    csv_delimeter = ','\n",
    "    csv_columns = [\n",
    "        \"FileName\",\n",
    "        \"md5Hash\",\n",
    "        \"Machine\",\n",
    "        \"DebugSize\",\n",
    "        \"DebugRVA\",\n",
    "        \"MajorImageVersion\",\n",
    "        \"MajorOSVersion\",\n",
    "        \"ExportRVA\",\n",
    "        \"ExportSize\",\n",
    "        \"IatVRA\",\n",
    "        \"MajorLinkerVersion\",\n",
    "        \"MinorLinkerVersion\",\n",
    "        \"NumberOfSections\",\n",
    "        \"SizeOfStackReserve\",\n",
    "        \"DllCharacteristics\",\n",
    "        \"ResourceSize\",\n",
    "        \"BitcoinAddresses\",\n",
    "        \"Benign\",\n",
    "    ]\n",
    "\n",
    "    # Compiles the yara rule for bitcoin address detection.\n",
    "    compile_bitcoin()\n",
    "\n",
    "    # Opens file so features can be written too.\n",
    "    feature_file = open(output_file, 'a')\n",
    "    \n",
    "    # Writes column headers to feature file.\n",
    "    feature_file.write(csv_delimeter.join(csv_columns) + \"\\n\")\n",
    "\n",
    "    colorama.init()\n",
    "\n",
    "    # Extracts features from benign files and writes to CSV.\n",
    "    for f in os.listdir(r'C:\\Users\\Mustapha\\Desktop\\New_folder_(2)\\Django_project\\env\\Scripts'):\n",
    "        print(\"\\n[+] Extracting features from \", f)\n",
    "        try:\n",
    "            features = extract_features(os.path.join('benign/', f))\n",
    "            features.append(1)\n",
    "            feature_file.write(csv_delimeter.join(map(lambda x: str(x), features)) + \"\\n\")\n",
    "            print(colored(\"[*] Features extracted successfully.\\n\", 'green'))\n",
    "        except:\n",
    "            print(colored(\"[-] Error: Unable to extract features.\\n\", 'red'))\n",
    "\n",
    "    feature_file.close()"
   ]
  },
  {
   "cell_type": "code",
   "execution_count": null,
   "id": "stretch-worship",
   "metadata": {},
   "outputs": [],
   "source": []
  },
  {
   "cell_type": "code",
   "execution_count": null,
   "id": "detected-republic",
   "metadata": {},
   "outputs": [],
   "source": []
  },
  {
   "cell_type": "code",
   "execution_count": null,
   "id": "dying-horror",
   "metadata": {},
   "outputs": [],
   "source": []
  },
  {
   "cell_type": "code",
   "execution_count": null,
   "id": "brazilian-concentration",
   "metadata": {},
   "outputs": [],
   "source": []
  },
  {
   "cell_type": "code",
   "execution_count": 96,
   "id": "under-living",
   "metadata": {},
   "outputs": [],
   "source": [
    "def extract_features(file):\n",
    "    # Creates an empty list for which features can later be appended into.\n",
    "    features = []\n",
    "\n",
    "    # Name of file\n",
    "#     features.append(os.path.basename(file))\n",
    "\n",
    "    # MD5 hash\n",
    "    features.append(get_md5(file))\n",
    "\n",
    "    # Assigns pe to the input file. fast_load loads all directory information.\n",
    "    pe = pefile.PE(file, fast_load=True)\n",
    "\n",
    "    # CPU that the file is intended for.\n",
    "    features.append(pe.FILE_HEADER.Machine)\n",
    "\n",
    "    # DebugSize is the size of the debug directory table. Clean files typically have a debug directory\n",
    "    # and thus, will have a non-zero values.\n",
    "    features.append(pe.OPTIONAL_HEADER.DATA_DIRECTORY[6].Size)\n",
    "\n",
    "    # DebugRVA\n",
    "    features.append(pe.OPTIONAL_HEADER.DATA_DIRECTORY[6].VirtualAddress)\n",
    "\n",
    "    # MajorImageVersion is the version of the file. This is user defined and for clean programs is often\n",
    "    # populated. Malware often has a value of 0 for this.\n",
    "    features.append(pe.OPTIONAL_HEADER.MajorImageVersion)\n",
    "\n",
    "    # MajorOSVersion is the major operating system required to run exe.\n",
    "    features.append(pe.OPTIONAL_HEADER.MajorOperatingSystemVersion)\n",
    "\n",
    "    # ExportRVA.\n",
    "    features.append(pe.OPTIONAL_HEADER.DATA_DIRECTORY[0].VirtualAddress)\n",
    "\n",
    "    # ExportSize is the size of the export table. Usually non-zero for clean files.\n",
    "    features.append(pe.OPTIONAL_HEADER.DATA_DIRECTORY[0].Size)\n",
    "\n",
    "    # IatRVA is the relative virtual address of import address table. Most clean files have 4096 for this\n",
    "    # where as malware often has 0 or a very large number.\n",
    "    features.append(pe.OPTIONAL_HEADER.DATA_DIRECTORY[12].VirtualAddress)\n",
    "\n",
    "    # Version of linker that produced file.\n",
    "    features.append(pe.OPTIONAL_HEADER.MajorLinkerVersion)\n",
    "    features.append(pe.OPTIONAL_HEADER.MinorLinkerVersion)\n",
    "\n",
    "    # NumberOfSections is the number of sections in file.\n",
    "    features.append(pe.FILE_HEADER.NumberOfSections)\n",
    "\n",
    "    # SizeOfStackReserve denotes the amount of virtual memory to reserve for the initial thread's stack.\n",
    "    features.append(pe.OPTIONAL_HEADER.SizeOfStackReserve)\n",
    "\n",
    "    # DllCharacteristics is a set of flags indicating under which circumstances a DLL's initialization\n",
    "    # function will be called.\n",
    "    features.append(pe.OPTIONAL_HEADER.DllCharacteristics)\n",
    "\n",
    "    # MinResourcesSize is the size of resources section of PE header. Malware sometimes has 0 resources.\n",
    "    features.append(pe.OPTIONAL_HEADER.DATA_DIRECTORY[2].Size)\n",
    "\n",
    "    # Calls the bitcoin_check function to check if the file contains a bitcoin address.\n",
    "    bitcoin_check = check_bitcoin(file)\n",
    "    features.append(bitcoin_check)\n",
    "\n",
    "    # Returns the feature list.\n",
    "    return features"
   ]
  },
  {
   "cell_type": "code",
   "execution_count": 53,
   "id": "satellite-webmaster",
   "metadata": {},
   "outputs": [],
   "source": [
    "# extract_features('benign')"
   ]
  },
  {
   "cell_type": "code",
   "execution_count": 74,
   "id": "further-printer",
   "metadata": {},
   "outputs": [],
   "source": [
    "file = os.path.basename('benign/test.txt')"
   ]
  },
  {
   "cell_type": "code",
   "execution_count": null,
   "id": "appropriate-recording",
   "metadata": {},
   "outputs": [],
   "source": []
  },
  {
   "cell_type": "code",
   "execution_count": 61,
   "id": "union-compound",
   "metadata": {},
   "outputs": [
    {
     "data": {
      "text/plain": [
       "'25289c2b803207cce00cf4b282949750'"
      ]
     },
     "execution_count": 61,
     "metadata": {},
     "output_type": "execute_result"
    }
   ],
   "source": [
    "get_md5('benign/test.txt')"
   ]
  },
  {
   "cell_type": "code",
   "execution_count": 78,
   "id": "floral-hampshire",
   "metadata": {},
   "outputs": [],
   "source": [
    "pe = pefile.PE(r'C:\\Users\\Mustapha\\Desktop\\New_folder_(2)\\Django_project\\env\\Scripts\\normalizer.exe', fast_load=True)"
   ]
  },
  {
   "cell_type": "code",
   "execution_count": null,
   "id": "exotic-stuart",
   "metadata": {},
   "outputs": [],
   "source": []
  },
  {
   "cell_type": "code",
   "execution_count": 22,
   "id": "initial-tobacco",
   "metadata": {},
   "outputs": [],
   "source": [
    "def get_md5(file):\n",
    "    \n",
    "    # Note that sometimes you won't be able to fit the whole file in memory.\n",
    "    # In that case, you'll have to read chunks of 4096 bytes\n",
    "    # sequentially and feed them to the Md5 function:\n",
    "    # https://stackoverflow.com/questions/3431825/generating-an-md5-checksum-of-a-file\n",
    "    \n",
    "    md5 = hashlib.md5()\n",
    "    with open(file, \"rb\") as f:\n",
    "        for chunk in iter(lambda: f.read(4096), b\"\"):\n",
    "            md5.update(chunk)\n",
    "        return md5.hexdigest()"
   ]
  },
  {
   "cell_type": "code",
   "execution_count": 30,
   "id": "forward-technician",
   "metadata": {},
   "outputs": [
    {
     "data": {
      "text/plain": [
       "'25289c2b803207cce00cf4b282949750'"
      ]
     },
     "execution_count": 30,
     "metadata": {},
     "output_type": "execute_result"
    }
   ],
   "source": [
    "get_md5('benign/test.txt')"
   ]
  },
  {
   "cell_type": "code",
   "execution_count": 97,
   "id": "violent-commons",
   "metadata": {},
   "outputs": [
    {
     "data": {
      "text/plain": [
       "['46de421fa3f48785fdcf7572d08f61f7',\n",
       " 34404,\n",
       " 28,\n",
       " 66368,\n",
       " 0,\n",
       " 5,\n",
       " 0,\n",
       " 0,\n",
       " 65536,\n",
       " 10,\n",
       " 0,\n",
       " 6,\n",
       " 1048576,\n",
       " 33088,\n",
       " 21492,\n",
       " 0]"
      ]
     },
     "execution_count": 97,
     "metadata": {},
     "output_type": "execute_result"
    }
   ],
   "source": [
    " extract_features(r'C:\\Users\\Mustapha\\Desktop\\New_folder_(2)\\Django_project\\security\\MLRD-Machine-Learning-Ransomware-Detection\\benign\\normalizer.exe')"
   ]
  },
  {
   "cell_type": "code",
   "execution_count": null,
   "id": "obvious-haiti",
   "metadata": {},
   "outputs": [],
   "source": []
  },
  {
   "cell_type": "code",
   "execution_count": null,
   "id": "provincial-feelings",
   "metadata": {},
   "outputs": [],
   "source": []
  },
  {
   "cell_type": "code",
   "execution_count": 25,
   "id": "bored-leather",
   "metadata": {},
   "outputs": [],
   "source": [
    "import hashlib\n",
    "def md5(fname):\n",
    "    hash_md5 = hashlib.md5()\n",
    "    with open(fname, \"rb\") as f:\n",
    "        for chunk in iter(lambda: f.read(4096), b\"\"):\n",
    "            hash_md5.update(chunk)\n",
    "    return hash_md5.hexdigest()"
   ]
  },
  {
   "cell_type": "code",
   "execution_count": 28,
   "id": "painted-flower",
   "metadata": {},
   "outputs": [
    {
     "data": {
      "text/plain": [
       "'25289c2b803207cce00cf4b282949750'"
      ]
     },
     "execution_count": 28,
     "metadata": {},
     "output_type": "execute_result"
    }
   ],
   "source": [
    " md5('benign/test.txt')"
   ]
  },
  {
   "cell_type": "code",
   "execution_count": 11,
   "id": "radical-superior",
   "metadata": {},
   "outputs": [],
   "source": [
    "import pandas as pd"
   ]
  },
  {
   "cell_type": "code",
   "execution_count": 13,
   "id": "protected-spanish",
   "metadata": {},
   "outputs": [
    {
     "name": "stderr",
     "output_type": "stream",
     "text": [
      "<ipython-input-13-19450828a73f>:1: DtypeWarning: Columns (2,3,4,5,6,7,8,9,10,11,12,13,14,15,16,17) have mixed types. Specify dtype option on import or set low_memory=False.\n",
      "  df = pd.read_csv('data_benign.csv')\n"
     ]
    },
    {
     "data": {
      "text/html": [
       "<div>\n",
       "<style scoped>\n",
       "    .dataframe tbody tr th:only-of-type {\n",
       "        vertical-align: middle;\n",
       "    }\n",
       "\n",
       "    .dataframe tbody tr th {\n",
       "        vertical-align: top;\n",
       "    }\n",
       "\n",
       "    .dataframe thead th {\n",
       "        text-align: right;\n",
       "    }\n",
       "</style>\n",
       "<table border=\"1\" class=\"dataframe\">\n",
       "  <thead>\n",
       "    <tr style=\"text-align: right;\">\n",
       "      <th></th>\n",
       "      <th>FileName</th>\n",
       "      <th>md5Hash</th>\n",
       "      <th>Machine</th>\n",
       "      <th>DebugSize</th>\n",
       "      <th>DebugRVA</th>\n",
       "      <th>MajorImageVersion</th>\n",
       "      <th>MajorOSVersion</th>\n",
       "      <th>ExportRVA</th>\n",
       "      <th>ExportSize</th>\n",
       "      <th>IatVRA</th>\n",
       "      <th>MajorLinkerVersion</th>\n",
       "      <th>MinorLinkerVersion</th>\n",
       "      <th>NumberOfSections</th>\n",
       "      <th>SizeOfStackReserve</th>\n",
       "      <th>DllCharacteristics</th>\n",
       "      <th>ResourceSize</th>\n",
       "      <th>BitcoinAddresses</th>\n",
       "      <th>Benign</th>\n",
       "    </tr>\n",
       "  </thead>\n",
       "  <tbody>\n",
       "    <tr>\n",
       "      <th>0</th>\n",
       "      <td>0124e21d-018c-4ce0-92a3-b9e205a76bc0.dll</td>\n",
       "      <td>79755c51e413ed3c6be4635fd729a6e1</td>\n",
       "      <td>332</td>\n",
       "      <td>0</td>\n",
       "      <td>0</td>\n",
       "      <td>0</td>\n",
       "      <td>4</td>\n",
       "      <td>0</td>\n",
       "      <td>0</td>\n",
       "      <td>8192</td>\n",
       "      <td>8</td>\n",
       "      <td>0</td>\n",
       "      <td>3</td>\n",
       "      <td>1048576</td>\n",
       "      <td>34112</td>\n",
       "      <td>672</td>\n",
       "      <td>0</td>\n",
       "      <td>1</td>\n",
       "    </tr>\n",
       "    <tr>\n",
       "      <th>1</th>\n",
       "      <td>05c8318f98a5d301d80000009c316005.vertdll.dll</td>\n",
       "      <td>95e19f3657d34a432eada93221b0ea16</td>\n",
       "      <td>34404</td>\n",
       "      <td>84</td>\n",
       "      <td>121728</td>\n",
       "      <td>10</td>\n",
       "      <td>10</td>\n",
       "      <td>126576</td>\n",
       "      <td>4930</td>\n",
       "      <td>0</td>\n",
       "      <td>14</td>\n",
       "      <td>10</td>\n",
       "      <td>8</td>\n",
       "      <td>262144</td>\n",
       "      <td>16864</td>\n",
       "      <td>1024</td>\n",
       "      <td>0</td>\n",
       "      <td>1</td>\n",
       "    </tr>\n",
       "    <tr>\n",
       "      <th>2</th>\n",
       "      <td>06054fba-5619-4a86-a861-ffb0464bef5d.dll</td>\n",
       "      <td>85c32641d77a54e19ba8ea4ab305c791</td>\n",
       "      <td>332</td>\n",
       "      <td>0</td>\n",
       "      <td>0</td>\n",
       "      <td>0</td>\n",
       "      <td>4</td>\n",
       "      <td>0</td>\n",
       "      <td>0</td>\n",
       "      <td>8192</td>\n",
       "      <td>8</td>\n",
       "      <td>0</td>\n",
       "      <td>3</td>\n",
       "      <td>1048576</td>\n",
       "      <td>34112</td>\n",
       "      <td>672</td>\n",
       "      <td>0</td>\n",
       "      <td>1</td>\n",
       "    </tr>\n",
       "    <tr>\n",
       "      <th>3</th>\n",
       "      <td>075822ac99a5d301660400009c316005.adhapi.dll</td>\n",
       "      <td>62e3b959d982ef534b66f819fe15f085</td>\n",
       "      <td>34404</td>\n",
       "      <td>84</td>\n",
       "      <td>19904</td>\n",
       "      <td>10</td>\n",
       "      <td>10</td>\n",
       "      <td>21312</td>\n",
       "      <td>252</td>\n",
       "      <td>18160</td>\n",
       "      <td>14</td>\n",
       "      <td>10</td>\n",
       "      <td>6</td>\n",
       "      <td>262144</td>\n",
       "      <td>16736</td>\n",
       "      <td>1040</td>\n",
       "      <td>0</td>\n",
       "      <td>1</td>\n",
       "    </tr>\n",
       "    <tr>\n",
       "      <th>4</th>\n",
       "      <td>090607dd9ba5d301ca0900009c316005.SensorsNative...</td>\n",
       "      <td>ae38c5f7d313ad0ff3bfb8826476767f</td>\n",
       "      <td>34404</td>\n",
       "      <td>84</td>\n",
       "      <td>97728</td>\n",
       "      <td>10</td>\n",
       "      <td>10</td>\n",
       "      <td>105792</td>\n",
       "      <td>1852</td>\n",
       "      <td>70592</td>\n",
       "      <td>14</td>\n",
       "      <td>10</td>\n",
       "      <td>7</td>\n",
       "      <td>262144</td>\n",
       "      <td>16736</td>\n",
       "      <td>1096</td>\n",
       "      <td>0</td>\n",
       "      <td>1</td>\n",
       "    </tr>\n",
       "  </tbody>\n",
       "</table>\n",
       "</div>"
      ],
      "text/plain": [
       "                                            FileName  \\\n",
       "0           0124e21d-018c-4ce0-92a3-b9e205a76bc0.dll   \n",
       "1       05c8318f98a5d301d80000009c316005.vertdll.dll   \n",
       "2           06054fba-5619-4a86-a861-ffb0464bef5d.dll   \n",
       "3        075822ac99a5d301660400009c316005.adhapi.dll   \n",
       "4  090607dd9ba5d301ca0900009c316005.SensorsNative...   \n",
       "\n",
       "                            md5Hash Machine DebugSize DebugRVA  \\\n",
       "0  79755c51e413ed3c6be4635fd729a6e1     332         0        0   \n",
       "1  95e19f3657d34a432eada93221b0ea16   34404        84   121728   \n",
       "2  85c32641d77a54e19ba8ea4ab305c791     332         0        0   \n",
       "3  62e3b959d982ef534b66f819fe15f085   34404        84    19904   \n",
       "4  ae38c5f7d313ad0ff3bfb8826476767f   34404        84    97728   \n",
       "\n",
       "  MajorImageVersion MajorOSVersion ExportRVA ExportSize IatVRA  \\\n",
       "0                 0              4         0          0   8192   \n",
       "1                10             10    126576       4930      0   \n",
       "2                 0              4         0          0   8192   \n",
       "3                10             10     21312        252  18160   \n",
       "4                10             10    105792       1852  70592   \n",
       "\n",
       "  MajorLinkerVersion MinorLinkerVersion NumberOfSections SizeOfStackReserve  \\\n",
       "0                  8                  0                3            1048576   \n",
       "1                 14                 10                8             262144   \n",
       "2                  8                  0                3            1048576   \n",
       "3                 14                 10                6             262144   \n",
       "4                 14                 10                7             262144   \n",
       "\n",
       "  DllCharacteristics ResourceSize BitcoinAddresses Benign  \n",
       "0              34112          672                0      1  \n",
       "1              16864         1024                0      1  \n",
       "2              34112          672                0      1  \n",
       "3              16736         1040                0      1  \n",
       "4              16736         1096                0      1  "
      ]
     },
     "execution_count": 13,
     "metadata": {},
     "output_type": "execute_result"
    }
   ],
   "source": [
    "# Malicious files\n",
    "# Malicious files\n",
    "# Malicious files\n",
    "# Malicious files\n",
    "df = pd.read_csv('data_benign.csv')\n",
    "df.head()"
   ]
  },
  {
   "cell_type": "code",
   "execution_count": 14,
   "id": "blank-korean",
   "metadata": {},
   "outputs": [
    {
     "data": {
      "text/html": [
       "<div>\n",
       "<style scoped>\n",
       "    .dataframe tbody tr th:only-of-type {\n",
       "        vertical-align: middle;\n",
       "    }\n",
       "\n",
       "    .dataframe tbody tr th {\n",
       "        vertical-align: top;\n",
       "    }\n",
       "\n",
       "    .dataframe thead th {\n",
       "        text-align: right;\n",
       "    }\n",
       "</style>\n",
       "<table border=\"1\" class=\"dataframe\">\n",
       "  <thead>\n",
       "    <tr style=\"text-align: right;\">\n",
       "      <th></th>\n",
       "      <th>FileName</th>\n",
       "      <th>md5Hash</th>\n",
       "      <th>Machine</th>\n",
       "      <th>DebugSize</th>\n",
       "      <th>DebugRVA</th>\n",
       "      <th>MajorImageVersion</th>\n",
       "      <th>MajorOSVersion</th>\n",
       "      <th>ExportRVA</th>\n",
       "      <th>ExportSize</th>\n",
       "      <th>IatVRA</th>\n",
       "      <th>MajorLinkerVersion</th>\n",
       "      <th>MinorLinkerVersion</th>\n",
       "      <th>NumberOfSections</th>\n",
       "      <th>SizeOfStackReserve</th>\n",
       "      <th>DllCharacteristics</th>\n",
       "      <th>ResourceSize</th>\n",
       "      <th>BitcoinAddresses</th>\n",
       "      <th>Benign</th>\n",
       "    </tr>\n",
       "  </thead>\n",
       "  <tbody>\n",
       "    <tr>\n",
       "      <th>0</th>\n",
       "      <td>VirusShare_0a09a21c2f28c8c5b5d168feb668a80b</td>\n",
       "      <td>0a09a21c2f28c8c5b5d168feb668a80b</td>\n",
       "      <td>332</td>\n",
       "      <td>0</td>\n",
       "      <td>0</td>\n",
       "      <td>0</td>\n",
       "      <td>4</td>\n",
       "      <td>0</td>\n",
       "      <td>0</td>\n",
       "      <td>8520</td>\n",
       "      <td>6</td>\n",
       "      <td>0</td>\n",
       "      <td>2</td>\n",
       "      <td>1048576</td>\n",
       "      <td>0</td>\n",
       "      <td>0</td>\n",
       "      <td>0</td>\n",
       "      <td>0</td>\n",
       "    </tr>\n",
       "    <tr>\n",
       "      <th>1</th>\n",
       "      <td>VirusShare_bc4ce1d0466f42493418d65b9a1e880f</td>\n",
       "      <td>bc4ce1d0466f42493418d65b9a1e880f</td>\n",
       "      <td>332</td>\n",
       "      <td>0</td>\n",
       "      <td>0</td>\n",
       "      <td>8</td>\n",
       "      <td>10</td>\n",
       "      <td>369716</td>\n",
       "      <td>160</td>\n",
       "      <td>0</td>\n",
       "      <td>9</td>\n",
       "      <td>0</td>\n",
       "      <td>3</td>\n",
       "      <td>0</td>\n",
       "      <td>0</td>\n",
       "      <td>764</td>\n",
       "      <td>0</td>\n",
       "      <td>0</td>\n",
       "    </tr>\n",
       "    <tr>\n",
       "      <th>2</th>\n",
       "      <td>VirusShare_3086d1682a10bca61945ccca93cc8098</td>\n",
       "      <td>3086d1682a10bca61945ccca93cc8098</td>\n",
       "      <td>332</td>\n",
       "      <td>0</td>\n",
       "      <td>0</td>\n",
       "      <td>0</td>\n",
       "      <td>4</td>\n",
       "      <td>0</td>\n",
       "      <td>0</td>\n",
       "      <td>257</td>\n",
       "      <td>2</td>\n",
       "      <td>50</td>\n",
       "      <td>5</td>\n",
       "      <td>1048576</td>\n",
       "      <td>0</td>\n",
       "      <td>227484</td>\n",
       "      <td>0</td>\n",
       "      <td>0</td>\n",
       "    </tr>\n",
       "    <tr>\n",
       "      <th>3</th>\n",
       "      <td>VirusShare_0683b586f3b9ea7a06d4d31555f31f80</td>\n",
       "      <td>0683b586f3b9ea7a06d4d31555f31f80</td>\n",
       "      <td>332</td>\n",
       "      <td>0</td>\n",
       "      <td>0</td>\n",
       "      <td>0</td>\n",
       "      <td>5</td>\n",
       "      <td>0</td>\n",
       "      <td>0</td>\n",
       "      <td>245760</td>\n",
       "      <td>9</td>\n",
       "      <td>0</td>\n",
       "      <td>7</td>\n",
       "      <td>1048576</td>\n",
       "      <td>32768</td>\n",
       "      <td>45920</td>\n",
       "      <td>0</td>\n",
       "      <td>0</td>\n",
       "    </tr>\n",
       "    <tr>\n",
       "      <th>4</th>\n",
       "      <td>VirusShare_d74daee515bd5a77f299151a568cb57a</td>\n",
       "      <td>d74daee515bd5a77f299151a568cb57a</td>\n",
       "      <td>332</td>\n",
       "      <td>28</td>\n",
       "      <td>12336</td>\n",
       "      <td>0</td>\n",
       "      <td>4</td>\n",
       "      <td>0</td>\n",
       "      <td>0</td>\n",
       "      <td>28672</td>\n",
       "      <td>9</td>\n",
       "      <td>0</td>\n",
       "      <td>8</td>\n",
       "      <td>1048576</td>\n",
       "      <td>0</td>\n",
       "      <td>96304</td>\n",
       "      <td>0</td>\n",
       "      <td>0</td>\n",
       "    </tr>\n",
       "    <tr>\n",
       "      <th>...</th>\n",
       "      <td>...</td>\n",
       "      <td>...</td>\n",
       "      <td>...</td>\n",
       "      <td>...</td>\n",
       "      <td>...</td>\n",
       "      <td>...</td>\n",
       "      <td>...</td>\n",
       "      <td>...</td>\n",
       "      <td>...</td>\n",
       "      <td>...</td>\n",
       "      <td>...</td>\n",
       "      <td>...</td>\n",
       "      <td>...</td>\n",
       "      <td>...</td>\n",
       "      <td>...</td>\n",
       "      <td>...</td>\n",
       "      <td>...</td>\n",
       "      <td>...</td>\n",
       "    </tr>\n",
       "    <tr>\n",
       "      <th>35362</th>\n",
       "      <td>VirusShare_a43ceb5e5fffc793e0205d15a0606cb0</td>\n",
       "      <td>a43ceb5e5fffc793e0205d15a0606cb0</td>\n",
       "      <td>332</td>\n",
       "      <td>0</td>\n",
       "      <td>0</td>\n",
       "      <td>1</td>\n",
       "      <td>4</td>\n",
       "      <td>0</td>\n",
       "      <td>0</td>\n",
       "      <td>4096</td>\n",
       "      <td>6</td>\n",
       "      <td>0</td>\n",
       "      <td>3</td>\n",
       "      <td>1048576</td>\n",
       "      <td>0</td>\n",
       "      <td>23504</td>\n",
       "      <td>0</td>\n",
       "      <td>0</td>\n",
       "    </tr>\n",
       "    <tr>\n",
       "      <th>35363</th>\n",
       "      <td>VirusShare_0190dafc8304111a00fccf57340ea6a4</td>\n",
       "      <td>0190dafc8304111a00fccf57340ea6a4</td>\n",
       "      <td>332</td>\n",
       "      <td>0</td>\n",
       "      <td>0</td>\n",
       "      <td>7</td>\n",
       "      <td>10</td>\n",
       "      <td>0</td>\n",
       "      <td>0</td>\n",
       "      <td>0</td>\n",
       "      <td>7</td>\n",
       "      <td>0</td>\n",
       "      <td>7</td>\n",
       "      <td>1048576</td>\n",
       "      <td>0</td>\n",
       "      <td>15704</td>\n",
       "      <td>0</td>\n",
       "      <td>0</td>\n",
       "    </tr>\n",
       "    <tr>\n",
       "      <th>35364</th>\n",
       "      <td>VirusShare_0f3ca55979aaf59158d6b01140696e44</td>\n",
       "      <td>0f3ca55979aaf59158d6b01140696e44</td>\n",
       "      <td>332</td>\n",
       "      <td>0</td>\n",
       "      <td>0</td>\n",
       "      <td>0</td>\n",
       "      <td>4</td>\n",
       "      <td>0</td>\n",
       "      <td>0</td>\n",
       "      <td>404908</td>\n",
       "      <td>2</td>\n",
       "      <td>50</td>\n",
       "      <td>11</td>\n",
       "      <td>1048576</td>\n",
       "      <td>0</td>\n",
       "      <td>2364</td>\n",
       "      <td>0</td>\n",
       "      <td>0</td>\n",
       "    </tr>\n",
       "    <tr>\n",
       "      <th>35365</th>\n",
       "      <td>VirusShare_fca5ce35f1690db6babca5aa5d559535</td>\n",
       "      <td>fca5ce35f1690db6babca5aa5d559535</td>\n",
       "      <td>332</td>\n",
       "      <td>0</td>\n",
       "      <td>0</td>\n",
       "      <td>0</td>\n",
       "      <td>4</td>\n",
       "      <td>14448</td>\n",
       "      <td>70</td>\n",
       "      <td>4096</td>\n",
       "      <td>8</td>\n",
       "      <td>0</td>\n",
       "      <td>4</td>\n",
       "      <td>1048576</td>\n",
       "      <td>0</td>\n",
       "      <td>130296</td>\n",
       "      <td>0</td>\n",
       "      <td>0</td>\n",
       "    </tr>\n",
       "    <tr>\n",
       "      <th>35366</th>\n",
       "      <td>VirusShare_d7955a7e6d1e16800feafd4204cbac2b</td>\n",
       "      <td>d7955a7e6d1e16800feafd4204cbac2b</td>\n",
       "      <td>332</td>\n",
       "      <td>0</td>\n",
       "      <td>0</td>\n",
       "      <td>0</td>\n",
       "      <td>5</td>\n",
       "      <td>0</td>\n",
       "      <td>0</td>\n",
       "      <td>4096</td>\n",
       "      <td>9</td>\n",
       "      <td>0</td>\n",
       "      <td>6</td>\n",
       "      <td>1048576</td>\n",
       "      <td>0</td>\n",
       "      <td>6912</td>\n",
       "      <td>0</td>\n",
       "      <td>0</td>\n",
       "    </tr>\n",
       "  </tbody>\n",
       "</table>\n",
       "<p>35367 rows × 18 columns</p>\n",
       "</div>"
      ],
      "text/plain": [
       "                                          FileName  \\\n",
       "0      VirusShare_0a09a21c2f28c8c5b5d168feb668a80b   \n",
       "1      VirusShare_bc4ce1d0466f42493418d65b9a1e880f   \n",
       "2      VirusShare_3086d1682a10bca61945ccca93cc8098   \n",
       "3      VirusShare_0683b586f3b9ea7a06d4d31555f31f80   \n",
       "4      VirusShare_d74daee515bd5a77f299151a568cb57a   \n",
       "...                                            ...   \n",
       "35362  VirusShare_a43ceb5e5fffc793e0205d15a0606cb0   \n",
       "35363  VirusShare_0190dafc8304111a00fccf57340ea6a4   \n",
       "35364  VirusShare_0f3ca55979aaf59158d6b01140696e44   \n",
       "35365  VirusShare_fca5ce35f1690db6babca5aa5d559535   \n",
       "35366  VirusShare_d7955a7e6d1e16800feafd4204cbac2b   \n",
       "\n",
       "                                md5Hash  Machine  DebugSize  DebugRVA  \\\n",
       "0      0a09a21c2f28c8c5b5d168feb668a80b      332          0         0   \n",
       "1      bc4ce1d0466f42493418d65b9a1e880f      332          0         0   \n",
       "2      3086d1682a10bca61945ccca93cc8098      332          0         0   \n",
       "3      0683b586f3b9ea7a06d4d31555f31f80      332          0         0   \n",
       "4      d74daee515bd5a77f299151a568cb57a      332         28     12336   \n",
       "...                                 ...      ...        ...       ...   \n",
       "35362  a43ceb5e5fffc793e0205d15a0606cb0      332          0         0   \n",
       "35363  0190dafc8304111a00fccf57340ea6a4      332          0         0   \n",
       "35364  0f3ca55979aaf59158d6b01140696e44      332          0         0   \n",
       "35365  fca5ce35f1690db6babca5aa5d559535      332          0         0   \n",
       "35366  d7955a7e6d1e16800feafd4204cbac2b      332          0         0   \n",
       "\n",
       "       MajorImageVersion  MajorOSVersion  ExportRVA  ExportSize  IatVRA  \\\n",
       "0                      0               4          0           0    8520   \n",
       "1                      8              10     369716         160       0   \n",
       "2                      0               4          0           0     257   \n",
       "3                      0               5          0           0  245760   \n",
       "4                      0               4          0           0   28672   \n",
       "...                  ...             ...        ...         ...     ...   \n",
       "35362                  1               4          0           0    4096   \n",
       "35363                  7              10          0           0       0   \n",
       "35364                  0               4          0           0  404908   \n",
       "35365                  0               4      14448          70    4096   \n",
       "35366                  0               5          0           0    4096   \n",
       "\n",
       "       MajorLinkerVersion  MinorLinkerVersion  NumberOfSections  \\\n",
       "0                       6                   0                 2   \n",
       "1                       9                   0                 3   \n",
       "2                       2                  50                 5   \n",
       "3                       9                   0                 7   \n",
       "4                       9                   0                 8   \n",
       "...                   ...                 ...               ...   \n",
       "35362                   6                   0                 3   \n",
       "35363                   7                   0                 7   \n",
       "35364                   2                  50                11   \n",
       "35365                   8                   0                 4   \n",
       "35366                   9                   0                 6   \n",
       "\n",
       "       SizeOfStackReserve  DllCharacteristics  ResourceSize  BitcoinAddresses  \\\n",
       "0                 1048576                   0             0                 0   \n",
       "1                       0                   0           764                 0   \n",
       "2                 1048576                   0        227484                 0   \n",
       "3                 1048576               32768         45920                 0   \n",
       "4                 1048576                   0         96304                 0   \n",
       "...                   ...                 ...           ...               ...   \n",
       "35362             1048576                   0         23504                 0   \n",
       "35363             1048576                   0         15704                 0   \n",
       "35364             1048576                   0          2364                 0   \n",
       "35365             1048576                   0        130296                 0   \n",
       "35366             1048576                   0          6912                 0   \n",
       "\n",
       "       Benign  \n",
       "0           0  \n",
       "1           0  \n",
       "2           0  \n",
       "3           0  \n",
       "4           0  \n",
       "...       ...  \n",
       "35362       0  \n",
       "35363       0  \n",
       "35364       0  \n",
       "35365       0  \n",
       "35366       0  \n",
       "\n",
       "[35367 rows x 18 columns]"
      ]
     },
     "execution_count": 14,
     "metadata": {},
     "output_type": "execute_result"
    }
   ],
   "source": [
    "# Unmalicious files\n",
    "# Unmalicious files\n",
    "# Unmalicious files\n",
    "# Unmalicious files\n",
    "df2 = pd.read_csv('data_ransomware.csv')\n",
    "df2"
   ]
  },
  {
   "cell_type": "code",
   "execution_count": null,
   "id": "bridal-mixer",
   "metadata": {},
   "outputs": [],
   "source": []
  }
 ],
 "metadata": {
  "kernelspec": {
   "display_name": "Python 3 (ipykernel)",
   "language": "python",
   "name": "python3"
  },
  "language_info": {
   "codemirror_mode": {
    "name": "ipython",
    "version": 3
   },
   "file_extension": ".py",
   "mimetype": "text/x-python",
   "name": "python",
   "nbconvert_exporter": "python",
   "pygments_lexer": "ipython3",
   "version": "3.8.11"
  }
 },
 "nbformat": 4,
 "nbformat_minor": 5
}
