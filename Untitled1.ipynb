{
 "cells": [
  {
   "cell_type": "code",
   "execution_count": 1,
   "id": "variable-interpretation",
   "metadata": {},
   "outputs": [],
   "source": [
    "\n",
    "import os\n",
    "import hashlib\n",
    "import math\n",
    "import array\n",
    "import pefile\n",
    "import yara\n",
    "from termcolor import colored\n",
    "import colorama\n",
    "\n",
    "\n",
    "# Function get md5 calculates the md5 hash of a given file.\n",
    "def get_md5(file):\n",
    "    \n",
    "    # Note that sometimes you won't be able to fit the whole file in memory.\n",
    "    # In that case, you'll have to read chunks of 4096 bytes\n",
    "    # sequentially and feed them to the Md5 function:\n",
    "    # https://stackoverflow.com/questions/3431825/generating-an-md5-checksum-of-a-file\n",
    "    \n",
    "    md5 = hashlib.md5()\n",
    "    with open(file, \"rb\") as f:\n",
    "        for chunk in iter(lambda: f.read(4096), b\"\"):\n",
    "            md5.update(chunk)\n",
    "        return md5.hexdigest()\n",
    "\n",
    "# Function compile bitcoin compiles the yara rule for detecting\n",
    "# bitcoin addresses within ransomware files. The rule is then\n",
    "# saved in a directory to later be used.\n",
    "def compile_bitcoin():\n",
    "    if not os.path.isdir(\"rules_compiled/Bitcoin\"):\n",
    "        os.makedirs(\"rules_compiled/Bitcoin\")\n",
    "        print(\"success\")\n",
    "\n",
    "    for n in os.listdir(\"rules/Bitcoin\"):\n",
    "        rule = yara.compile(\"rules/Bitcoin/\" + n)\n",
    "        rule.save(\"rules_compiled/Bitcoin/\" + n)\n",
    "\n",
    "# Function check bitcoin loads the bitcoin yara rule\n",
    "# and checks a file for any signs of bitcoin addresses.\n",
    "# If a bitcoin address is found a binary 1 is returned.\n",
    "def check_bitcoin(filepath):\n",
    "    for n in os.listdir(\"rules/Bitcoin\"):\n",
    "        rule = yara.load(\"rules_compiled/Bitcoin/\" + n)\n",
    "        m = rule.match(filepath)\n",
    "        if m:\n",
    "            return 1\n",
    "        else:\n",
    "            return 0\n",
    "\n",
    "# Function extract features extracts all features from the input file.\n",
    "# Features are stored in a list and then returned to later be written to\n",
    "# a csv file. \n",
    "def extract_features(file):\n",
    "    # Creates an empty list for which features can later be appended into.\n",
    "    features = []\n",
    "\n",
    "    # Name of file\n",
    "    features.append(os.path.basename(file))\n",
    "\n",
    "    # MD5 hash\n",
    "    features.append(get_md5(file))\n",
    "\n",
    "    # Assigns pe to the input file. fast_load loads all directory information.\n",
    "    pe = pefile.PE(file, fast_load=True)\n",
    "\n",
    "    # CPU that the file is intended for.\n",
    "    features.append(pe.FILE_HEADER.Machine)\n",
    "\n",
    "    # DebugSize is the size of the debug directory table. Clean files typically have a debug directory\n",
    "    # and thus, will have a non-zero values.\n",
    "    features.append(pe.OPTIONAL_HEADER.DATA_DIRECTORY[6].Size)\n",
    "\n",
    "    # DebugRVA\n",
    "    features.append(pe.OPTIONAL_HEADER.DATA_DIRECTORY[6].VirtualAddress)\n",
    "\n",
    "    # MajorImageVersion is the version of the file. This is user defined and for clean programs is often\n",
    "    # populated. Malware often has a value of 0 for this.\n",
    "    features.append(pe.OPTIONAL_HEADER.MajorImageVersion)\n",
    "\n",
    "    # MajorOSVersion is the major operating system required to run exe.\n",
    "    features.append(pe.OPTIONAL_HEADER.MajorOperatingSystemVersion)\n",
    "\n",
    "    # ExportRVA.\n",
    "    features.append(pe.OPTIONAL_HEADER.DATA_DIRECTORY[0].VirtualAddress)\n",
    "\n",
    "    # ExportSize is the size of the export table. Usually non-zero for clean files.\n",
    "    features.append(pe.OPTIONAL_HEADER.DATA_DIRECTORY[0].Size)\n",
    "\n",
    "    # IatRVA is the relative virtual address of import address table. Most clean files have 4096 for this\n",
    "    # where as malware often has 0 or a very large number.\n",
    "    features.append(pe.OPTIONAL_HEADER.DATA_DIRECTORY[12].VirtualAddress)\n",
    "\n",
    "    # Version of linker that produced file.\n",
    "    features.append(pe.OPTIONAL_HEADER.MajorLinkerVersion)\n",
    "    features.append(pe.OPTIONAL_HEADER.MinorLinkerVersion)\n",
    "\n",
    "    # NumberOfSections is the number of sections in file.\n",
    "    features.append(pe.FILE_HEADER.NumberOfSections)\n",
    "\n",
    "    # SizeOfStackReserve denotes the amount of virtual memory to reserve for the initial thread's stack.\n",
    "    features.append(pe.OPTIONAL_HEADER.SizeOfStackReserve)\n",
    "\n",
    "    # DllCharacteristics is a set of flags indicating under which circumstances a DLL's initialization\n",
    "    # function will be called.\n",
    "    features.append(pe.OPTIONAL_HEADER.DllCharacteristics)\n",
    "\n",
    "    # MinResourcesSize is the size of resources section of PE header. Malware sometimes has 0 resources.\n",
    "    features.append(pe.OPTIONAL_HEADER.DATA_DIRECTORY[2].Size)\n",
    "\n",
    "    # Calls the bitcoin_check function to check if the file contains a bitcoin address.\n",
    "    bitcoin_check = check_bitcoin(file)\n",
    "    features.append(bitcoin_check)\n",
    "\n",
    "    # Returns the feature list.\n",
    "    return features\n",
    "\n"
   ]
  },
  {
   "cell_type": "code",
   "execution_count": 2,
   "id": "productive-trailer",
   "metadata": {},
   "outputs": [
    {
     "ename": "FileNotFoundError",
     "evalue": "[WinError 3] The system cannot find the path specified: 'rules/Bitcoin'",
     "output_type": "error",
     "traceback": [
      "\u001b[1;31m---------------------------------------------------------------------------\u001b[0m",
      "\u001b[1;31mFileNotFoundError\u001b[0m                         Traceback (most recent call last)",
      "\u001b[1;32m<ipython-input-2-773af4f9048d>\u001b[0m in \u001b[0;36m<module>\u001b[1;34m\u001b[0m\n\u001b[1;32m----> 1\u001b[1;33m \u001b[0mextract_features\u001b[0m\u001b[1;33m(\u001b[0m\u001b[1;34mr'C:\\Users\\Mustapha\\Desktop\\New_folder_(2)\\Django_project\\security\\MLRD-Machine-Learning-Ransomware-Detection\\benign\\normalizer.exe'\u001b[0m\u001b[1;33m)\u001b[0m\u001b[1;33m\u001b[0m\u001b[1;33m\u001b[0m\u001b[0m\n\u001b[0m",
      "\u001b[1;32m<ipython-input-1-7dd0122167ac>\u001b[0m in \u001b[0;36mextract_features\u001b[1;34m(file)\u001b[0m\n\u001b[0;32m    108\u001b[0m \u001b[1;33m\u001b[0m\u001b[0m\n\u001b[0;32m    109\u001b[0m     \u001b[1;31m# Calls the bitcoin_check function to check if the file contains a bitcoin address.\u001b[0m\u001b[1;33m\u001b[0m\u001b[1;33m\u001b[0m\u001b[1;33m\u001b[0m\u001b[0m\n\u001b[1;32m--> 110\u001b[1;33m     \u001b[0mbitcoin_check\u001b[0m \u001b[1;33m=\u001b[0m \u001b[0mcheck_bitcoin\u001b[0m\u001b[1;33m(\u001b[0m\u001b[0mfile\u001b[0m\u001b[1;33m)\u001b[0m\u001b[1;33m\u001b[0m\u001b[1;33m\u001b[0m\u001b[0m\n\u001b[0m\u001b[0;32m    111\u001b[0m     \u001b[0mfeatures\u001b[0m\u001b[1;33m.\u001b[0m\u001b[0mappend\u001b[0m\u001b[1;33m(\u001b[0m\u001b[0mbitcoin_check\u001b[0m\u001b[1;33m)\u001b[0m\u001b[1;33m\u001b[0m\u001b[1;33m\u001b[0m\u001b[0m\n\u001b[0;32m    112\u001b[0m \u001b[1;33m\u001b[0m\u001b[0m\n",
      "\u001b[1;32m<ipython-input-1-7dd0122167ac>\u001b[0m in \u001b[0;36mcheck_bitcoin\u001b[1;34m(filepath)\u001b[0m\n\u001b[0;32m     39\u001b[0m \u001b[1;31m# If a bitcoin address is found a binary 1 is returned.\u001b[0m\u001b[1;33m\u001b[0m\u001b[1;33m\u001b[0m\u001b[1;33m\u001b[0m\u001b[0m\n\u001b[0;32m     40\u001b[0m \u001b[1;32mdef\u001b[0m \u001b[0mcheck_bitcoin\u001b[0m\u001b[1;33m(\u001b[0m\u001b[0mfilepath\u001b[0m\u001b[1;33m)\u001b[0m\u001b[1;33m:\u001b[0m\u001b[1;33m\u001b[0m\u001b[1;33m\u001b[0m\u001b[0m\n\u001b[1;32m---> 41\u001b[1;33m     \u001b[1;32mfor\u001b[0m \u001b[0mn\u001b[0m \u001b[1;32min\u001b[0m \u001b[0mos\u001b[0m\u001b[1;33m.\u001b[0m\u001b[0mlistdir\u001b[0m\u001b[1;33m(\u001b[0m\u001b[1;34m\"rules/Bitcoin\"\u001b[0m\u001b[1;33m)\u001b[0m\u001b[1;33m:\u001b[0m\u001b[1;33m\u001b[0m\u001b[1;33m\u001b[0m\u001b[0m\n\u001b[0m\u001b[0;32m     42\u001b[0m         \u001b[0mrule\u001b[0m \u001b[1;33m=\u001b[0m \u001b[0myara\u001b[0m\u001b[1;33m.\u001b[0m\u001b[0mload\u001b[0m\u001b[1;33m(\u001b[0m\u001b[1;34m\"rules_compiled/Bitcoin/\"\u001b[0m \u001b[1;33m+\u001b[0m \u001b[0mn\u001b[0m\u001b[1;33m)\u001b[0m\u001b[1;33m\u001b[0m\u001b[1;33m\u001b[0m\u001b[0m\n\u001b[0;32m     43\u001b[0m         \u001b[0mm\u001b[0m \u001b[1;33m=\u001b[0m \u001b[0mrule\u001b[0m\u001b[1;33m.\u001b[0m\u001b[0mmatch\u001b[0m\u001b[1;33m(\u001b[0m\u001b[0mfilepath\u001b[0m\u001b[1;33m)\u001b[0m\u001b[1;33m\u001b[0m\u001b[1;33m\u001b[0m\u001b[0m\n",
      "\u001b[1;31mFileNotFoundError\u001b[0m: [WinError 3] The system cannot find the path specified: 'rules/Bitcoin'"
     ]
    }
   ],
   "source": [
    "extract_features(r'C:\\Users\\Mustapha\\Desktop\\New_folder_(2)\\Django_project\\security\\MLRD-Machine-Learning-Ransomware-Detection\\benign\\normalizer.exe')"
   ]
  },
  {
   "cell_type": "code",
   "execution_count": 14,
   "id": "legislative-suffering",
   "metadata": {},
   "outputs": [],
   "source": [
    "def get_md5(file):\n",
    "    \n",
    "    # Note that sometimes you won't be able to fit the whole file in memory.\n",
    "    # In that case, you'll have to read chunks of 4096 bytes\n",
    "    # sequentially and feed them to the Md5 function:\n",
    "    # https://stackoverflow.com/questions/3431825/generating-an-md5-checksum-of-a-file\n",
    "    \n",
    "    md5 = hashlib.md5()\n",
    "    with open(file, \"rb\") as f:\n",
    "        for chunk in iter(lambda: f.read(4096), b\"\"):\n",
    "            md5.update(chunk)\n",
    "        return md5.hexdigest()"
   ]
  },
  {
   "cell_type": "code",
   "execution_count": 15,
   "id": "square-vertical",
   "metadata": {},
   "outputs": [
    {
     "data": {
      "text/plain": [
       "'46de421fa3f48785fdcf7572d08f61f7'"
      ]
     },
     "execution_count": 15,
     "metadata": {},
     "output_type": "execute_result"
    }
   ],
   "source": [
    "get_md5(r'C:\\Users\\Mustapha\\Desktop\\New_folder_(2)\\Django_project\\security\\MLRD-Machine-Learning-Ransomware-Detection\\benign\\normalizer.exe')"
   ]
  },
  {
   "cell_type": "code",
   "execution_count": 16,
   "id": "geological-reason",
   "metadata": {},
   "outputs": [],
   "source": [
    "def compile_bitcoin():\n",
    "    if not os.path.isdir(\"rules_compiled/Bitcoin\"):\n",
    "        os.makedirs(\"rules_compiled/Bitcoin\")\n",
    "        print(\"success\")\n"
   ]
  },
  {
   "cell_type": "code",
   "execution_count": 17,
   "id": "detected-press",
   "metadata": {},
   "outputs": [
    {
     "name": "stdout",
     "output_type": "stream",
     "text": [
      "success\n"
     ]
    }
   ],
   "source": [
    "compile_bitcoin()"
   ]
  },
  {
   "cell_type": "code",
   "execution_count": 18,
   "id": "located-photography",
   "metadata": {},
   "outputs": [],
   "source": [
    "def check_bitcoin(filepath):\n",
    "    for n in os.listdir(\"rules/Bitcoin\"):\n",
    "        rule = yara.load(\"rules_compiled/Bitcoin/\" + n)\n",
    "        m = rule.match(filepath)\n",
    "        if m:\n",
    "            return 1\n",
    "        else:\n",
    "            return 0"
   ]
  },
  {
   "cell_type": "code",
   "execution_count": 20,
   "id": "personalized-pregnancy",
   "metadata": {},
   "outputs": [],
   "source": [
    "#  check_bitcoin(r'C:\\Users\\Mustapha\\Desktop\\New_folder_(2)\\Django_project\\security\\MLRD-Machine-Learning-Ransomware-Detection\\benign\\normalizer.exe')"
   ]
  },
  {
   "cell_type": "code",
   "execution_count": null,
   "id": "parliamentary-painting",
   "metadata": {},
   "outputs": [],
   "source": []
  }
 ],
 "metadata": {
  "kernelspec": {
   "display_name": "Python 3 (ipykernel)",
   "language": "python",
   "name": "python3"
  },
  "language_info": {
   "codemirror_mode": {
    "name": "ipython",
    "version": 3
   },
   "file_extension": ".py",
   "mimetype": "text/x-python",
   "name": "python",
   "nbconvert_exporter": "python",
   "pygments_lexer": "ipython3",
   "version": "3.8.8"
  }
 },
 "nbformat": 4,
 "nbformat_minor": 5
}
