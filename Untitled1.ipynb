{
 "cells": [
  {
   "cell_type": "code",
   "execution_count": 6,
   "id": "166e0e22",
   "metadata": {},
   "outputs": [
    {
     "name": "stdout",
     "output_type": "stream",
     "text": [
      "Collecting yara\n",
      "  Using cached yara-1.7.7.tar.gz (387 kB)\n",
      "Building wheels for collected packages: yara\n",
      "  Building wheel for yara (setup.py) ... \u001b[?25ldone\n",
      "\u001b[?25h  Created wheel for yara: filename=yara-1.7.7-py3-none-any.whl size=62907 sha256=022c2eb70e741586f28a9e3e910238e0d75b519ca2a67b1158d6fb8975727236\n",
      "  Stored in directory: /Users/kingsley/Library/Caches/pip/wheels/cc/f8/25/97bad16a22c87448f2145e87e1c41042f9172345d09072fe28\n",
      "Successfully built yara\n",
      "Installing collected packages: yara\n",
      "Successfully installed yara-1.7.7\n"
     ]
    }
   ],
   "source": [
    "!pip install yara"
   ]
  },
  {
   "cell_type": "code",
   "execution_count": 9,
   "id": "variable-interpretation",
   "metadata": {},
   "outputs": [
    {
     "name": "stdout",
     "output_type": "stream",
     "text": [
      "Failed to import '/Users/kingsley/opt/anaconda3/lib/libyara.so'\n",
      "PATH = /Users/kingsley/opt/anaconda3/bin:/Users/kingsley/.rvm/gems/ruby-2.7.3/bin:/Users/kingsley/.rvm/gems/ruby-2.7.3@global/bin:/Users/kingsley/.rvm/rubies/ruby-2.7.3/bin:/opt/homebrew/bin:/opt/homebrew/sbin:/Users/kingsley/opt/anaconda3/bin:/Users/kingsley/opt/anaconda3/condabin:/usr/local/bin:/usr/bin:/bin:/usr/sbin:/sbin:/Library/Apple/usr/bin:/Users/kingsley/.rvm/bin;/Users/kingsley/opt/anaconda3/lib;/Users/kingsley/opt/anaconda3/lib;/Users/kingsley/opt/anaconda3/lib\n"
     ]
    },
    {
     "ename": "OSError",
     "evalue": "dlopen(/Users/kingsley/opt/anaconda3/lib/libyara.so, 0x0006): tried: '/Users/kingsley/opt/anaconda3/lib/libyara.so' (no such file)",
     "output_type": "error",
     "traceback": [
      "\u001b[0;31m---------------------------------------------------------------------------\u001b[0m",
      "\u001b[0;31mOSError\u001b[0m                                   Traceback (most recent call last)",
      "\u001b[0;32m/var/folders/wc/ngq08f6504j1fthcscsrrp340000gn/T/ipykernel_48822/1824997748.py\u001b[0m in \u001b[0;36m<module>\u001b[0;34m\u001b[0m\n\u001b[1;32m      4\u001b[0m \u001b[0;32mimport\u001b[0m \u001b[0marray\u001b[0m\u001b[0;34m\u001b[0m\u001b[0;34m\u001b[0m\u001b[0m\n\u001b[1;32m      5\u001b[0m \u001b[0;32mimport\u001b[0m \u001b[0mpefile\u001b[0m\u001b[0;34m\u001b[0m\u001b[0;34m\u001b[0m\u001b[0m\n\u001b[0;32m----> 6\u001b[0;31m \u001b[0;32mimport\u001b[0m \u001b[0myara\u001b[0m\u001b[0;34m\u001b[0m\u001b[0;34m\u001b[0m\u001b[0m\n\u001b[0m\u001b[1;32m      7\u001b[0m \u001b[0;32mfrom\u001b[0m \u001b[0mtermcolor\u001b[0m \u001b[0;32mimport\u001b[0m \u001b[0mcolored\u001b[0m\u001b[0;34m\u001b[0m\u001b[0;34m\u001b[0m\u001b[0m\n\u001b[1;32m      8\u001b[0m \u001b[0;32mimport\u001b[0m \u001b[0mcolorama\u001b[0m\u001b[0;34m\u001b[0m\u001b[0;34m\u001b[0m\u001b[0m\n",
      "\u001b[0;32m~/opt/anaconda3/lib/python3.9/site-packages/yara/__init__.py\u001b[0m in \u001b[0;36m<module>\u001b[0;34m\u001b[0m\n\u001b[1;32m      5\u001b[0m \u001b[0;34m\u001b[0m\u001b[0m\n\u001b[1;32m      6\u001b[0m \u001b[0;32mfrom\u001b[0m \u001b[0myara\u001b[0m\u001b[0;34m.\u001b[0m\u001b[0mversion\u001b[0m \u001b[0;32mimport\u001b[0m \u001b[0m__version__\u001b[0m\u001b[0;34m\u001b[0m\u001b[0;34m\u001b[0m\u001b[0m\n\u001b[0;32m----> 7\u001b[0;31m \u001b[0;32mfrom\u001b[0m \u001b[0myara\u001b[0m\u001b[0;34m.\u001b[0m\u001b[0mrules\u001b[0m \u001b[0;32mimport\u001b[0m \u001b[0mcompile\u001b[0m\u001b[0;34m\u001b[0m\u001b[0;34m\u001b[0m\u001b[0m\n\u001b[0m\u001b[1;32m      8\u001b[0m \u001b[0;32mfrom\u001b[0m \u001b[0myara\u001b[0m\u001b[0;34m.\u001b[0m\u001b[0mrules\u001b[0m \u001b[0;32mimport\u001b[0m \u001b[0mYaraSyntaxError\u001b[0m\u001b[0;34m\u001b[0m\u001b[0;34m\u001b[0m\u001b[0m\n\u001b[1;32m      9\u001b[0m \u001b[0;32mfrom\u001b[0m \u001b[0myara\u001b[0m\u001b[0;34m.\u001b[0m\u001b[0mrules\u001b[0m \u001b[0;32mimport\u001b[0m \u001b[0mload_rules\u001b[0m\u001b[0;34m\u001b[0m\u001b[0;34m\u001b[0m\u001b[0m\n",
      "\u001b[0;32m~/opt/anaconda3/lib/python3.9/site-packages/yara/rules.py\u001b[0m in \u001b[0;36m<module>\u001b[0;34m\u001b[0m\n\u001b[1;32m     15\u001b[0m \u001b[0;34m\u001b[0m\u001b[0m\n\u001b[1;32m     16\u001b[0m \u001b[0;32mfrom\u001b[0m \u001b[0myara\u001b[0m\u001b[0;34m.\u001b[0m\u001b[0mpreprocessor\u001b[0m \u001b[0;32mimport\u001b[0m \u001b[0mpreprocess\u001b[0m\u001b[0;34m\u001b[0m\u001b[0;34m\u001b[0m\u001b[0m\n\u001b[0;32m---> 17\u001b[0;31m \u001b[0;32mfrom\u001b[0m \u001b[0myara\u001b[0m\u001b[0;34m.\u001b[0m\u001b[0mlibyara_wrapper\u001b[0m \u001b[0;32mimport\u001b[0m \u001b[0;34m*\u001b[0m\u001b[0;34m\u001b[0m\u001b[0;34m\u001b[0m\u001b[0m\n\u001b[0m\u001b[1;32m     18\u001b[0m \u001b[0;34m\u001b[0m\u001b[0m\n\u001b[1;32m     19\u001b[0m \u001b[0;34m\u001b[0m\u001b[0m\n",
      "\u001b[0;32m~/opt/anaconda3/lib/python3.9/site-packages/yara/libyara_wrapper.py\u001b[0m in \u001b[0;36m<module>\u001b[0;34m\u001b[0m\n\u001b[1;32m    313\u001b[0m \u001b[0mos\u001b[0m\u001b[0;34m.\u001b[0m\u001b[0menviron\u001b[0m\u001b[0;34m[\u001b[0m\u001b[0;34m'PATH'\u001b[0m\u001b[0;34m]\u001b[0m \u001b[0;34m+=\u001b[0m \u001b[0;34m\";%s\"\u001b[0m \u001b[0;34m%\u001b[0m \u001b[0mdllpath\u001b[0m\u001b[0;34m\u001b[0m\u001b[0;34m\u001b[0m\u001b[0m\n\u001b[1;32m    314\u001b[0m \u001b[0;32mtry\u001b[0m\u001b[0;34m:\u001b[0m\u001b[0;34m\u001b[0m\u001b[0;34m\u001b[0m\u001b[0m\n\u001b[0;32m--> 315\u001b[0;31m     \u001b[0mlibyaradll\u001b[0m \u001b[0;34m=\u001b[0m \u001b[0mcdll\u001b[0m\u001b[0;34m.\u001b[0m\u001b[0mLoadLibrary\u001b[0m\u001b[0;34m(\u001b[0m\u001b[0mlibrary\u001b[0m\u001b[0;34m)\u001b[0m\u001b[0;34m\u001b[0m\u001b[0;34m\u001b[0m\u001b[0m\n\u001b[0m\u001b[1;32m    316\u001b[0m \u001b[0;32mexcept\u001b[0m \u001b[0mException\u001b[0m \u001b[0;32mas\u001b[0m \u001b[0merr\u001b[0m\u001b[0;34m:\u001b[0m\u001b[0;34m\u001b[0m\u001b[0;34m\u001b[0m\u001b[0m\n\u001b[1;32m    317\u001b[0m     \u001b[0mprint\u001b[0m\u001b[0;34m(\u001b[0m\u001b[0;34m\"Failed to import '%s'\"\u001b[0m \u001b[0;34m%\u001b[0m \u001b[0mlibrary\u001b[0m\u001b[0;34m)\u001b[0m\u001b[0;34m\u001b[0m\u001b[0;34m\u001b[0m\u001b[0m\n",
      "\u001b[0;32m~/opt/anaconda3/lib/python3.9/ctypes/__init__.py\u001b[0m in \u001b[0;36mLoadLibrary\u001b[0;34m(self, name)\u001b[0m\n\u001b[1;32m    458\u001b[0m \u001b[0;34m\u001b[0m\u001b[0m\n\u001b[1;32m    459\u001b[0m     \u001b[0;32mdef\u001b[0m \u001b[0mLoadLibrary\u001b[0m\u001b[0;34m(\u001b[0m\u001b[0mself\u001b[0m\u001b[0;34m,\u001b[0m \u001b[0mname\u001b[0m\u001b[0;34m)\u001b[0m\u001b[0;34m:\u001b[0m\u001b[0;34m\u001b[0m\u001b[0;34m\u001b[0m\u001b[0m\n\u001b[0;32m--> 460\u001b[0;31m         \u001b[0;32mreturn\u001b[0m \u001b[0mself\u001b[0m\u001b[0;34m.\u001b[0m\u001b[0m_dlltype\u001b[0m\u001b[0;34m(\u001b[0m\u001b[0mname\u001b[0m\u001b[0;34m)\u001b[0m\u001b[0;34m\u001b[0m\u001b[0;34m\u001b[0m\u001b[0m\n\u001b[0m\u001b[1;32m    461\u001b[0m \u001b[0;34m\u001b[0m\u001b[0m\n\u001b[1;32m    462\u001b[0m     \u001b[0m__class_getitem__\u001b[0m \u001b[0;34m=\u001b[0m \u001b[0mclassmethod\u001b[0m\u001b[0;34m(\u001b[0m\u001b[0m_types\u001b[0m\u001b[0;34m.\u001b[0m\u001b[0mGenericAlias\u001b[0m\u001b[0;34m)\u001b[0m\u001b[0;34m\u001b[0m\u001b[0;34m\u001b[0m\u001b[0m\n",
      "\u001b[0;32m~/opt/anaconda3/lib/python3.9/ctypes/__init__.py\u001b[0m in \u001b[0;36m__init__\u001b[0;34m(self, name, mode, handle, use_errno, use_last_error, winmode)\u001b[0m\n\u001b[1;32m    380\u001b[0m \u001b[0;34m\u001b[0m\u001b[0m\n\u001b[1;32m    381\u001b[0m         \u001b[0;32mif\u001b[0m \u001b[0mhandle\u001b[0m \u001b[0;32mis\u001b[0m \u001b[0;32mNone\u001b[0m\u001b[0;34m:\u001b[0m\u001b[0;34m\u001b[0m\u001b[0;34m\u001b[0m\u001b[0m\n\u001b[0;32m--> 382\u001b[0;31m             \u001b[0mself\u001b[0m\u001b[0;34m.\u001b[0m\u001b[0m_handle\u001b[0m \u001b[0;34m=\u001b[0m \u001b[0m_dlopen\u001b[0m\u001b[0;34m(\u001b[0m\u001b[0mself\u001b[0m\u001b[0;34m.\u001b[0m\u001b[0m_name\u001b[0m\u001b[0;34m,\u001b[0m \u001b[0mmode\u001b[0m\u001b[0;34m)\u001b[0m\u001b[0;34m\u001b[0m\u001b[0;34m\u001b[0m\u001b[0m\n\u001b[0m\u001b[1;32m    383\u001b[0m         \u001b[0;32melse\u001b[0m\u001b[0;34m:\u001b[0m\u001b[0;34m\u001b[0m\u001b[0;34m\u001b[0m\u001b[0m\n\u001b[1;32m    384\u001b[0m             \u001b[0mself\u001b[0m\u001b[0;34m.\u001b[0m\u001b[0m_handle\u001b[0m \u001b[0;34m=\u001b[0m \u001b[0mhandle\u001b[0m\u001b[0;34m\u001b[0m\u001b[0;34m\u001b[0m\u001b[0m\n",
      "\u001b[0;31mOSError\u001b[0m: dlopen(/Users/kingsley/opt/anaconda3/lib/libyara.so, 0x0006): tried: '/Users/kingsley/opt/anaconda3/lib/libyara.so' (no such file)"
     ]
    }
   ],
   "source": [
    "\n",
    "import os\n",
    "import hashlib\n",
    "import math\n",
    "import array\n",
    "import pefile\n",
    "import yara\n",
    "from termcolor import colored\n",
    "import colorama\n",
    "\n",
    "\n",
    "# Function get md5 calculates the md5 hash of a given file.\n",
    "def get_md5(file):\n",
    "    \n",
    "    # Note that sometimes you won't be able to fit the whole file in memory.\n",
    "    # In that case, you'll have to read chunks of 4096 bytes\n",
    "    # sequentially and feed them to the Md5 function:\n",
    "    # https://stackoverflow.com/questions/3431825/generating-an-md5-checksum-of-a-file\n",
    "    \n",
    "    md5 = hashlib.md5()\n",
    "    with open(file, \"rb\") as f:\n",
    "        for chunk in iter(lambda: f.read(4096), b\"\"):\n",
    "            md5.update(chunk)\n",
    "        return md5.hexdigest()\n",
    "\n",
    "# Function compile bitcoin compiles the yara rule for detecting\n",
    "# bitcoin addresses within ransomware files. The rule is then\n",
    "# saved in a directory to later be used.\n",
    "def compile_bitcoin():\n",
    "    if not os.path.isdir(\"rules_compiled/Bitcoin\"):\n",
    "        os.makedirs(\"rules_compiled/Bitcoin\")\n",
    "        print(\"success\")\n",
    "\n",
    "    for n in os.listdir(\"rules/Bitcoin\"):\n",
    "        rule = yara.compile(\"rules/Bitcoin/\" + n)\n",
    "        rule.save(\"rules_compiled/Bitcoin/\" + n)\n",
    "\n",
    "# Function check bitcoin loads the bitcoin yara rule\n",
    "# and checks a file for any signs of bitcoin addresses.\n",
    "# If a bitcoin address is found a binary 1 is returned.\n",
    "def check_bitcoin(filepath):\n",
    "    for n in os.listdir(\"rules/Bitcoin\"):\n",
    "        rule = yara.load(\"rules_compiled/Bitcoin/\" + n)\n",
    "        m = rule.match(filepath)\n",
    "        if m:\n",
    "            return 1\n",
    "        else:\n",
    "            return 0\n",
    "\n",
    "# Function extract features extracts all features from the input file.\n",
    "# Features are stored in a list and then returned to later be written to\n",
    "# a csv file. \n",
    "def extract_features(file):\n",
    "    # Creates an empty list for which features can later be appended into.\n",
    "    features = []\n",
    "\n",
    "    # Name of file\n",
    "    features.append(os.path.basename(file))\n",
    "\n",
    "    # MD5 hash\n",
    "    features.append(get_md5(file))\n",
    "\n",
    "    # Assigns pe to the input file. fast_load loads all directory information.\n",
    "    pe = pefile.PE(file, fast_load=True)\n",
    "\n",
    "    # CPU that the file is intended for.\n",
    "    features.append(pe.FILE_HEADER.Machine)\n",
    "\n",
    "    # DebugSize is the size of the debug directory table. Clean files typically have a debug directory\n",
    "    # and thus, will have a non-zero values.\n",
    "    features.append(pe.OPTIONAL_HEADER.DATA_DIRECTORY[6].Size)\n",
    "\n",
    "    # DebugRVA\n",
    "    features.append(pe.OPTIONAL_HEADER.DATA_DIRECTORY[6].VirtualAddress)\n",
    "\n",
    "    # MajorImageVersion is the version of the file. This is user defined and for clean programs is often\n",
    "    # populated. Malware often has a value of 0 for this.\n",
    "    features.append(pe.OPTIONAL_HEADER.MajorImageVersion)\n",
    "\n",
    "    # MajorOSVersion is the major operating system required to run exe.\n",
    "    features.append(pe.OPTIONAL_HEADER.MajorOperatingSystemVersion)\n",
    "\n",
    "    # ExportRVA.\n",
    "    features.append(pe.OPTIONAL_HEADER.DATA_DIRECTORY[0].VirtualAddress)\n",
    "\n",
    "    # ExportSize is the size of the export table. Usually non-zero for clean files.\n",
    "    features.append(pe.OPTIONAL_HEADER.DATA_DIRECTORY[0].Size)\n",
    "\n",
    "    # IatRVA is the relative virtual address of import address table. Most clean files have 4096 for this\n",
    "    # where as malware often has 0 or a very large number.\n",
    "    features.append(pe.OPTIONAL_HEADER.DATA_DIRECTORY[12].VirtualAddress)\n",
    "\n",
    "    # Version of linker that produced file.\n",
    "    features.append(pe.OPTIONAL_HEADER.MajorLinkerVersion)\n",
    "    features.append(pe.OPTIONAL_HEADER.MinorLinkerVersion)\n",
    "\n",
    "    # NumberOfSections is the number of sections in file.\n",
    "    features.append(pe.FILE_HEADER.NumberOfSections)\n",
    "\n",
    "    # SizeOfStackReserve denotes the amount of virtual memory to reserve for the initial thread's stack.\n",
    "    features.append(pe.OPTIONAL_HEADER.SizeOfStackReserve)\n",
    "\n",
    "    # DllCharacteristics is a set of flags indicating under which circumstances a DLL's initialization\n",
    "    # function will be called.\n",
    "    features.append(pe.OPTIONAL_HEADER.DllCharacteristics)\n",
    "\n",
    "    # MinResourcesSize is the size of resources section of PE header. Malware sometimes has 0 resources.\n",
    "    features.append(pe.OPTIONAL_HEADER.DATA_DIRECTORY[2].Size)\n",
    "\n",
    "    # Calls the bitcoin_check function to check if the file contains a bitcoin address.\n",
    "    bitcoin_check = check_bitcoin(file)\n",
    "    features.append(bitcoin_check)\n",
    "\n",
    "    # Returns the feature list.\n",
    "    return features\n",
    "\n"
   ]
  },
  {
   "cell_type": "code",
   "execution_count": 2,
   "id": "productive-trailer",
   "metadata": {},
   "outputs": [
    {
     "ename": "FileNotFoundError",
     "evalue": "[WinError 3] The system cannot find the path specified: 'rules/Bitcoin'",
     "output_type": "error",
     "traceback": [
      "\u001b[1;31m---------------------------------------------------------------------------\u001b[0m",
      "\u001b[1;31mFileNotFoundError\u001b[0m                         Traceback (most recent call last)",
      "\u001b[1;32m<ipython-input-2-773af4f9048d>\u001b[0m in \u001b[0;36m<module>\u001b[1;34m\u001b[0m\n\u001b[1;32m----> 1\u001b[1;33m \u001b[0mextract_features\u001b[0m\u001b[1;33m(\u001b[0m\u001b[1;34mr'C:\\Users\\Mustapha\\Desktop\\New_folder_(2)\\Django_project\\security\\MLRD-Machine-Learning-Ransomware-Detection\\benign\\normalizer.exe'\u001b[0m\u001b[1;33m)\u001b[0m\u001b[1;33m\u001b[0m\u001b[1;33m\u001b[0m\u001b[0m\n\u001b[0m",
      "\u001b[1;32m<ipython-input-1-7dd0122167ac>\u001b[0m in \u001b[0;36mextract_features\u001b[1;34m(file)\u001b[0m\n\u001b[0;32m    108\u001b[0m \u001b[1;33m\u001b[0m\u001b[0m\n\u001b[0;32m    109\u001b[0m     \u001b[1;31m# Calls the bitcoin_check function to check if the file contains a bitcoin address.\u001b[0m\u001b[1;33m\u001b[0m\u001b[1;33m\u001b[0m\u001b[1;33m\u001b[0m\u001b[0m\n\u001b[1;32m--> 110\u001b[1;33m     \u001b[0mbitcoin_check\u001b[0m \u001b[1;33m=\u001b[0m \u001b[0mcheck_bitcoin\u001b[0m\u001b[1;33m(\u001b[0m\u001b[0mfile\u001b[0m\u001b[1;33m)\u001b[0m\u001b[1;33m\u001b[0m\u001b[1;33m\u001b[0m\u001b[0m\n\u001b[0m\u001b[0;32m    111\u001b[0m     \u001b[0mfeatures\u001b[0m\u001b[1;33m.\u001b[0m\u001b[0mappend\u001b[0m\u001b[1;33m(\u001b[0m\u001b[0mbitcoin_check\u001b[0m\u001b[1;33m)\u001b[0m\u001b[1;33m\u001b[0m\u001b[1;33m\u001b[0m\u001b[0m\n\u001b[0;32m    112\u001b[0m \u001b[1;33m\u001b[0m\u001b[0m\n",
      "\u001b[1;32m<ipython-input-1-7dd0122167ac>\u001b[0m in \u001b[0;36mcheck_bitcoin\u001b[1;34m(filepath)\u001b[0m\n\u001b[0;32m     39\u001b[0m \u001b[1;31m# If a bitcoin address is found a binary 1 is returned.\u001b[0m\u001b[1;33m\u001b[0m\u001b[1;33m\u001b[0m\u001b[1;33m\u001b[0m\u001b[0m\n\u001b[0;32m     40\u001b[0m \u001b[1;32mdef\u001b[0m \u001b[0mcheck_bitcoin\u001b[0m\u001b[1;33m(\u001b[0m\u001b[0mfilepath\u001b[0m\u001b[1;33m)\u001b[0m\u001b[1;33m:\u001b[0m\u001b[1;33m\u001b[0m\u001b[1;33m\u001b[0m\u001b[0m\n\u001b[1;32m---> 41\u001b[1;33m     \u001b[1;32mfor\u001b[0m \u001b[0mn\u001b[0m \u001b[1;32min\u001b[0m \u001b[0mos\u001b[0m\u001b[1;33m.\u001b[0m\u001b[0mlistdir\u001b[0m\u001b[1;33m(\u001b[0m\u001b[1;34m\"rules/Bitcoin\"\u001b[0m\u001b[1;33m)\u001b[0m\u001b[1;33m:\u001b[0m\u001b[1;33m\u001b[0m\u001b[1;33m\u001b[0m\u001b[0m\n\u001b[0m\u001b[0;32m     42\u001b[0m         \u001b[0mrule\u001b[0m \u001b[1;33m=\u001b[0m \u001b[0myara\u001b[0m\u001b[1;33m.\u001b[0m\u001b[0mload\u001b[0m\u001b[1;33m(\u001b[0m\u001b[1;34m\"rules_compiled/Bitcoin/\"\u001b[0m \u001b[1;33m+\u001b[0m \u001b[0mn\u001b[0m\u001b[1;33m)\u001b[0m\u001b[1;33m\u001b[0m\u001b[1;33m\u001b[0m\u001b[0m\n\u001b[0;32m     43\u001b[0m         \u001b[0mm\u001b[0m \u001b[1;33m=\u001b[0m \u001b[0mrule\u001b[0m\u001b[1;33m.\u001b[0m\u001b[0mmatch\u001b[0m\u001b[1;33m(\u001b[0m\u001b[0mfilepath\u001b[0m\u001b[1;33m)\u001b[0m\u001b[1;33m\u001b[0m\u001b[1;33m\u001b[0m\u001b[0m\n",
      "\u001b[1;31mFileNotFoundError\u001b[0m: [WinError 3] The system cannot find the path specified: 'rules/Bitcoin'"
     ]
    }
   ],
   "source": [
    "extract_features(r'C:\\Users\\Mustapha\\Desktop\\New_folder_(2)\\Django_project\\security\\MLRD-Machine-Learning-Ransomware-Detection\\benign\\normalizer.exe')"
   ]
  },
  {
   "cell_type": "code",
   "execution_count": 14,
   "id": "legislative-suffering",
   "metadata": {},
   "outputs": [],
   "source": [
    "def get_md5(file):\n",
    "    \n",
    "    # Note that sometimes you won't be able to fit the whole file in memory.\n",
    "    # In that case, you'll have to read chunks of 4096 bytes\n",
    "    # sequentially and feed them to the Md5 function:\n",
    "    # https://stackoverflow.com/questions/3431825/generating-an-md5-checksum-of-a-file\n",
    "    \n",
    "    md5 = hashlib.md5()\n",
    "    with open(file, \"rb\") as f:\n",
    "        for chunk in iter(lambda: f.read(4096), b\"\"):\n",
    "            md5.update(chunk)\n",
    "        return md5.hexdigest()"
   ]
  },
  {
   "cell_type": "code",
   "execution_count": 15,
   "id": "square-vertical",
   "metadata": {},
   "outputs": [
    {
     "data": {
      "text/plain": [
       "'46de421fa3f48785fdcf7572d08f61f7'"
      ]
     },
     "execution_count": 15,
     "metadata": {},
     "output_type": "execute_result"
    }
   ],
   "source": [
    "get_md5(r'C:\\Users\\Mustapha\\Desktop\\New_folder_(2)\\Django_project\\security\\MLRD-Machine-Learning-Ransomware-Detection\\benign\\normalizer.exe')"
   ]
  },
  {
   "cell_type": "code",
   "execution_count": 16,
   "id": "geological-reason",
   "metadata": {},
   "outputs": [],
   "source": [
    "def compile_bitcoin():\n",
    "    if not os.path.isdir(\"rules_compiled/Bitcoin\"):\n",
    "        os.makedirs(\"rules_compiled/Bitcoin\")\n",
    "        print(\"success\")\n"
   ]
  },
  {
   "cell_type": "code",
   "execution_count": 17,
   "id": "detected-press",
   "metadata": {},
   "outputs": [
    {
     "name": "stdout",
     "output_type": "stream",
     "text": [
      "success\n"
     ]
    }
   ],
   "source": [
    "compile_bitcoin()"
   ]
  },
  {
   "cell_type": "code",
   "execution_count": 18,
   "id": "located-photography",
   "metadata": {},
   "outputs": [],
   "source": [
    "def check_bitcoin(filepath):\n",
    "    for n in os.listdir(\"rules/Bitcoin\"):\n",
    "        rule = yara.load(\"rules_compiled/Bitcoin/\" + n)\n",
    "        m = rule.match(filepath)\n",
    "        if m:\n",
    "            return 1\n",
    "        else:\n",
    "            return 0"
   ]
  },
  {
   "cell_type": "code",
   "execution_count": 20,
   "id": "personalized-pregnancy",
   "metadata": {},
   "outputs": [],
   "source": [
    "#  check_bitcoin(r'C:\\Users\\Mustapha\\Desktop\\New_folder_(2)\\Django_project\\security\\MLRD-Machine-Learning-Ransomware-Detection\\benign\\normalizer.exe')"
   ]
  },
  {
   "cell_type": "code",
   "execution_count": null,
   "id": "parliamentary-painting",
   "metadata": {},
   "outputs": [],
   "source": []
  }
 ],
 "metadata": {
  "kernelspec": {
   "display_name": "Python 3.9.7 ('base')",
   "language": "python",
   "name": "python3"
  },
  "language_info": {
   "codemirror_mode": {
    "name": "ipython",
    "version": 3
   },
   "file_extension": ".py",
   "mimetype": "text/x-python",
   "name": "python",
   "nbconvert_exporter": "python",
   "pygments_lexer": "ipython3",
   "version": "3.9.7"
  },
  "vscode": {
   "interpreter": {
    "hash": "0a1a5d0390d8f49c469b5fb03955e5690aa794ff5fcac2a8a0a0d9dac2b6f4a6"
   }
  }
 },
 "nbformat": 4,
 "nbformat_minor": 5
}
