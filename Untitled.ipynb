{
 "cells": [
  {
   "cell_type": "code",
   "execution_count": 1,
   "id": "injured-brick",
   "metadata": {},
   "outputs": [],
   "source": [
    "import hashlib\n",
    "import os.path\n",
    "from os import listdir\n",
    "from os.path import isfile, join"
   ]
  },
  {
   "cell_type": "code",
   "execution_count": 25,
   "id": "architectural-booth",
   "metadata": {},
   "outputs": [
    {
     "data": {
      "text/plain": [
       "['baseline.txt', 'New Text Document.txt', 'text.txt']"
      ]
     },
     "execution_count": 25,
     "metadata": {},
     "output_type": "execute_result"
    }
   ],
   "source": [
    "#getting all the files names at the folder\n",
    "def nameOfFiles():\n",
    "    filesNames = [f for f in listdir(\"files\") if isfile(join(\"files\", f))]\n",
    "    return(filesNames)\n",
    "nameOfFiles()"
   ]
  },
  {
   "cell_type": "code",
   "execution_count": 13,
   "id": "adverse-apparatus",
   "metadata": {},
   "outputs": [],
   "source": [
    "#calculate the digest of each file and append to a final file\n",
    "#that will later save to a txt\n",
    "def main():\n",
    "    filesHash = ''\n",
    "    sha512 = hashlib.sha512()\n",
    "    for i in filesNames:\n",
    "        with open(\"files/\"+ i, \"rb\") as f:\n",
    "            while True:\n",
    "                data = f.read()\n",
    "                if not data:\n",
    "                    break\n",
    "                sha512.update(data)\n",
    "                filesHash+=(sha512.hexdigest())\n",
    "    return(filesHash)"
   ]
  },
  {
   "cell_type": "code",
   "execution_count": 14,
   "id": "suburban-occasions",
   "metadata": {},
   "outputs": [],
   "source": [
    "def createControlFile():\n",
    "    with open('fileControlData.txt','w',encoding = 'utf-8') as f:\n",
    "        for i in fileControl: f.write(i)\n",
    "    print(\"File generated!\")"
   ]
  },
  {
   "cell_type": "code",
   "execution_count": 24,
   "id": "universal-sixth",
   "metadata": {},
   "outputs": [
    {
     "name": "stdout",
     "output_type": "stream",
     "text": [
      "The files have been changed, do you wanna to recreate the control File?(y/n)y\n",
      "File generated!\n"
     ]
    }
   ],
   "source": [
    "filesNames = nameOfFiles()\n",
    "fileControl = main()\n",
    "if os.path.exists(\"fileControlData.txt\") is True:\n",
    "    with open('fileControlData.txt','r',encoding = 'utf-8') as file:\n",
    "        file = file.read()\n",
    "        if file == fileControl:\n",
    "            print(\"The files are intact!\")\n",
    "        else:\n",
    "            if len(fileControl)> len(file):\n",
    "                answer = input(\"A file was added, do you wanna to recreate the control File?(y/n)\").lower()\n",
    "                if answer == \"y\":\n",
    "                    createControlFile()\n",
    "            elif len(fileControl)< len(file): \n",
    "                answer = input(\"A file was removed, do you wanna to recreate the control File?(y/n)\").lower()\n",
    "                if answer == \"y\":\n",
    "                    createControlFile()\n",
    "            else:\n",
    "                answer = input(\"The files have been changed, do you wanna to recreate the control File?(y/n)\").lower()            \n",
    "                if answer == \"y\":\n",
    "                    createControlFile()\n",
    "else:\n",
    "    createControlFile()"
   ]
  },
  {
   "cell_type": "code",
   "execution_count": null,
   "id": "surprised-devil",
   "metadata": {},
   "outputs": [],
   "source": []
  },
  {
   "cell_type": "code",
   "execution_count": null,
   "id": "behavioral-climb",
   "metadata": {},
   "outputs": [],
   "source": []
  },
  {
   "cell_type": "code",
   "execution_count": null,
   "id": "higher-track",
   "metadata": {},
   "outputs": [],
   "source": []
  },
  {
   "cell_type": "code",
   "execution_count": null,
   "id": "experienced-finish",
   "metadata": {},
   "outputs": [],
   "source": []
  },
  {
   "cell_type": "code",
   "execution_count": null,
   "id": "animal-technique",
   "metadata": {},
   "outputs": [],
   "source": []
  },
  {
   "cell_type": "code",
   "execution_count": null,
   "id": "geographic-rapid",
   "metadata": {},
   "outputs": [],
   "source": []
  },
  {
   "cell_type": "code",
   "execution_count": null,
   "id": "wooden-costume",
   "metadata": {},
   "outputs": [],
   "source": []
  },
  {
   "cell_type": "code",
   "execution_count": null,
   "id": "associate-africa",
   "metadata": {},
   "outputs": [],
   "source": []
  },
  {
   "cell_type": "code",
   "execution_count": null,
   "id": "rocky-elder",
   "metadata": {},
   "outputs": [],
   "source": []
  },
  {
   "cell_type": "code",
   "execution_count": null,
   "id": "resident-party",
   "metadata": {},
   "outputs": [],
   "source": []
  }
 ],
 "metadata": {
  "kernelspec": {
   "display_name": "Python 3",
   "language": "python",
   "name": "python3"
  },
  "language_info": {
   "codemirror_mode": {
    "name": "ipython",
    "version": 3
   },
   "file_extension": ".py",
   "mimetype": "text/x-python",
   "name": "python",
   "nbconvert_exporter": "python",
   "pygments_lexer": "ipython3",
   "version": "3.8.8"
  }
 },
 "nbformat": 4,
 "nbformat_minor": 5
}
